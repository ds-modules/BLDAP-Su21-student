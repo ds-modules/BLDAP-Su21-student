{
 "cells": [
  {
   "cell_type": "markdown",
   "metadata": {},
   "source": [
    "<img src=\"lbnl_logo.jpg\">\n",
    "\n",
    "----\n",
    "\n",
    "\n",
    "\n",
    "\n",
    "# Genomics Challenge Lab - Day 3\n",
    "\n",
    "\n",
    "\n",
    "---"
   ]
  },
  {
   "cell_type": "code",
   "execution_count": null,
   "metadata": {},
   "outputs": [],
   "source": [
    "import pandas as pd\n",
    "import matplotlib.pyplot as plt\n",
    "import numpy as np\n",
    "import seaborn as sns"
   ]
  },
  {
   "cell_type": "markdown",
   "metadata": {},
   "source": [
    "<img src=\"algae.png\" align=\"left\">"
   ]
  },
  {
   "cell_type": "markdown",
   "metadata": {},
   "source": [
    "Load yesterday's normalized table into `rna_data`. Recall that we saved yesterday's work into a file called \"rna_by_read_depth.csv\". Double check that `rna_data` is what it looked like yesterday. The labels should be completely updated, and the data table's values should be proportions."
   ]
  },
  {
   "cell_type": "code",
   "execution_count": null,
   "metadata": {},
   "outputs": [],
   "source": [
    "# EXERCISE\n",
    "\n",
    "rna_data = pd.read_csv(\"rna_by_read_depth.csv\", index_col=0) #SOLUTION\n",
    "rna_data.head()"
   ]
  },
  {
   "cell_type": "markdown",
   "metadata": {},
   "source": [
    "## Normalizing the Data Again"
   ]
  },
  {
   "cell_type": "markdown",
   "metadata": {},
   "source": [
    "### 1. New Gene Information"
   ]
  },
  {
   "cell_type": "markdown",
   "metadata": {},
   "source": [
    "Now you know how to apply normalization by row. Let's think about _what_ we want to normalize by. Each row represents a specific gene, so it might be worthwhile to consider the length of a gene. Different genes have different lengths, so let's check out the lengths of our genes."
   ]
  },
  {
   "cell_type": "markdown",
   "metadata": {},
   "source": [
    "**Question 1** Why would the length of a gene matter?"
   ]
  },
  {
   "cell_type": "markdown",
   "metadata": {},
   "source": [
    "_Your answer here_"
   ]
  },
  {
   "cell_type": "markdown",
   "metadata": {},
   "source": [
    "In the cell below, load the information we have on each gene via the \"gene_info.info\" file. Like the original `rna_data` table, this file is separated by tabs instead of commas. Indicate this in your function call with the argument `sep=...`.\n",
    "\n",
    "_Hint_: if you forgot what to put in the ellipses (...), check what you did on day 1!"
   ]
  },
  {
   "cell_type": "code",
   "execution_count": null,
   "metadata": {},
   "outputs": [],
   "source": [
    "# EXERCISE\n",
    "\n",
    "...\n",
    "gene_info.head()"
   ]
  },
  {
   "cell_type": "markdown",
   "metadata": {},
   "source": [
    "This data table gives us a lot of interesting information! First, our index is `geneID`, which seems similar to our `tracking_id` column in `rna_data`. The column `chrom` tells us what chromosome the gene can be found on, and the columns `start` and `stop` tell us where the gene begins and ends on that chromosome. Finally, `length` refers to how long that specific gene is.\n",
    "\n",
    "The last column would be the most useful to us for row normalization. Genes that are of longer lengths may produce more reads than those of shorter lengths, so we need to take that into account. Let's normalize `rna_data` by each row's gene length."
   ]
  },
  {
   "cell_type": "markdown",
   "metadata": {},
   "source": [
    "First, we want to check whether or not the gene IDs of `gene_info` are in the same order as the gene IDs in `rna_data`. Do this in the next cell and keep in mind that the gene IDs of both data tables are the table indices.\n",
    "\n",
    "1. Get the indices of both tables and assign them them to `gene_info_ids` and `rna_data_ids`.\n",
    "2. Compare the gene ID arrays using a boolean statement.\n",
    "3. Count how many indices match up.\n",
    "    - Recall that 'True' = 1 and 'False' = 0.\n",
    "4. Verify that the number of matching gene IDs is the number of genes in the `rna_data` table."
   ]
  },
  {
   "cell_type": "code",
   "execution_count": null,
   "metadata": {},
   "outputs": [],
   "source": [
    "# EXERCISE\n",
    "\n",
    "gene_info_ids = gene_info.index \n",
    "rna_data_ids = ...\n",
    "\n",
    "matches = (... == ...) \n",
    "num_matches = sum(matches)\n",
    "\n",
    "rna_data_num_rows = rna_data.shape[0]\n",
    "same_order = (num_matches == rna_data_num_rows)\n",
    "\n",
    "print(\"The gene IDs are in the same order as the tracking IDs: \" + str(same_order))"
   ]
  },
  {
   "cell_type": "markdown",
   "metadata": {},
   "source": [
    "Based on the above statement, we can see that the gene ID columns are in the same order for `gene_info` and `rna_data`. This means we can take the `length` information from `gene_info` with full confidence that it will be in the same order as the corresponding genes in `rna_data`.\n",
    "\n",
    "Do that in the next cell."
   ]
  },
  {
   "cell_type": "code",
   "execution_count": null,
   "metadata": {},
   "outputs": [],
   "source": [
    "# EXERCISE\n",
    "\n",
    "gene_lengths = ..."
   ]
  },
  {
   "cell_type": "markdown",
   "metadata": {},
   "source": [
    "Let's take a quick peek at the gene lengths of the first 100 genes!"
   ]
  },
  {
   "cell_type": "code",
   "execution_count": null,
   "metadata": {},
   "outputs": [],
   "source": [
    "x_axis = rna_data.index[0:100]\n",
    "y_axis = gene_lengths[0:100]\n",
    "\n",
    "plt.bar(x_axis, y_axis)\n",
    "plt.title(\"Genes vs. Gene Length\")\n",
    "plt.xlabel(\"Genes\")\n",
    "plt.ylabel(\"Length\")\n",
    "plt.show;"
   ]
  },
  {
   "cell_type": "markdown",
   "metadata": {},
   "source": [
    "Wow! Gene lengths vary by a lot, and these are only the first 100 gene lengths! Once again, it is a good thing we have decided to normalize our data to account for this variability in gene lengths. Let's finalize our normalization in the next section."
   ]
  },
  {
   "cell_type": "markdown",
   "metadata": {},
   "source": [
    "### 2. Normalization by Gene Length"
   ]
  },
  {
   "cell_type": "markdown",
   "metadata": {},
   "source": [
    "In the previous sections, you have learned how to normalize data by rows (via transposing) and what we would like to normalize the rows of `rna_data` by. Let's combine what you learned and normalize `rna_data` by gene length!"
   ]
  },
  {
   "cell_type": "markdown",
   "metadata": {},
   "source": [
    "In the next cell, create a function that normalizes `rna_data` by rows. Recall from the \"Transposing Data\" section that this requires two `np.transpose()` calls and should return the table in the same structure it was originally in."
   ]
  },
  {
   "cell_type": "code",
   "execution_count": null,
   "metadata": {
    "id": "MGPREFlrfU2I"
   },
   "outputs": [],
   "source": [
    "# EXERCISE\n",
    "\n",
    "def normalizeByGene(data, gene_length_list):\n",
    "    return np.transpose(.../...) "
   ]
  },
  {
   "cell_type": "markdown",
   "metadata": {},
   "source": [
    "Well done! We now have a function that normalizes by row and an array of values that we would like to normalize by. In the next cell, we normalize `rna_data` by `gene_lengths`. \n",
    "\n",
    "You might notice that the numbers are incredibly small. Recall that these values are gene reads as proportions of their gene lengths as well as gene reads as proportions of all samples' total reads. "
   ]
  },
  {
   "cell_type": "code",
   "execution_count": null,
   "metadata": {},
   "outputs": [],
   "source": [
    "rna_by_gene_len = normalizeByGene(rna_data, gene_lengths)\n",
    "rna_by_gene_len.head()"
   ]
  },
  {
   "cell_type": "markdown",
   "metadata": {},
   "source": [
    "### 4. What effect did normalization have?"
   ]
  },
  {
   "cell_type": "markdown",
   "metadata": {},
   "source": [
    "Let's see how our data changed for gene `Cz01g00040` after normalizing the data by gene lengths."
   ]
  },
  {
   "cell_type": "markdown",
   "metadata": {},
   "source": [
    "Once again, let's create a plot that visualizes the normalized reads for `Cz01g00040` in `rna_data`. Remember that `rna_data` is our data normalized by read depths _only_. This visualization will be the same as what you saw yesterday, so we have provided the code for you."
   ]
  },
  {
   "cell_type": "code",
   "execution_count": null,
   "metadata": {},
   "outputs": [],
   "source": [
    "x_axis = rna_data.columns\n",
    "y_axis = rna_data.loc[\"Cz01g00040\", :]\n",
    "\n",
    "plt.scatter(x_axis, y_axis)\n",
    "plt.title(\"Samples vs. Normalized CZ01g00040 (Read Depth)\")\n",
    "plt.xlabel(\"Samples\")\n",
    "plt.ylabel(\"Normalized CZ01g00040 Reads\")\n",
    "plt.xticks(rotation=90)\n",
    "plt.show;"
   ]
  },
  {
   "cell_type": "markdown",
   "metadata": {},
   "source": [
    "In this next cell, you should visualize the normalized reads for `Cz01g00040` in `rna_by_gene_len`. This is the data from the previous visualization normalized by gene lengths. "
   ]
  },
  {
   "cell_type": "code",
   "execution_count": null,
   "metadata": {},
   "outputs": [],
   "source": [
    "# EXERCISE\n",
    "\n",
    "x_axis = ...\n",
    "y_axis = ... # \"Cz01g00040\" onwards\n",
    "\n",
    "plt.scatter(x_axis, y_axis)\n",
    "plt.title(\"Samples vs. Normalized CZ01g00040 (Read Depth, Gene Length)\")\n",
    "plt.xlabel(\"Samples\")\n",
    "plt.ylabel(\"Normalized CZ01g00040 Reads\")\n",
    "plt.xticks(rotation=90)\n",
    "plt.show;"
   ]
  },
  {
   "cell_type": "markdown",
   "metadata": {},
   "source": [
    "**Question 2** How did the visualization change after the data was normalized by gene length? Did the pattern change? Did the scale of normalized `Cz01g00040` reads change? How much larger is the highest read compared to the lowest read?"
   ]
  },
  {
   "cell_type": "markdown",
   "metadata": {},
   "source": [
    "_Your answer here_"
   ]
  },
  {
   "cell_type": "markdown",
   "metadata": {},
   "source": [
    "**Question 3** The changes that occurred may not seem too drastic in the visualization. However, they are still important. Why might that be? Recall the uses of this experiment."
   ]
  },
  {
   "cell_type": "markdown",
   "metadata": {},
   "source": [
    "_Your answer here_"
   ]
  },
  {
   "cell_type": "markdown",
   "metadata": {},
   "source": [
    "## Visualizing Relationships"
   ]
  },
  {
   "cell_type": "markdown",
   "metadata": {},
   "source": [
    "Now we are going to finalize our data analysis by creating visualizations of our data. In the past few days, we have made our data more readable, normalized by read depth (ie. by columns), and normalized by gene length (ie. by row). The first of these steps made our data easier to read and therefore interpret. The last two accounted for the different scales of read depths under different conditions/samples and the various sequence lengths that different genes produce."
   ]
  },
  {
   "cell_type": "markdown",
   "metadata": {},
   "source": [
    "In order to create visualizations that represent our data well, it might be easier to separate our data into two tables -- one with the data under high light conditions and another with the data under medium light conditions.\n",
    "\n",
    "Create separate tables for high light and medium light. To do this, type out the column labels that we would like to use in the ellipses (...). Also, be sure to put them in order of hours of light exposure and to keep only the conditions whose hours are found in both high light and medium light.\n",
    "\n",
    "As a reference, we have printed out all the column labels."
   ]
  },
  {
   "cell_type": "code",
   "execution_count": 1,
   "metadata": {},
   "outputs": [
    {
     "ename": "NameError",
     "evalue": "name 'rna_data' is not defined",
     "output_type": "error",
     "traceback": [
      "\u001b[0;31m---------------------------------------------------------------------------\u001b[0m",
      "\u001b[0;31mNameError\u001b[0m                                 Traceback (most recent call last)",
      "\u001b[0;32m<ipython-input-1-d4dcc8d62aca>\u001b[0m in \u001b[0;36m<module>\u001b[0;34m\u001b[0m\n\u001b[0;32m----> 1\u001b[0;31m \u001b[0mrna_data\u001b[0m\u001b[0;34m.\u001b[0m\u001b[0mcolumns\u001b[0m\u001b[0;34m\u001b[0m\u001b[0;34m\u001b[0m\u001b[0m\n\u001b[0m",
      "\u001b[0;31mNameError\u001b[0m: name 'rna_data' is not defined"
     ]
    }
   ],
   "source": [
    "rna_data.columns"
   ]
  },
  {
   "cell_type": "code",
   "execution_count": null,
   "metadata": {},
   "outputs": [],
   "source": [
    "# EXERCISE\n",
    "\n",
    "rna_HL = rna_data[['0.5HL-0', '0.5HL-1', '0.5HL-2', '0.5HL-3', \n",
    "        ...]]\n",
    "\n",
    "rna_ML = rna_data[['0.5ML-0', '0.5ML-1', '0.5ML-2','0.5ML-3',  \n",
    "        ...]] "
   ]
  },
  {
   "cell_type": "markdown",
   "metadata": {},
   "source": [
    "Great! Now we can visualize our data more effectively. Let's first look at how reads change as light exposure times increase."
   ]
  },
  {
   "cell_type": "markdown",
   "metadata": {},
   "source": [
    "### 1. The Relationship between Light Exposure Time and Reads"
   ]
  },
  {
   "cell_type": "markdown",
   "metadata": {},
   "source": [
    "Before we look at the relationship between light exposure time and reads, we need to consider what we should visualize! We could have light exposure times on the x-axis and reads on the y-axis, but what would our datapoints be?\n",
    "\n",
    "We have reads for thousands of genes under various light exposure times, so let's just stick with looking at one. Like the previous two labs, we can look at gene `Cz01g00040`.\n",
    "\n",
    "- Assign `light_times` to the light exposure times that are in both `rna_HL` and `rna_ML`.\n",
    "    - There should be replications of the same time since we have 4 samples of each light exposure period.\n",
    "- Assign `rna_HL_gene` to the data associated with `Cz01g00040` under high light exposures.\n",
    "- Assign `rna_ML_gene` to the data associated with `Cz01g00040` under medium light exposures."
   ]
  },
  {
   "cell_type": "code",
   "execution_count": null,
   "metadata": {},
   "outputs": [],
   "source": [
    "# EXERCISE\n",
    "\n",
    "light_times = [0.5, 0.5, 0.5, 0.5, 1, 1, 1, 1, 3, 3,3, 3, 6, 6, 6, 6, 12, 12, 12, 12] \n",
    "\n",
    "rna_HL_gene = ...\n",
    "rna_ML_gene = ..."
   ]
  },
  {
   "cell_type": "markdown",
   "metadata": {},
   "source": [
    "The following cell generates a visualization that compares light exposure times to reads. It does not differentiate between the two different light intensities, but it is still a helpful intermediate step in analyzing our data."
   ]
  },
  {
   "cell_type": "code",
   "execution_count": null,
   "metadata": {},
   "outputs": [],
   "source": [
    "# EXAMPLE\n",
    "\n",
    "light_times_twice = light_times + light_times\n",
    "rna_gene = rna_HL_gene.append(rna_ML_gene)\n",
    "\n",
    "plt.scatter(light_times_twice, rna_gene)\n",
    "plt.title(\"Light Times vs. Reads\")\n",
    "plt.xlabel(\"Light Times (hr)\")\n",
    "plt.ylabel(\"Reads\")\n",
    "plt.show;"
   ]
  },
  {
   "cell_type": "markdown",
   "metadata": {},
   "source": [
    "**Question 1** What relationship or patterns do you see? What do you think this means?"
   ]
  },
  {
   "cell_type": "markdown",
   "metadata": {},
   "source": [
    "_Your answer here_"
   ]
  },
  {
   "cell_type": "markdown",
   "metadata": {},
   "source": [
    "Now that you have seen an example on how to create a scatter plot, let's have you create a scatter plot that visualizes the relationship between light exposure times and reads while separating the high light data from the medium light data.\n",
    "\n",
    "To do so, use `light_times`, `rna_HL_gene`, and `rna_ML_gene`."
   ]
  },
  {
   "cell_type": "code",
   "execution_count": null,
   "metadata": {},
   "outputs": [],
   "source": [
    "# EXERCISE\n",
    "\n",
    "plt.scatter(..., ...) \n",
    "plt.scatter(..., ...) \n",
    "plt.title(\"Light Times vs. Reads\")\n",
    "plt.xlabel(\"Light Times (hr)\") \n",
    "plt.ylabel(\"Reads\") \n",
    "plt.show;"
   ]
  },
  {
   "cell_type": "markdown",
   "metadata": {},
   "source": [
    "**Question 2** Here you can see the difference between high light datapoints and medium light datapoints. Do you notice a different pattern between the two? What is different?"
   ]
  },
  {
   "cell_type": "markdown",
   "metadata": {},
   "source": [
    "_Your answer here_"
   ]
  },
  {
   "cell_type": "markdown",
   "metadata": {},
   "source": [
    "Now that you have thought about this question, we will draw a line representing the relationship of the data points shown. The cell below creates a straight line using the mx + b formula you learned in math. The resulting plot might help support your answer in Question 2, but try to answer it before looking at the visualization."
   ]
  },
  {
   "cell_type": "code",
   "execution_count": null,
   "metadata": {},
   "outputs": [],
   "source": [
    "m_HL, b_HL = np.polyfit(light_times, rna_HL_gene, 1)\n",
    "m_ML, b_ML = np.polyfit(light_times, rna_ML_gene, 1)\n",
    "\n",
    "plt.scatter(light_times, rna_HL_gene)\n",
    "plt.scatter(light_times, rna_ML_gene)\n",
    "\n",
    "plt.plot(light_times, np.array(light_times) * m_HL + b_HL)\n",
    "plt.plot(light_times, np.array(light_times) * m_ML + b_ML)\n",
    "\n",
    "plt.title(\"Light Times vs. Reads\")\n",
    "plt.xlabel(\"Light Times (hr)\")\n",
    "plt.ylabel(\"Reads\")\n",
    "plt.show;"
   ]
  },
  {
   "cell_type": "markdown",
   "metadata": {},
   "source": [
    "We can see that the reads for gene `Cz01g00040` increase as the number of hours under light exposure increases. This denotes a positive correlation between the two. However, we notice that reads for the gene under high light increase more rapidly with time than reads for the gene under medium light.\n",
    "\n",
    "Now that we know about this relationship and can support it with a visualization, let's create another visualization."
   ]
  },
  {
   "cell_type": "markdown",
   "metadata": {},
   "source": [
    "### 2. The Relationship between High and Medium Light"
   ]
  },
  {
   "cell_type": "markdown",
   "metadata": {},
   "source": [
    "As mentioned earlier, we now want to show the relationship between high light and medium light.\n",
    "\n",
    "First, let's create an elementary plot with `rna_HL_gene` on the x-axis and `rna_ML_gene` on the y-axis."
   ]
  },
  {
   "cell_type": "code",
   "execution_count": null,
   "metadata": {},
   "outputs": [],
   "source": [
    "# EXERCISE\n",
    "\n",
    "plt.scatter(..., ...) \n",
    "plt.title(\"High Light Reads vs. Medium Light Reads for Cz01g00040\") \n",
    "plt.xlabel(\"High Light Reads\") \n",
    "plt.ylabel(\"Medium Light Reads\") \n",
    "plt.show;"
   ]
  },
  {
   "cell_type": "markdown",
   "metadata": {},
   "source": [
    "**Question 3** What relationship or patterns do you see? What does this mean?"
   ]
  },
  {
   "cell_type": "markdown",
   "metadata": {},
   "source": [
    "_Your answer here_"
   ]
  },
  {
   "cell_type": "markdown",
   "metadata": {},
   "source": [
    "This scatter plot gives us some new information, but let's divide the datapoints into different colors representing the different light exposure times. Follow the format below.\n",
    "\n",
    "- `orange`: datapoints that were measured after **0.5 Hours** of light exposure\n",
    "    - These should be the first 4 rows `rna_HL_gene` and `rna_ML_gene` because there are 4 replications of 0.5HL and 4 replications of 0.5ML! How can you take the _first 4 rows of a list_?\n",
    "- `yellow`: datapoints that were measured after **1 Hour** of light exposure\n",
    "    - These should be the _next_ 4 rows of `rna_HL_gene` and `rna_ML_gene`.\n",
    "- `green`: datapoints that were measured after **3 Hours** of light exposure\n",
    "- `blue`: datapoints that were measured after **6 Hours** of light exposure\n",
    "- `purple`: datapoints that were measured after **12 Hours** of light exposure"
   ]
  },
  {
   "cell_type": "code",
   "execution_count": null,
   "metadata": {},
   "outputs": [],
   "source": [
    "# EXERCISE\n",
    "\n",
    "orange = plt.scatter(rna_HL_gene[0:4], rna_ML_gene[0:4], c=\"orange\") \n",
    "yellow = plt.scatter(rna_HL_gene[4:8], ..., c=\"yellow\")\n",
    "green = plt.scatter(..., ..., c=\"green\") \n",
    "blue = plt.scatter(..., ..., c=\"blue\") \n",
    "purple = plt.scatter(..., ..., c=\"purple\") \n",
    "\n",
    "dots = [orange, yellow, green, blue, purple]\n",
    "labels = [\"0.5 Hours\", \"1 Hour\", \"3 Hours\", \"6 Hours\", \"12 Hours\"]\n",
    "\n",
    "plt.title(\"High Light Reads vs. Medium Light Reads for Cz01g00040\")\n",
    "plt.xlabel(\"High Light Reads\")\n",
    "plt.ylabel(\"Medium Light Reads\")\n",
    "plt.legend(dots, labels, loc=\"center right\", bbox_to_anchor=(1.5, 1))\n",
    "plt.show;"
   ]
  },
  {
   "cell_type": "markdown",
   "metadata": {},
   "source": [
    "**Question 4** What are some observations you can make about this visualization? Are you surprised about the results or have you seen this relationship before?"
   ]
  },
  {
   "cell_type": "markdown",
   "metadata": {},
   "source": [
    "_Your answer here_"
   ]
  },
  {
   "cell_type": "markdown",
   "metadata": {},
   "source": [
    "Below is a visualization found in the original scientific publication. You do not need to understand it completely, but we do want you to notice some interesting features of it. Although our axes are different, notice that there are similarities between our figure and the publication figure."
   ]
  },
  {
   "cell_type": "markdown",
   "metadata": {},
   "source": [
    "<img src=\"pca.png\" width=\"450\" align=\"left\">"
   ]
  },
  {
   "cell_type": "markdown",
   "metadata": {},
   "source": [
    "**Question 5** What similarities can you draw between our visualization and the original publication's? List at least two things."
   ]
  },
  {
   "cell_type": "markdown",
   "metadata": {},
   "source": [
    "_Your answer here_"
   ]
  },
  {
   "cell_type": "markdown",
   "metadata": {},
   "source": [
    "## Conclusions"
   ]
  },
  {
   "cell_type": "markdown",
   "metadata": {},
   "source": [
    "Refer back to the two figures we created. The first one compared light exposure times to read values under different light intensities for the gene `Cz01g00040`. The second visualization once again looked at the gene `Cz01g00040`, but this time, it looked at the relationship between the two light intensities grouped by different light exposure times."
   ]
  },
  {
   "cell_type": "markdown",
   "metadata": {},
   "source": [
    "**Question 1** Now that you have seen two visualizations of the same data, what relationship(s) are you confident in?"
   ]
  },
  {
   "cell_type": "markdown",
   "metadata": {},
   "source": [
    "_Your answer here_"
   ]
  },
  {
   "cell_type": "markdown",
   "metadata": {},
   "source": [
    "**Question 2** What other data would you have liked to include if you were conducting this experiment? Would you have taken into account oxygen levels, temperature, etc?"
   ]
  },
  {
   "cell_type": "markdown",
   "metadata": {},
   "source": [
    "_Your answer here_"
   ]
  },
  {
   "cell_type": "markdown",
   "metadata": {},
   "source": [
    "**Question 3** Do you think you would have seen the same results if we had analyzed a gene other than `Cz01g00040`? Why or why not? If you have time, feel free to copy-and-paste the code with a different gene name to see whether the relationships stand for another gene."
   ]
  },
  {
   "cell_type": "markdown",
   "metadata": {},
   "source": [
    "_Your answer here_"
   ]
  },
  {
   "cell_type": "markdown",
   "metadata": {},
   "source": [
    "Notebook developed by: Sharon Greenblum & Ciara Acosta <br/>\n",
    "Edited by: Kseniya Usovich"
   ]
  }
 ],
 "metadata": {
  "colab": {
   "collapsed_sections": [],
   "name": "Copy of RNAseq_tutorial_python.ipynb",
   "provenance": []
  },
  "kernelspec": {
   "display_name": "Python 3",
   "language": "python",
   "name": "python3"
  },
  "language_info": {
   "codemirror_mode": {
    "name": "ipython",
    "version": 3
   },
   "file_extension": ".py",
   "mimetype": "text/x-python",
   "name": "python",
   "nbconvert_exporter": "python",
   "pygments_lexer": "ipython3",
   "version": "3.9.1"
  }
 },
 "nbformat": 4,
 "nbformat_minor": 1
}
