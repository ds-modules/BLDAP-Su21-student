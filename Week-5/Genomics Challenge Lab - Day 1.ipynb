{
 "cells": [
  {
   "cell_type": "markdown",
   "metadata": {},
   "source": [
    "<img src=\"lbnl_logo.jpg\">\n",
    "\n",
    "----\n",
    "\n",
    "\n",
    "\n",
    "\n",
    "# Genomics Challenge Lab - Day 1\n",
    "\n",
    "\n",
    "\n",
    "---"
   ]
  },
  {
   "cell_type": "code",
   "execution_count": null,
   "metadata": {},
   "outputs": [],
   "source": [
    "import pandas as pd\n",
    "import matplotlib.pyplot as plt\n",
    "import numpy as np\n",
    "import seaborn as sns"
   ]
  },
  {
   "cell_type": "markdown",
   "metadata": {},
   "source": [
    "<img src=\"algae.png\" align=\"left\">"
   ]
  },
  {
   "cell_type": "markdown",
   "metadata": {
    "id": "YCCm8IZ9Syz3"
   },
   "source": [
    "## Background Information"
   ]
  },
  {
   "cell_type": "markdown",
   "metadata": {
    "id": "lcIbCJiRWbLF"
   },
   "source": [
    "Welcome to the last week of BLDAP! In this challenge lab, we will be working with RNA sequencing data from an experiment measuring gene expression in the algae _Chromochloris zofingiensis_.\n",
    "    \n",
    "This algae is important for a couple of reasons:  \n",
    "1. It stores large amounts of energy from the sun, which can then be turned into biofuel.\n",
    "2. It produces molecules that are beneficial for human health, like antioxidants.\n",
    "\n",
    "Recently, scientists performed an experiment to figure out which genes were most important for these functions.  You can read more about the experiment [here](https://www.pnas.org/content/114/21/E4296). Specifically pay attention to the section titled \"High Light-Induced Gene Expression\", where scientists looked at which genes were 'turned on' (ie. increased their expression levels) when _C. zofingiensis_ samples were exposed to stronger light."
   ]
  },
  {
   "cell_type": "markdown",
   "metadata": {
    "id": "sB69sxcOSh4o"
   },
   "source": [
    "**Question 1** Why would it be helpful for scientists to know which genes were expressed when the algae was exposed to high light?"
   ]
  },
  {
   "cell_type": "markdown",
   "metadata": {
    "id": "b3n8X_KngGtm"
   },
   "source": [
    "_Your answer here_"
   ]
  },
  {
   "cell_type": "markdown",
   "metadata": {
    "id": "C79USuF-z85R"
   },
   "source": [
    "## Loading the Data"
   ]
  },
  {
   "cell_type": "markdown",
   "metadata": {
    "id": "OW4dY5Heg8YO"
   },
   "source": [
    "Now we want to import \"rnaseq_raw_counts.txt\" to the variable name `rna_data`. Before importing it, take a look at \"rnaseq_raw_counts.txt\". Notice that each value is separated by tabs instead of commas. **This means we want to use the argument `sep='\\t'` in the `pd.read_csv()` function call.** The argument tells the computer that the file's values are separated by tabs instead of commas."
   ]
  },
  {
   "cell_type": "code",
   "execution_count": null,
   "metadata": {
    "id": "Hqbh-eJUhdfL"
   },
   "outputs": [],
   "source": [
    "# EXERCISE\n",
    "\n",
    "rna_data = ..."
   ]
  },
  {
   "cell_type": "markdown",
   "metadata": {},
   "source": [
    "### 1. What are the dimensions of our data?"
   ]
  },
  {
   "cell_type": "markdown",
   "metadata": {},
   "source": [
    "Great! Now let's learn more about our data set.\n",
    "\n",
    "Find out how many rows and columns there are in our `rna_data` table."
   ]
  },
  {
   "cell_type": "code",
   "execution_count": null,
   "metadata": {
    "scrolled": true
   },
   "outputs": [],
   "source": [
    "# EXAMPLE\n",
    "\n",
    "num_rows = rna_data.shape[0] \n",
    "num_columns = rna_data.shape[1] \n",
    "\n",
    "print(\"# of rows: \" + str(num_rows))\n",
    "print(\"# of columns: \" + str(num_columns))"
   ]
  },
  {
   "cell_type": "markdown",
   "metadata": {},
   "source": [
    "That's a lot of data! Let's take a quick peek at the data table and see what we are working with. Notice that we cannot see every single column name; instead there is a \"column\" with ellipses (...) instead."
   ]
  },
  {
   "cell_type": "code",
   "execution_count": null,
   "metadata": {
    "scrolled": true
   },
   "outputs": [],
   "source": [
    "rna_data.head()"
   ]
  },
  {
   "cell_type": "markdown",
   "metadata": {},
   "source": [
    "### 2. What is `tracking_id`?"
   ]
  },
  {
   "cell_type": "markdown",
   "metadata": {},
   "source": [
    "The column `tracking_id` refers to the id of a specific gene we are tracking. Each one is in the form 'Cz##g#####'.\n",
    "\n",
    "- 'Cz' means that the gene is from the algae species _Chromochloris zofingiensis_.\n",
    "- '##g' (the next two digits + 'g') tell us which chromosome the gene is on.\n",
    "- '#####' (the last few digits) are a randomly assigned ID number."
   ]
  },
  {
   "cell_type": "markdown",
   "metadata": {},
   "source": [
    "Let's check if each gene ID is unique.\n",
    "1. Start by getting the `tracking_id` column as an array.\n",
    "2. Use a function that puts all unique tracking IDs into an array.\n",
    "3. Find the length of the array of unique IDs."
   ]
  },
  {
   "cell_type": "code",
   "execution_count": null,
   "metadata": {},
   "outputs": [],
   "source": [
    "# EXERCISE\n",
    "\n",
    "tracking_ids = ...\n",
    "unique_ids = ...\n",
    "num_unique = len(unique_ids)\n",
    "\n",
    "print(\"# of unique IDs: \" + str(num_unique))"
   ]
  },
  {
   "cell_type": "markdown",
   "metadata": {},
   "source": [
    "**Question 2** Compare the number of unique IDs to the number of rows. Notice that they are the same number. What does that mean?"
   ]
  },
  {
   "cell_type": "markdown",
   "metadata": {},
   "source": [
    "_Your answer here_"
   ]
  },
  {
   "cell_type": "markdown",
   "metadata": {},
   "source": [
    "### 3. What are our other columns?"
   ]
  },
  {
   "cell_type": "markdown",
   "metadata": {},
   "source": [
    "Now that we have explored the first column, let's take a look at the remaining columns. In the cell below, print out the names of all of the columns."
   ]
  },
  {
   "cell_type": "code",
   "execution_count": null,
   "metadata": {},
   "outputs": [],
   "source": [
    "# EXERCISE\n",
    "\n",
    "rna_orig_columns = ...\n",
    "print(rna_orig_columns)"
   ]
  },
  {
   "cell_type": "markdown",
   "metadata": {},
   "source": [
    "**Question 3** Take a look at all of the column names other than the `tracking_id` column. What is similar about all of the names? What is different? Do you have any guesses about what these might mean?"
   ]
  },
  {
   "cell_type": "markdown",
   "metadata": {},
   "source": [
    "_Your answer here_"
   ]
  },
  {
   "cell_type": "markdown",
   "metadata": {},
   "source": [
    "## Understanding and Cleaning the Data"
   ]
  },
  {
   "cell_type": "markdown",
   "metadata": {},
   "source": [
    "Now that we have an idea of what our columns look like, we can make our table easier to work with through data cleaning. Here are some of our main goals for cleaning the data:\n",
    "- Creating a table index that is useful\n",
    "- Changing column labels to be more readable\n",
    "- Finding and addressing null values"
   ]
  },
  {
   "cell_type": "markdown",
   "metadata": {},
   "source": [
    "### 1. Creating a New Table Index"
   ]
  },
  {
   "cell_type": "markdown",
   "metadata": {},
   "source": [
    "Let's start with the first objective. Earlier, we found out that each `tracking_id` is unique, so we can make `tracking_id` our table index. This makes it easier to find data associated with a specific gene."
   ]
  },
  {
   "cell_type": "code",
   "execution_count": null,
   "metadata": {
    "scrolled": true
   },
   "outputs": [],
   "source": [
    "# EXERCISE\n",
    "\n",
    "rna_data = ...\n",
    "rna_data.head()"
   ]
  },
  {
   "cell_type": "markdown",
   "metadata": {},
   "source": [
    "### 2. Making More Readable Column Names"
   ]
  },
  {
   "cell_type": "markdown",
   "metadata": {},
   "source": [
    "Well done! Now let's talk about the other columns.\n",
    "\n",
    "You may have noticed earlier that they follow a structure.\n",
    "- 'HL' or 'ML' refers to whether the algae grew in 'high light' or 'medium light' respectively.\n",
    "- '##h' tells us how many hours the algae was exposed to the light before a sample was collected.\n",
    "    - For HL, the range of times is [0.5, 12, 1, 3, 6].\n",
    "    - For ML, the range of times is [0.5, 0, 12, 1, 3, 6].\n",
    "- '#' (the last digit) is an indicator of what replication of the sample it is.\n",
    "    - Each experiment has 4 replications labeled 0, 1, 2, or 3.\n",
    "\n",
    "The column `HL.0.5h0` can be read as \"high light for 0.5 hours -- sample 0\"."
   ]
  },
  {
   "cell_type": "markdown",
   "metadata": {},
   "source": [
    "This format is hard to read with the period after 'HL'/'ML' and the 'h' denoting that the time is in hours. Let's change the column names so that it is easier for us to read. We have provided new column names for you to use in the following format.\n",
    "- '##' (the first few digits) tell us the number of hours of light exposure.\n",
    "- 'HL' or 'ML' denotes the light intensity.\n",
    "- '-#' gives us the replication number.\n",
    "\n",
    "The column `0.5HL-0` can be read as \"0.5 hours of high light for sample 0\"."
   ]
  },
  {
   "cell_type": "markdown",
   "metadata": {},
   "source": [
    "_Quick Note:_ This format is better in terms of readability, but it might not be best for future coding uses and analyses! In data science, we sometimes have to compromise between readability and practicality. In this case, we want you to understand the data well, so we chose to emphasize readibility over practicality."
   ]
  },
  {
   "cell_type": "code",
   "execution_count": null,
   "metadata": {},
   "outputs": [],
   "source": [
    "rna_new_columns = ['0.5HL-0', '0.5HL-1', '0.5HL-2', '0.5HL-3',\n",
    "        '12HL-0', '12HL-1', '12HL-2', '12HL-3', \n",
    "        '1HL-0', '1HL-1', '1HL-2', '1HL-3', \n",
    "        '3HL-0', '3HL-1', '3HL-2', '3HL-3', \n",
    "        '6HL-0', '6HL-1', '6HL-2', '6HL-3',\n",
    "\n",
    "        '0.5ML-0', '0.5ML-1', '0.5ML-2','0.5ML-3', \n",
    "        '0ML-0', '0ML-1', '0ML-2', '0ML-3', \n",
    "        '12ML-0', '12ML-1', '12ML-2', '12ML-3', \n",
    "        '1ML-0', '1ML-1', '1ML-2', '1ML-3',\n",
    "        '3ML-0', '3ML-1', '3ML-2', '3ML-3', \n",
    "        '6ML-0', '6ML-1', '6ML-2', '6ML-3']"
   ]
  },
  {
   "cell_type": "markdown",
   "metadata": {},
   "source": [
    "Relabel the columns of `rna_data` to the given labels in `rna_new_columns`."
   ]
  },
  {
   "cell_type": "code",
   "execution_count": null,
   "metadata": {},
   "outputs": [],
   "source": [
    "# EXERCISE\n",
    "\n",
    "rna_data.columns = rna_new_columns # SOLUTION\n",
    "rna_data.head()"
   ]
  },
  {
   "cell_type": "markdown",
   "metadata": {},
   "source": [
    "### 3. Understanding the Data Values"
   ]
  },
  {
   "cell_type": "markdown",
   "metadata": {},
   "source": [
    "To get a better understanding of the data we are working with, take a look at the data in the first 10 rows and first 10 columns. "
   ]
  },
  {
   "cell_type": "code",
   "execution_count": null,
   "metadata": {},
   "outputs": [],
   "source": [
    "# EXERCISE\n",
    "\n",
    "rna_data ..."
   ]
  },
  {
   "cell_type": "markdown",
   "metadata": {},
   "source": [
    "**Question 4** We have a full understanding of our data table's labels, so let's now consider what the values in the table represent. What data type(s) are the values in the table? What do you think they might represent?"
   ]
  },
  {
   "cell_type": "markdown",
   "metadata": {},
   "source": [
    "_Your answer here_"
   ]
  },
  {
   "cell_type": "markdown",
   "metadata": {},
   "source": [
    "Check if there is any missing data in the following cell. Based, on your answer above, think about whether this would affect our data analysis later."
   ]
  },
  {
   "cell_type": "code",
   "execution_count": null,
   "metadata": {},
   "outputs": [],
   "source": [
    "# EXERCISE\n",
    "\n",
    "rna_data ..."
   ]
  },
  {
   "cell_type": "markdown",
   "metadata": {},
   "source": [
    "It's a good thing we have no missing data! It seems like all of our data values are numbers, so let's see what range of values are under our `0.5HL-0` column. Find the minimum value, maximum value, and mean in the `0.5HL-0` column."
   ]
  },
  {
   "cell_type": "code",
   "execution_count": null,
   "metadata": {},
   "outputs": [],
   "source": [
    "#EXERCISE\n",
    "\n",
    "min_val_1 = rna_data[\"0.5HL-0\"] ...\n",
    "max_val_1 = ...\n",
    "mean_val_1 = ...\n",
    "\n",
    "print(\"Minimum 0.5HL-0 Val: \" + str(min_val_1))\n",
    "print(\"Maximum 0.5HL-0 Val: \" + str(max_val_1))\n",
    "print(\"Mean 0.5HL-0 Val: \" + str(mean_val_1))"
   ]
  },
  {
   "cell_type": "markdown",
   "metadata": {},
   "source": [
    "It seems like there is a large range of numbers under this column. Choose another column and check if it has a range of values that is just as large as `0.5HL-0`. Feel free to try multiple different columns."
   ]
  },
  {
   "cell_type": "code",
   "execution_count": null,
   "metadata": {},
   "outputs": [],
   "source": [
    "#EXERCISE\n",
    "\n",
    "min_val_2 = rna_data[\"0.5ML-0\"] ...\n",
    "max_val_2 = ...\n",
    "mean_val_2 = ...\n",
    "\n",
    "print(\"Minimum Val: \" + str(min_val_2))\n",
    "print(\"Maximum Val: \" + str(max_val_2))\n",
    "print(\"Mean Val: \" + str(mean_val_2))"
   ]
  },
  {
   "cell_type": "markdown",
   "metadata": {},
   "source": [
    "Why are the range of values so broad for most columns? \n",
    "\n",
    "The values in our data table represent the number of \"turned on\" genes under the given light conditions. Some genes may turn on more under lower light conditions while others may turn on more under higher light conditions. We might also see that some genes may turn on more after longer light exposure than they will under shorter light exposure.\n",
    "\n",
    "In order to analyze, this however, we need to be able to look at numbers that range from 0 to the hundreds of thousands! Tomorrow we will address this issue, so let's save our progress, `rna_data`, as \"rna_data_cleaned.csv\"."
   ]
  },
  {
   "cell_type": "code",
   "execution_count": null,
   "metadata": {},
   "outputs": [],
   "source": [
    "# EXERCISE\n",
    "\n",
    "..."
   ]
  },
  {
   "cell_type": "markdown",
   "metadata": {},
   "source": [
    "Notebook developed by: Ciara Acosta & Sharon Greenblum"
   ]
  }
 ],
 "metadata": {
  "colab": {
   "collapsed_sections": [],
   "name": "Copy of RNAseq_tutorial_python.ipynb",
   "provenance": []
  },
  "kernelspec": {
   "display_name": "Python 3",
   "language": "python",
   "name": "python3"
  },
  "language_info": {
   "codemirror_mode": {
    "name": "ipython",
    "version": 3
   },
   "file_extension": ".py",
   "mimetype": "text/x-python",
   "name": "python",
   "nbconvert_exporter": "python",
   "pygments_lexer": "ipython3",
   "version": "3.9.1"
  }
 },
 "nbformat": 4,
 "nbformat_minor": 1
}
