{
 "cells": [
  {
   "cell_type": "markdown",
   "metadata": {},
   "source": [
    "<img src=\"lbnl_logo.jpg\">\n",
    "\n",
    "----\n",
    "\n",
    "\n",
    "\n",
    "\n",
    "# Genomics Challenge Lab - Day 2\n",
    "\n",
    "\n",
    "\n",
    "---"
   ]
  },
  {
   "cell_type": "code",
   "execution_count": null,
   "metadata": {},
   "outputs": [],
   "source": [
    "import pandas as pd\n",
    "import matplotlib.pyplot as plt\n",
    "import numpy as np\n",
    "import seaborn as sns"
   ]
  },
  {
   "cell_type": "markdown",
   "metadata": {},
   "source": [
    "<img src=\"algae.png\" align=\"left\">"
   ]
  },
  {
   "cell_type": "markdown",
   "metadata": {},
   "source": [
    "# Genomics Challenge Lab - Day 2"
   ]
  },
  {
   "cell_type": "markdown",
   "metadata": {},
   "source": [
    "Load yesterday's cleaned table into `rna_data`. Recall that we saved yesterday's work into a file called \"rna_data_cleaned.csv\". Double check that `rna_data` is what it looked like yesterday."
   ]
  },
  {
   "cell_type": "code",
   "execution_count": null,
   "metadata": {
    "scrolled": true
   },
   "outputs": [],
   "source": [
    "# EXERCISE\n",
    "\n",
    "rna_data = ...\n",
    "rna_data.head()"
   ]
  },
  {
   "cell_type": "markdown",
   "metadata": {},
   "source": [
    "## Normalizing the Data"
   ]
  },
  {
   "cell_type": "markdown",
   "metadata": {},
   "source": [
    "### 1. What is normalization?"
   ]
  },
  {
   "cell_type": "markdown",
   "metadata": {},
   "source": [
    "Previously, we noted that the values in a single column ranged from 0 to the hundreds of thousands. Since it is hard to look at numbers in this wide of a range, we want to \"normalize\" the data. Normalizing data means that we adjust the scale of our data by comparing our numbers on a relative scale instead of directly comparing them. This helps with data that takes on a large range of numbers, and it eliminates the issue of comparing categories that are on different scales."
   ]
  },
  {
   "cell_type": "markdown",
   "metadata": {},
   "source": [
    "For example, let's say we have two classes, Class 1 and Class 2, with class sizes of 10 and 1,000 respectively. If 10 students from each class earn a perfect score on a test, we can tell that there is a significant difference between Class 1 and Class 2's performances. However, both classes had the same number of perfect test scores when we look at the raw numbers. In order to better portray this, we want to work with relative numbers.\n",
    "\n",
    "Let's see how this would look with the data table `classes`."
   ]
  },
  {
   "cell_type": "code",
   "execution_count": null,
   "metadata": {
    "scrolled": true
   },
   "outputs": [],
   "source": [
    "# EXAMPLE\n",
    "\n",
    "classes = pd.DataFrame([[\"A\", 10, 10], [\"B\", 0, 900], [\"C\", 0, 90]], \n",
    "                       columns=[\"Grade\", \"Class 1\", \"Class 2\"])\n",
    "classes = classes.set_index(\"Grade\")\n",
    "classes"
   ]
  },
  {
   "cell_type": "markdown",
   "metadata": {},
   "source": [
    "If we were to only look at the data associated with \"A\" grades, we would not know that Class 1 is performing better than Class 2. Instead, we see that both classes had the same number of scores."
   ]
  },
  {
   "cell_type": "code",
   "execution_count": null,
   "metadata": {},
   "outputs": [],
   "source": [
    "# EXAMPLE\n",
    "\n",
    "classes.loc[\"A\"]"
   ]
  },
  {
   "cell_type": "markdown",
   "metadata": {},
   "source": [
    "In order to normalize the data, we could divide our `Class 1` data by the total number of students in `Class 1` and our `Class 2` data by the total number of students in `Class 2`. This tells us what _proportion_ of students received a perfect score instead of what _number_ of students did."
   ]
  },
  {
   "cell_type": "code",
   "execution_count": null,
   "metadata": {},
   "outputs": [],
   "source": [
    "# EXAMPLE\n",
    "\n",
    "num_students_1 = sum(classes.iloc[:, 0])\n",
    "num_students_2 = sum(classes.iloc[:, 1])\n",
    "\n",
    "classes[\"Class 1\"] = classes[\"Class 1\"]/num_students_1\n",
    "classes[\"Class 2\"] = classes[\"Class 2\"]/num_students_2\n",
    "\n",
    "print(\"# of students in Class 1: \" + str(num_students_1))\n",
    "print(\"# of students in Class 2: \" + str(num_students_2))\n",
    "\n",
    "classes"
   ]
  },
  {
   "cell_type": "markdown",
   "metadata": {},
   "source": [
    "Now, if we only look at the data associated with \"A\" grades, we can see the difference between Class 1 scores and Class 2 scores."
   ]
  },
  {
   "cell_type": "code",
   "execution_count": null,
   "metadata": {},
   "outputs": [],
   "source": [
    "# EXAMPLE\n",
    "\n",
    "classes.loc[\"A\"]"
   ]
  },
  {
   "cell_type": "markdown",
   "metadata": {
    "id": "MM7NkyidYRx-"
   },
   "source": [
    "### 2. Normalization By Read Depth "
   ]
  },
  {
   "cell_type": "markdown",
   "metadata": {},
   "source": [
    "Let's apply this logic to our genomics data. Here, our columns are experiment conditions, and our rows are specific genes. It is possible that a condition has the fewest counts for all genes because the sample actually \"turns on\" fewer genes than other conditions, but it is also possible that the condition had fewer counts overall. In order to analyze this, we need to find out how many counts were obtained across all genes under a specific condition.\n",
    "\n",
    "Let's define what we will be working with.\n",
    "- reads: the # of genes that \"turned on\" (ie. the values in our data)\n",
    "- read depth: the total # of reads across _all_ genes under a specific condition"
   ]
  },
  {
   "cell_type": "markdown",
   "metadata": {},
   "source": [
    "**Consider this oversimplification of our `rna_data` table.** For fictional gene Cz1, we see that high light conditions produce more reads than medium light conditions. However, when compared to other genes, we notice that the relative reads are larger under the `ML` condition than under the `HL` condition."
   ]
  },
  {
   "cell_type": "code",
   "execution_count": null,
   "metadata": {},
   "outputs": [],
   "source": [
    "# EXAMPLE\n",
    "\n",
    "simple_rna = pd.DataFrame([[\"Cz1\", 50, 20], [\"Cz2\", 100, 1], [\"Cz3\", 100, 1]], \n",
    "                       columns=[\"Gene\", \"HL\", \"ML\"])\n",
    "simple_rna = simple_rna.set_index(\"Gene\")\n",
    "simple_rna"
   ]
  },
  {
   "cell_type": "markdown",
   "metadata": {},
   "source": [
    "Let's write some code that calculates the read depths of all experiment conditions/samples.\n",
    "\n",
    "- Create an empty list of read depths called `read_depths`.\n",
    "- For each experiment condition (ie. each sample):\n",
    "    - Calculate the read depth and call it `one_read_depth`.\n",
    "    - Store it in our list, `read_depths`.\n",
    "    \n",
    "This is synonymous to calculating all of our class sizes."
   ]
  },
  {
   "cell_type": "code",
   "execution_count": null,
   "metadata": {
    "colab": {
     "base_uri": "https://localhost:8080/",
     "height": 54
    },
    "id": "fFgRp0wLaaIk",
    "outputId": "1c85e556-f250-4f94-bf0f-ff127b7e3ca0"
   },
   "outputs": [],
   "source": [
    "# EXERCISE\n",
    "\n",
    "read_depths = []\n",
    "num_samples = ...\n",
    "\n",
    "for i in range(num_samples): \n",
    "    one_read_depth = ...\n",
    "    read_depths.append(...)\n",
    "\n",
    "print(\"These are the read depths of all samples:\")\n",
    "print(read_depths)"
   ]
  },
  {
   "cell_type": "markdown",
   "metadata": {
    "id": "nCnGao-t6OaP"
   },
   "source": [
    "Now make a plot that shows the range of read depths across all samples. We want the x-axis to be the different samples (ie. the column labels) and the y-axis to be the read depths corresponding to those samples."
   ]
  },
  {
   "cell_type": "code",
   "execution_count": null,
   "metadata": {
    "colab": {
     "base_uri": "https://localhost:8080/",
     "height": 290
    },
    "id": "KhEG8hy76VDk",
    "outputId": "5a9bf0f9-7ea7-4588-a39d-8a3b7c27192f",
    "scrolled": true
   },
   "outputs": [],
   "source": [
    "# EXERCISE\n",
    "\n",
    "x_axis = ...\n",
    "y_axis = ...\n",
    "\n",
    "plt.scatter(x_axis, y_axis)\n",
    "plt.title(\"Samples vs. Read Depth\")\n",
    "plt.xlabel(\"Samples\")\n",
    "plt.ylabel(\"Read Depth\")\n",
    "plt.xticks(rotation=90)\n",
    "plt.show;"
   ]
  },
  {
   "cell_type": "markdown",
   "metadata": {},
   "source": [
    "Through this visualization, you can see that the read depth differs by a large amount under different conditions and samples. This is like how our class sizes differed, so it is a good thing that we have decided to normalize our data!"
   ]
  },
  {
   "cell_type": "markdown",
   "metadata": {},
   "source": [
    "Now let's create a function that normalizes the data in our `rna_data` table. Write some code that calculates relative reads based on read depths. For reference, we have provided the normalization of `simple_rna` by read depth."
   ]
  },
  {
   "cell_type": "code",
   "execution_count": null,
   "metadata": {},
   "outputs": [],
   "source": [
    "# EXAMPLE\n",
    "\n",
    "simple_read_depths = [250, 22]\n",
    "\n",
    "simple_rna_by_read_depth = simple_rna / simple_read_depths\n",
    "simple_rna_by_read_depth"
   ]
  },
  {
   "cell_type": "code",
   "execution_count": null,
   "metadata": {},
   "outputs": [],
   "source": [
    "# EXERCISE\n",
    "\n",
    "def normalizeByReadDepth(data, read_depth_list):\n",
    "    return ..."
   ]
  },
  {
   "cell_type": "markdown",
   "metadata": {},
   "source": [
    "Now that we have a function that normalizes by read depth (ie. by the total # of gene counts), we can normalize `rna_data` by read depth. Recall that we calculated the read depths of all experiment conditions/samples and stored it in a list called `read_depths`. Now, use `rna_data` and `read_depths` with our new function to get a normalized data table."
   ]
  },
  {
   "cell_type": "code",
   "execution_count": null,
   "metadata": {
    "scrolled": true
   },
   "outputs": [],
   "source": [
    "# EXERCISE\n",
    "\n",
    "rna_by_read_depth = normalizeByReadDepth(..., ...)\n",
    "rna_by_read_depth.head()"
   ]
  },
  {
   "cell_type": "markdown",
   "metadata": {},
   "source": [
    "Because each value is a proportion, the values under each column should each sum up to 1. Let's verify that."
   ]
  },
  {
   "cell_type": "code",
   "execution_count": null,
   "metadata": {},
   "outputs": [],
   "source": [
    "column_totals = []\n",
    "\n",
    "for i in range(num_samples): \n",
    "    one_column_total = np.round(sum(rna_by_read_depth.iloc[:, i])) \n",
    "    column_totals.append(one_column_total)\n",
    "\n",
    "print(\"These are sums of all columns:\")\n",
    "print(column_totals)"
   ]
  },
  {
   "cell_type": "markdown",
   "metadata": {},
   "source": [
    "Let's visualize our column totals once again. Previously, our column totals were our read depths, because they were the sum of all reads under a certain condition/sample. Now, our data is in relative reads (ie. proportions), so our column totals should all be lined up at 1."
   ]
  },
  {
   "cell_type": "code",
   "execution_count": null,
   "metadata": {},
   "outputs": [],
   "source": [
    "x_axis = rna_data.columns\n",
    "y_axis = column_totals\n",
    "\n",
    "plt.scatter(x_axis, y_axis)\n",
    "plt.title(\"Samples vs. Column Total\")\n",
    "plt.xlabel(\"Samples\")\n",
    "plt.ylabel(\"Column Total\")\n",
    "plt.xticks(rotation=90)\n",
    "plt.show;"
   ]
  },
  {
   "cell_type": "markdown",
   "metadata": {},
   "source": [
    "Now, our various conditions/samples are all on the same \"scale\", so it will be easier to compare between different light conditions and samples.\n",
    "\n",
    "To verify this, let's compare the data for gene `Cz01g00040` before and after normalizating by read depth."
   ]
  },
  {
   "cell_type": "markdown",
   "metadata": {},
   "source": [
    "### 3. What effect did normalization have?"
   ]
  },
  {
   "cell_type": "markdown",
   "metadata": {},
   "source": [
    "Create a plot that shows reads for only gene `Cz01g00040` in `rna_data`. Each row corresponds to a specific gene, so you will need to access the `Cz01g00040` row in the table. Keep in mind that this visualization would be similar to plotting the raw grade counts for the `classes` data (ie. it will not show the relative differences)."
   ]
  },
  {
   "cell_type": "code",
   "execution_count": null,
   "metadata": {},
   "outputs": [],
   "source": [
    "# EXERCISE\n",
    "\n",
    "x_axis = ...\n",
    "y_axis = ...\n",
    "\n",
    "plt.scatter(x_axis, y_axis)\n",
    "plt.title(\"Samples vs. CZ01g00040 Reads\")\n",
    "plt.xlabel(\"Samples\")\n",
    "plt.ylabel(\"CZ01g00040 Reads\")\n",
    "plt.xticks(rotation=90)\n",
    "plt.show;"
   ]
  },
  {
   "cell_type": "markdown",
   "metadata": {},
   "source": [
    "**Question 1** What is the scale of `Cz01g00040` reads? How much larger is the highest read compared to the lowest read? Is there a pattern or trend in the visualization?"
   ]
  },
  {
   "cell_type": "markdown",
   "metadata": {},
   "source": [
    "_Your answer here_"
   ]
  },
  {
   "cell_type": "markdown",
   "metadata": {},
   "source": [
    "Now let's look at the normalized reads for gene `Cz01g00040` in `rna_by_read_depth`. Once again, `Cz01g00040` is a row in our table whose data you need to access. This visualization shows the normalized reads of this gene, so it accounts for the total number of reads each condition produced."
   ]
  },
  {
   "cell_type": "code",
   "execution_count": null,
   "metadata": {},
   "outputs": [],
   "source": [
    "# EXERCISE\n",
    "\n",
    "x_axis = ...\n",
    "y_axis = ...\n",
    "\n",
    "plt.scatter(x_axis, y_axis)\n",
    "plt.title(\"Samples vs. Normalized CZ01g00040 Reads\")\n",
    "plt.xlabel(\"Samples\")\n",
    "plt.ylabel(\"Normalized CZ01g00040 Reads\")\n",
    "plt.xticks(rotation=90)\n",
    "plt.show;"
   ]
  },
  {
   "cell_type": "markdown",
   "metadata": {},
   "source": [
    "**Question 2** What is the scale of normalized `Cz01g00040` reads? How much larger is the highest read compared to the lowest read? Is there a pattern or trend in the visualization? Did it change from the previous visualization?"
   ]
  },
  {
   "cell_type": "markdown",
   "metadata": {},
   "source": [
    "_Your answer here_"
   ]
  },
  {
   "cell_type": "markdown",
   "metadata": {},
   "source": [
    "Recall that we have normalized the data such that the table's values represent the reads (or gene counts) relative to the total reads (or read depth) based on the corresponding experiment conditions and sample number. As an example, we saw how gene `Cz01g00040`'s data pattern became more clear after normalization.\n",
    "\n",
    "Even though this made our data easier to analyze, we can still do more normalization to aide the interpretation of our data."
   ]
  },
  {
   "cell_type": "markdown",
   "metadata": {},
   "source": [
    "When we normalized by read depth, we normalized by column. More specifically, we took the totals of each column and represented each data value as a proportion of each total. In order to improve our analysis, we can also do normalization by row."
   ]
  },
  {
   "cell_type": "markdown",
   "metadata": {},
   "source": [
    "**Question 3** What does each row represent? What characteristics do genes have? What do you think we could do normalization by?"
   ]
  },
  {
   "cell_type": "markdown",
   "metadata": {},
   "source": [
    "_Your answer here_"
   ]
  },
  {
   "cell_type": "markdown",
   "metadata": {},
   "source": [
    "### 4. Transposing Data"
   ]
  },
  {
   "cell_type": "markdown",
   "metadata": {},
   "source": [
    "Before we can normalize by row, we need to go over the concept of transposing data. Recall that normalizing by column consisted of dividing our columns by their total reads. Unfortunately, computers can only divide columns by arrays/lists and cannot divide rows by arrays/lists. In order to account for this, we can transpose our data -- flip our data table such that the rows are columns and the columns are rows."
   ]
  },
  {
   "cell_type": "markdown",
   "metadata": {},
   "source": [
    "Let's take a look at the `classes` data table that we worked with previously. "
   ]
  },
  {
   "cell_type": "code",
   "execution_count": null,
   "metadata": {},
   "outputs": [],
   "source": [
    "# EXAMPLE\n",
    "\n",
    "classes = pd.DataFrame([[\"A\", 10, 10], [\"B\", 0, 900], [\"C\", 0, 90]], \n",
    "                       columns=[\"Grade\", \"Class 1\", \"Class 2\"])\n",
    "classes = classes.set_index(\"Grade\")\n",
    "classes"
   ]
  },
  {
   "cell_type": "markdown",
   "metadata": {},
   "source": [
    "Try using the function `np.transpose()` so that the `classes` table has the following structure.\n",
    "- Columns: \"Grade\", \"A\", \"B\", \"C\"\n",
    "- Rows: \"Class 1\", \"Class 2\"\n",
    "- Values: the proportion of students who got that grade across all classes\n",
    "    - These values should _not_ be the same as yesterday's normalized values"
   ]
  },
  {
   "cell_type": "code",
   "execution_count": null,
   "metadata": {},
   "outputs": [],
   "source": [
    "# EXERCISE\n",
    "\n",
    "grade_totals = [20, 900, 90]\n",
    "\n",
    "classes_by_grade_shares = ...\n",
    "classes_by_grade_shares"
   ]
  },
  {
   "cell_type": "markdown",
   "metadata": {},
   "source": [
    "Notice that the following cell applies `np.transpose()` once again. Specifically, take note of how the transpose occurs after the column division. Altogether, the whole process (denoted below) normalizes our original table, `classes`, by row.\n",
    "\n",
    "1. Transpose the table so that the rows are columns and the columns are rows.\n",
    "2. Do column division by an array/list.\n",
    "3. Transpose the table again so that the structure is the same as the original table."
   ]
  },
  {
   "cell_type": "code",
   "execution_count": null,
   "metadata": {},
   "outputs": [],
   "source": [
    "np.transpose(classes_by_grade_shares)"
   ]
  },
  {
   "cell_type": "markdown",
   "metadata": {},
   "source": [
    "Now, let's save our progress, `rna_by_read_depth`, as \"rna_by_read_depth.csv\"."
   ]
  },
  {
   "cell_type": "code",
   "execution_count": null,
   "metadata": {},
   "outputs": [],
   "source": [
    "# EXERCISE\n",
    "\n",
    "..."
   ]
  },
  {
   "cell_type": "markdown",
   "metadata": {},
   "source": [
    "Notebook developed by: Sharon Greenblum & Ciara Acosta <br/>\n",
    "Edited by: Kseniya Usovich"
   ]
  }
 ],
 "metadata": {
  "colab": {
   "collapsed_sections": [],
   "name": "Copy of RNAseq_tutorial_python.ipynb",
   "provenance": []
  },
  "kernelspec": {
   "display_name": "Python 3",
   "language": "python",
   "name": "python3"
  },
  "language_info": {
   "codemirror_mode": {
    "name": "ipython",
    "version": 3
   },
   "file_extension": ".py",
   "mimetype": "text/x-python",
   "name": "python",
   "nbconvert_exporter": "python",
   "pygments_lexer": "ipython3",
   "version": "3.9.1"
  }
 },
 "nbformat": 4,
 "nbformat_minor": 1
}
