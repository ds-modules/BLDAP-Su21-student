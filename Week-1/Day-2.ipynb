{
 "cells": [
  {
   "cell_type": "markdown",
   "id": "first-circle",
   "metadata": {},
   "source": [
    "<img src=\"lbnl_logo.jpg\">\n",
    "\n",
    "\n",
    "----\n",
    "\n",
    "# Data Structures\n",
    "\n",
    "-----\n",
    "\n",
    "### Table of Contents\n",
    "\n",
    "1 - [Lists](#section1)<br>\n",
    "\n",
    "&nbsp;&nbsp;&nbsp;&nbsp;&nbsp;&nbsp; 1.1 - [List Iteration and Slicing `[ : ]`](#subsection1)<br>\n",
    "\n",
    "&nbsp;&nbsp;&nbsp;&nbsp;&nbsp;&nbsp; 1.2 - [Adding Elements](#subsection2)<br>\n",
    "\n",
    "&nbsp;&nbsp;&nbsp;&nbsp;&nbsp;&nbsp; 1.3 - [Deleting Elements](#subsection3)<br>\n",
    "\n",
    "&nbsp;&nbsp;&nbsp;&nbsp;&nbsp;&nbsp; 1.4 - [Length of a list](#subsection4)<br>\n",
    "\n",
    "&nbsp;&nbsp;&nbsp;&nbsp;&nbsp;&nbsp; 1.4 - [Operations on a list](#subsection5)<br>\n",
    "\n",
    "2 - [Tuples](#section2)<br>\n",
    "\n",
    "3 - [Dictionaries](#section3)<br>"
   ]
  },
  {
   "cell_type": "markdown",
   "id": "pacific-gates",
   "metadata": {},
   "source": [
    "### Lists <a id='section1'></a>\n",
    "\n",
    "List is a data structure that allows you to save multiple objects.\n",
    "\n",
    "\n",
    "* NOTE: DON'T EVER CALL YOUR LIST \"list\". This is a reserved name for a function in python. BUT, you can used this function to create new lists! "
   ]
  },
  {
   "cell_type": "code",
   "execution_count": 1,
   "id": "japanese-uncle",
   "metadata": {},
   "outputs": [
    {
     "data": {
      "text/plain": [
       "[]"
      ]
     },
     "execution_count": 1,
     "metadata": {},
     "output_type": "execute_result"
    }
   ],
   "source": [
    "# here's how you can create an empty list\n",
    "# you'll learn where to use it later in the workshop\n",
    "\n",
    "empty_lst = []\n",
    "empty_lst"
   ]
  },
  {
   "cell_type": "markdown",
   "id": "smart-shareware",
   "metadata": {},
   "source": [
    "In comparison with strings, lists can contain different data types/objects."
   ]
  },
  {
   "cell_type": "code",
   "execution_count": 2,
   "id": "freelance-mitchell",
   "metadata": {},
   "outputs": [
    {
     "data": {
      "text/plain": [
       "[2, 'name', 3, 'berkeley']"
      ]
     },
     "execution_count": 2,
     "metadata": {},
     "output_type": "execute_result"
    }
   ],
   "source": [
    "# EXAMPLE\n",
    "\n",
    "new_lst = [2, \"name\", 3, \"berkeley\"]\n",
    "new_lst"
   ]
  },
  {
   "cell_type": "markdown",
   "id": "stock-mills",
   "metadata": {},
   "source": [
    "Make sure you don't use the built-in functions as names for your variables. It is easy to tell (in Jupyter Notebooks) whether something is a function/method. When you enter it, it be in green in your code cell."
   ]
  },
  {
   "cell_type": "code",
   "execution_count": 3,
   "id": "literary-daniel",
   "metadata": {},
   "outputs": [
    {
     "data": {
      "text/plain": [
       "list"
      ]
     },
     "execution_count": 3,
     "metadata": {},
     "output_type": "execute_result"
    }
   ],
   "source": [
    "list"
   ]
  },
  {
   "cell_type": "markdown",
   "id": "signed-solid",
   "metadata": {},
   "source": [
    "Let's see how we can use this function on a string. Save your name in the variable \"name\" first."
   ]
  },
  {
   "cell_type": "code",
   "execution_count": null,
   "id": "embedded-premium",
   "metadata": {},
   "outputs": [],
   "source": [
    "# EXAMPLE\n",
    "\n",
    "name = \"...\"\n",
    "\n",
    "list(name)"
   ]
  },
  {
   "cell_type": "markdown",
   "id": "brief-wagner",
   "metadata": {},
   "source": [
    "### 1.1 List Iteration and Slicing `[ : ]`"
   ]
  },
  {
   "cell_type": "markdown",
   "id": "outstanding-portugal",
   "metadata": {},
   "source": [
    "To iterate through the list, you can use square brackets with an index of an object you are interested in. Like so:"
   ]
  },
  {
   "cell_type": "code",
   "execution_count": 4,
   "id": "accepted-paste",
   "metadata": {},
   "outputs": [
    {
     "data": {
      "text/plain": [
       "'name'"
      ]
     },
     "execution_count": 4,
     "metadata": {},
     "output_type": "execute_result"
    }
   ],
   "source": [
    "# remember that Python, like many programming languages, starts counting from 0.\n",
    "\n",
    "new_lst[1]"
   ]
  },
  {
   "cell_type": "markdown",
   "id": "fixed-humidity",
   "metadata": {},
   "source": [
    "Notice also that each component of the list separated by a comma is a single object. So the list inside of the list will be a single object. If you want to iterate through a list inside of the list, you will need to use the square brackets twice. Like we did here:"
   ]
  },
  {
   "cell_type": "code",
   "execution_count": 5,
   "id": "congressional-toolbox",
   "metadata": {},
   "outputs": [
    {
     "data": {
      "text/plain": [
       "'b'"
      ]
     },
     "execution_count": 5,
     "metadata": {},
     "output_type": "execute_result"
    }
   ],
   "source": [
    "# EXAMPLE\n",
    "\n",
    "new_lst[3][0]"
   ]
  },
  {
   "cell_type": "markdown",
   "id": "grand-meditation",
   "metadata": {},
   "source": [
    "You can also replace the objects in the list by using iteration."
   ]
  },
  {
   "cell_type": "code",
   "execution_count": 6,
   "id": "collaborative-tunisia",
   "metadata": {},
   "outputs": [
    {
     "data": {
      "text/plain": [
       "[6, 'name', 3, 'berkeley']"
      ]
     },
     "execution_count": 6,
     "metadata": {},
     "output_type": "execute_result"
    }
   ],
   "source": [
    "# EXAMPLE\n",
    "\n",
    "new_lst[0] = 6\n",
    "new_lst"
   ]
  },
  {
   "cell_type": "markdown",
   "id": "lightweight-blade",
   "metadata": {},
   "source": [
    "### 1.2 Adding Elements"
   ]
  },
  {
   "cell_type": "markdown",
   "id": "narrative-bermuda",
   "metadata": {},
   "source": [
    "To add elements to a list, we can use a few fucntions. The ones we will show you today are built-in functions **insert** and **append**."
   ]
  },
  {
   "cell_type": "code",
   "execution_count": 7,
   "id": "forward-elite",
   "metadata": {},
   "outputs": [
    {
     "data": {
      "text/plain": [
       "['Sequoia', 'Palm Tree', 'Joshua Tree', 'Pine Tree']"
      ]
     },
     "execution_count": 7,
     "metadata": {},
     "output_type": "execute_result"
    }
   ],
   "source": [
    "# EXAMPLE\n",
    "\n",
    "trees = [\"Sequoia\", \"Palm Tree\", \"Joshua Tree\"]\n",
    "\n",
    "# to add an element to the end of the list, we can use \"append\"\n",
    "\n",
    "trees.append(\"Pine Tree\")\n",
    "trees"
   ]
  },
  {
   "cell_type": "markdown",
   "id": "saving-brook",
   "metadata": {},
   "source": [
    "We use **insert** when we want to put something at a certain position. But be careful with it, you actually need to specify the position at which you are inserting an element."
   ]
  },
  {
   "cell_type": "code",
   "execution_count": 18,
   "id": "vertical-samoa",
   "metadata": {},
   "outputs": [
    {
     "data": {
      "text/plain": [
       "['Sequoia', 'Palm Tree', 'Redwood', 'Redwood', 'Joshua Tree', 'Pine Tree']"
      ]
     },
     "execution_count": 18,
     "metadata": {},
     "output_type": "execute_result"
    }
   ],
   "source": [
    "# EXAMPLE\n",
    "\n",
    "trees.insert(2, \"Redwood\")\n",
    "trees"
   ]
  },
  {
   "cell_type": "markdown",
   "id": "regulated-rainbow",
   "metadata": {},
   "source": [
    "In the cell below, practoce using both methods to add elements to a list."
   ]
  },
  {
   "cell_type": "code",
   "execution_count": null,
   "id": "signal-assistant",
   "metadata": {},
   "outputs": [],
   "source": [
    "# EXERCISE\n",
    "\n",
    "trees #method 1\n",
    "trees #method 2"
   ]
  },
  {
   "cell_type": "markdown",
   "id": "vital-puppy",
   "metadata": {},
   "source": [
    "Methods **insert** and **append** are not the only ways to add elements to a list. The most commonly used way to add elements to lists (and other data structures you will learn about later) is using **+=** signs. The way you can think about it is **+** adds and element and **=** reassigns the variable."
   ]
  },
  {
   "cell_type": "code",
   "execution_count": 4,
   "id": "polished-deployment",
   "metadata": {},
   "outputs": [
    {
     "data": {
      "text/plain": [
       "['zucchini', 'cucumber', 'potato']"
      ]
     },
     "execution_count": 4,
     "metadata": {},
     "output_type": "execute_result"
    }
   ],
   "source": [
    "# EXAMPLE\n",
    "\n",
    "veg = [\"zucchini\", \"cucumber\"]\n",
    "\n",
    "veg+= [\"potato\"]\n",
    "veg"
   ]
  },
  {
   "cell_type": "markdown",
   "id": "imperial-synthesis",
   "metadata": {},
   "source": [
    "The importantthing to remember is that **+** can only work with elements of the same type. If you want to add somthing to a list, the element must be in the form of a list as well. Let's see what would happen if we will try to add a non-list element to a list."
   ]
  },
  {
   "cell_type": "code",
   "execution_count": 5,
   "id": "cleared-poetry",
   "metadata": {},
   "outputs": [
    {
     "data": {
      "text/plain": [
       "['zucchini',\n",
       " 'cucumber',\n",
       " 'potato',\n",
       " 'b',\n",
       " 'e',\n",
       " 'l',\n",
       " 'l',\n",
       " ' ',\n",
       " 'p',\n",
       " 'e',\n",
       " 'p',\n",
       " 'p',\n",
       " 'e',\n",
       " 'r']"
      ]
     },
     "execution_count": 5,
     "metadata": {},
     "output_type": "execute_result"
    }
   ],
   "source": [
    "veg += \"bell pepper\"\n",
    "veg"
   ]
  },
  {
   "cell_type": "markdown",
   "id": "representative-assault",
   "metadata": {},
   "source": [
    "Now practice adding your own vegetable to choice to the list **veg**. \n",
    "\n",
    "**Note:** Since **veg** is in the form of a list, the element you add to it should also be in a form of a list."
   ]
  },
  {
   "cell_type": "code",
   "execution_count": null,
   "id": "accompanied-preparation",
   "metadata": {},
   "outputs": [],
   "source": [
    "# EXERCISE\n",
    "\n",
    "\n",
    "veg += ...\n",
    "veg"
   ]
  },
  {
   "cell_type": "markdown",
   "id": "apart-directive",
   "metadata": {},
   "source": [
    "### 1.3 Deleting Elements\n",
    "\n",
    "Python has 3 built-in functions and methods for deleting elements from a list."
   ]
  },
  {
   "cell_type": "code",
   "execution_count": 9,
   "id": "motivated-thong",
   "metadata": {},
   "outputs": [],
   "source": [
    "random_list = ['Zoom', 1, 7, 9, \"Python\", \"Berkeley\"]"
   ]
  },
  {
   "cell_type": "markdown",
   "id": "continent-bangkok",
   "metadata": {},
   "source": [
    "Method **del** works with indeces and allows for the deletion of parts of the list through slicing."
   ]
  },
  {
   "cell_type": "code",
   "execution_count": 10,
   "id": "dried-animation",
   "metadata": {},
   "outputs": [
    {
     "data": {
      "text/plain": [
       "[7, 9, 'Python', 'Berkeley']"
      ]
     },
     "execution_count": 10,
     "metadata": {},
     "output_type": "execute_result"
    }
   ],
   "source": [
    "# EXAMPLE \n",
    "\n",
    "del random_list[0:2]\n",
    "\n",
    "random_list"
   ]
  },
  {
   "cell_type": "markdown",
   "id": "olive-frank",
   "metadata": {},
   "source": [
    "Method **.pop(  )** works with indeces. It is the last symbol/character/object by default. But you can add a specific index."
   ]
  },
  {
   "cell_type": "code",
   "execution_count": 11,
   "id": "protecting-harmony",
   "metadata": {},
   "outputs": [
    {
     "data": {
      "text/plain": [
       "'Berkeley'"
      ]
     },
     "execution_count": 11,
     "metadata": {},
     "output_type": "execute_result"
    }
   ],
   "source": [
    "# EXAMPLE \n",
    "\n",
    "random_list.pop()"
   ]
  },
  {
   "cell_type": "code",
   "execution_count": 12,
   "id": "british-billion",
   "metadata": {},
   "outputs": [
    {
     "data": {
      "text/plain": [
       "7"
      ]
     },
     "execution_count": 12,
     "metadata": {},
     "output_type": "execute_result"
    }
   ],
   "source": [
    "# EXAMPLE \n",
    "\n",
    "random_list.pop(0)"
   ]
  },
  {
   "cell_type": "markdown",
   "id": "congressional-facility",
   "metadata": {},
   "source": [
    "Notice that **.pop(  )** also outputs the thing it has removed from a list. "
   ]
  },
  {
   "cell_type": "code",
   "execution_count": 13,
   "id": "injured-investigation",
   "metadata": {},
   "outputs": [
    {
     "name": "stdout",
     "output_type": "stream",
     "text": [
      "['California', 'is', 'on the']\n",
      "West Coast\n"
     ]
    }
   ],
   "source": [
    "# EXAMPLE \n",
    "\n",
    "state = [\"California\", \"is\", \"on the\", \"West Coast\"]\n",
    "last = state.pop()\n",
    "\n",
    "print(state)\n",
    "print(last)"
   ]
  },
  {
   "cell_type": "markdown",
   "id": "peaceful-aircraft",
   "metadata": {},
   "source": [
    "Another method you can use for lists is **.remove**. This method uses the exact values (case matters too)."
   ]
  },
  {
   "cell_type": "code",
   "execution_count": 16,
   "id": "hydraulic-acceptance",
   "metadata": {},
   "outputs": [
    {
     "ename": "ValueError",
     "evalue": "list.remove(x): x not in list",
     "output_type": "error",
     "traceback": [
      "\u001b[0;31m---------------------------------------------------------------------------\u001b[0m",
      "\u001b[0;31mValueError\u001b[0m                                Traceback (most recent call last)",
      "\u001b[0;32m<ipython-input-16-452babd50dca>\u001b[0m in \u001b[0;36m<module>\u001b[0;34m\u001b[0m\n\u001b[1;32m      1\u001b[0m \u001b[0;31m# EXAMPLE\u001b[0m\u001b[0;34m\u001b[0m\u001b[0;34m\u001b[0m\u001b[0;34m\u001b[0m\u001b[0m\n\u001b[1;32m      2\u001b[0m \u001b[0;34m\u001b[0m\u001b[0m\n\u001b[0;32m----> 3\u001b[0;31m \u001b[0mrandom_list\u001b[0m\u001b[0;34m.\u001b[0m\u001b[0mremove\u001b[0m\u001b[0;34m(\u001b[0m\u001b[0;34m\"Python\"\u001b[0m\u001b[0;34m)\u001b[0m\u001b[0;34m\u001b[0m\u001b[0;34m\u001b[0m\u001b[0m\n\u001b[0m\u001b[1;32m      4\u001b[0m \u001b[0mrandom_list\u001b[0m\u001b[0;34m\u001b[0m\u001b[0;34m\u001b[0m\u001b[0m\n",
      "\u001b[0;31mValueError\u001b[0m: list.remove(x): x not in list"
     ]
    }
   ],
   "source": [
    "# EXAMPLE \n",
    "\n",
    "random_list.remove(\"Python\")\n",
    "random_list"
   ]
  },
  {
   "cell_type": "markdown",
   "id": "blocked-shoot",
   "metadata": {},
   "source": [
    "In the cell below, delete three elements with the help of three different methods shown above."
   ]
  },
  {
   "cell_type": "code",
   "execution_count": 7,
   "id": "respected-essay",
   "metadata": {},
   "outputs": [
    {
     "ename": "TypeError",
     "evalue": "unsupported operand type(s) for -=: 'list' and 'str'",
     "output_type": "error",
     "traceback": [
      "\u001b[0;31m---------------------------------------------------------------------------\u001b[0m",
      "\u001b[0;31mTypeError\u001b[0m                                 Traceback (most recent call last)",
      "\u001b[0;32m<ipython-input-7-27828fab7cdf>\u001b[0m in \u001b[0;36m<module>\u001b[0;34m\u001b[0m\n\u001b[1;32m      1\u001b[0m \u001b[0;31m# EXERCISE\u001b[0m\u001b[0;34m\u001b[0m\u001b[0;34m\u001b[0m\u001b[0;34m\u001b[0m\u001b[0m\n\u001b[1;32m      2\u001b[0m \u001b[0;34m\u001b[0m\u001b[0m\n\u001b[0;32m----> 3\u001b[0;31m \u001b[0mveg\u001b[0m \u001b[0;34m-=\u001b[0m \u001b[0;34m\"potato\"\u001b[0m\u001b[0;34m\u001b[0m\u001b[0;34m\u001b[0m\u001b[0m\n\u001b[0m",
      "\u001b[0;31mTypeError\u001b[0m: unsupported operand type(s) for -=: 'list' and 'str'"
     ]
    }
   ],
   "source": [
    "# EXERCISE\n",
    "\n",
    "majors = [\"Cognitive Science\", \"Data Science\", [\"Biology\", \"Chemistry\"], \"American Studies\"]\n",
    "\n",
    "#first method\n",
    "...\n",
    "print(majors)\n",
    "\n",
    "#second method\n",
    "...\n",
    "print(majors)\n",
    "\n",
    "\n",
    "#third method\n",
    "...\n",
    "print(majors)"
   ]
  },
  {
   "cell_type": "markdown",
   "id": "consecutive-contamination",
   "metadata": {},
   "source": [
    "### 1.4 Length of a list"
   ]
  },
  {
   "cell_type": "markdown",
   "id": "later-surface",
   "metadata": {},
   "source": [
    "Built-in function **len(   )** can also be used to figure out the length of a list."
   ]
  },
  {
   "cell_type": "code",
   "execution_count": 20,
   "id": "enclosed-struggle",
   "metadata": {},
   "outputs": [
    {
     "data": {
      "text/plain": [
       "4"
      ]
     },
     "execution_count": 20,
     "metadata": {},
     "output_type": "execute_result"
    }
   ],
   "source": [
    "# EXAMPLE \n",
    "# Before running this cell, think what the output will be.\n",
    "\n",
    "countries = [\"USA\", \"Belarus\", \"Mexico\", \"Poland\"]\n",
    "len(countries)"
   ]
  },
  {
   "cell_type": "markdown",
   "id": "gothic-science",
   "metadata": {},
   "source": [
    "### 1.5 Operations on a list"
   ]
  },
  {
   "cell_type": "code",
   "execution_count": 21,
   "id": "secret-peoples",
   "metadata": {},
   "outputs": [],
   "source": [
    "my_numbers = [1, 2, 3, 4, 5]"
   ]
  },
  {
   "cell_type": "code",
   "execution_count": 25,
   "id": "british-cornell",
   "metadata": {},
   "outputs": [
    {
     "ename": "TypeError",
     "evalue": "can only concatenate list (not \"int\") to list",
     "output_type": "error",
     "traceback": [
      "\u001b[0;31m---------------------------------------------------------------------------\u001b[0m",
      "\u001b[0;31mTypeError\u001b[0m                                 Traceback (most recent call last)",
      "\u001b[0;32m<ipython-input-25-1994b2a5e42c>\u001b[0m in \u001b[0;36m<module>\u001b[0;34m\u001b[0m\n\u001b[1;32m      1\u001b[0m \u001b[0;31m# EXAMPLE\u001b[0m\u001b[0;34m\u001b[0m\u001b[0;34m\u001b[0m\u001b[0;34m\u001b[0m\u001b[0m\n\u001b[1;32m      2\u001b[0m \u001b[0;34m\u001b[0m\u001b[0m\n\u001b[0;32m----> 3\u001b[0;31m \u001b[0mmy_numbers\u001b[0m \u001b[0;34m+\u001b[0m \u001b[0;36m2\u001b[0m\u001b[0;34m\u001b[0m\u001b[0;34m\u001b[0m\u001b[0m\n\u001b[0m",
      "\u001b[0;31mTypeError\u001b[0m: can only concatenate list (not \"int\") to list"
     ]
    }
   ],
   "source": [
    "# EXAMPLE\n",
    "\n",
    "my_numbers + 2"
   ]
  },
  {
   "cell_type": "markdown",
   "id": "behind-marble",
   "metadata": {},
   "source": [
    "Lists do not support \"+\" as a addition, rather the \"+\" operator actually concatenates. In order to concatenate, or glue elements together, they must the same data type or data structure. \n",
    "\n"
   ]
  },
  {
   "cell_type": "code",
   "execution_count": 23,
   "id": "electric-workplace",
   "metadata": {},
   "outputs": [
    {
     "data": {
      "text/plain": [
       "[1, 2, 3, 4, 5, 6]"
      ]
     },
     "execution_count": 23,
     "metadata": {},
     "output_type": "execute_result"
    }
   ],
   "source": [
    "list_one = [1, 2, 3]\n",
    "list_two = [4, 5, 6]\n",
    "list_three = list_one + list_two\n",
    "list_three"
   ]
  },
  {
   "cell_type": "markdown",
   "id": "dominant-sodium",
   "metadata": {},
   "source": [
    "Can you guess what would the next cell output?"
   ]
  },
  {
   "cell_type": "code",
   "execution_count": 26,
   "id": "ready-harvest",
   "metadata": {},
   "outputs": [
    {
     "data": {
      "text/plain": [
       "[1, 2, 3, 4, 5, 1, 2, 3, 4, 5]"
      ]
     },
     "execution_count": 26,
     "metadata": {},
     "output_type": "execute_result"
    }
   ],
   "source": [
    "# EXAMPLE\n",
    "\n",
    "my_numbers * 2"
   ]
  },
  {
   "cell_type": "markdown",
   "id": "inappropriate-input",
   "metadata": {},
   "source": [
    "## Extra: Arrays"
   ]
  },
  {
   "cell_type": "markdown",
   "id": "meaningful-denver",
   "metadata": {},
   "source": [
    "Arrays are very similar to lists, except the fact that all items in an array are the same type (ex. all ints, all str, ...). Even though they may seem less helpful since they cannot handle different types of variables, they are very important in data science. We will learn more about arrays next week!\n",
    "\n",
    "Below, we are going to explore arrays and see the difference between lists and arrays. I have to import numpy (a module) in order to create an array. I will make an array and a list with the same numbers."
   ]
  },
  {
   "cell_type": "code",
   "execution_count": 1,
   "id": "terminal-setting",
   "metadata": {},
   "outputs": [],
   "source": [
    "import numpy as np"
   ]
  },
  {
   "cell_type": "code",
   "execution_count": 2,
   "id": "differential-booking",
   "metadata": {},
   "outputs": [
    {
     "data": {
      "text/plain": [
       "(array([1, 2, 3, 4]), [1, 2, 3, 4])"
      ]
     },
     "execution_count": 2,
     "metadata": {},
     "output_type": "execute_result"
    }
   ],
   "source": [
    "array1 = np.array([1,2,3,4])\n",
    "list1 = [1,2,3,4]\n",
    "array1, list1"
   ]
  },
  {
   "cell_type": "markdown",
   "id": "alike-screw",
   "metadata": {},
   "source": [
    "Try doing the following operations:\n",
    "\n",
    "array1 + array1\n",
    "\n",
    "list1 + list1\n",
    "\n",
    "array1 * array1\n",
    "\n",
    "list1 * list1"
   ]
  },
  {
   "cell_type": "code",
   "execution_count": 3,
   "id": "applicable-pencil",
   "metadata": {},
   "outputs": [],
   "source": [
    "# EXERCISE\n",
    "\n",
    "# add two arrays\n",
    "# add two lists\n",
    "\n",
    "print(...)\n",
    "print(...)"
   ]
  },
  {
   "cell_type": "code",
   "execution_count": 4,
   "id": "light-public",
   "metadata": {},
   "outputs": [
    {
     "name": "stdout",
     "output_type": "stream",
     "text": [
      "Ellipsis\n",
      "Ellipsis\n"
     ]
    }
   ],
   "source": [
    "# EXERCISE\n",
    "\n",
    "# multiply two arrays\n",
    "# multiply two lists\n",
    "\n",
    "print(...)\n",
    "print(...)"
   ]
  },
  {
   "cell_type": "markdown",
   "id": "leading-vertical",
   "metadata": {},
   "source": [
    "Do you see any differences between lists and arrays? What are they? Try to find other differences. "
   ]
  },
  {
   "cell_type": "markdown",
   "id": "increased-charles",
   "metadata": {},
   "source": [
    "Notebook developed by: Kseniya Usovich & Rachel McCarty"
   ]
  }
 ],
 "metadata": {
  "kernelspec": {
   "display_name": "Python 3",
   "language": "python",
   "name": "python3"
  },
  "language_info": {
   "codemirror_mode": {
    "name": "ipython",
    "version": 3
   },
   "file_extension": ".py",
   "mimetype": "text/x-python",
   "name": "python",
   "nbconvert_exporter": "python",
   "pygments_lexer": "ipython3",
   "version": "3.9.1"
  }
 },
 "nbformat": 4,
 "nbformat_minor": 5
}
