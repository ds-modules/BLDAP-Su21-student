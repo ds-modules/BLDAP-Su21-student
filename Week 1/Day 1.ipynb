{
 "cells": [
  {
   "cell_type": "markdown",
   "id": "desperate-intranet",
   "metadata": {},
   "source": [
    "<img src=\"lbnl_logo.jpg\">\n",
    "\n",
    "\n",
    "\n",
    "\n",
    "--------\n",
    "\n",
    "### Table of Contents\n",
    "\n",
    "1 - [Jupyter Notebook](#section1)<br>\n",
    "\n",
    "&nbsp;&nbsp;&nbsp;&nbsp;&nbsp;&nbsp; 1.1 - [Comments](#subsection1)<br>\n",
    "\n",
    "&nbsp;&nbsp;&nbsp;&nbsp;&nbsp;&nbsp; 1.2 - [Adding and Deleting Cells](#subsection2)<br>\n",
    "\n",
    "2 - [Basics](#section2)<br>\n",
    "\n",
    "&nbsp;&nbsp;&nbsp;&nbsp;&nbsp;&nbsp; 2.1 - [Python for simple arithmetic](#subsection3)<br>\n",
    "\n",
    "&nbsp;&nbsp;&nbsp;&nbsp;&nbsp;&nbsp; 2.2 - [Python for textual data ](#subsection4)<br>\n",
    "\n",
    "&nbsp;&nbsp;&nbsp;&nbsp;&nbsp;&nbsp; 2.3 - [Variables](#subsection5)<br>\n"
   ]
  },
  {
   "cell_type": "markdown",
   "id": "obvious-vermont",
   "metadata": {},
   "source": [
    "---\n",
    "## The Jupyter Notebook <a id='section1'></a>"
   ]
  },
  {
   "cell_type": "markdown",
   "id": "radical-triple",
   "metadata": {},
   "source": [
    "Notebooks is a document-like platform that contains text, code, visualizations, and more.\n",
    "\n",
    "A notebook is composed of rectangular sections called cells. There are 2 kinds of cells: __markdown__ and __code__. You can select any cell by clicking it once.\n",
    "\n",
    "__1)__ A markdown cell, such as this one, contains text. Markdown cells contains plain text and you can format this text in many different ways! ( This will not be covered on this workshop)\n",
    "  \n",
    "  * To edit Markdown cells:\n",
    "       * Click twice on the markdown cell, make your changes, and run your cell again! \n",
    "\n",
    "__2)__ A code cell contains code in Python, a programming language that we will be using for the remainder of this workshop. \n",
    "\n",
    " \n",
    "\n",
    "* To run code, \n",
    "    * press shift + enter or\n",
    "    * click the Run button in the toolbar at the top of the screen.\n",
    "    * If a code cell is running, you will see an asterisk (*) appear in the square brackets to the left of the cell. Once the cell has finished running, a number will replace the asterisk and any output from the code will appear under the cell. This is represented by a number. "
   ]
  },
  {
   "cell_type": "code",
   "execution_count": null,
   "id": "toxic-district",
   "metadata": {},
   "outputs": [],
   "source": [
    "# THIS IS A COMMENT: RUN THIS CELL\n",
    "\n",
    "print(\"Hello World!\")  # The print function displays the its content on the screen"
   ]
  },
  {
   "cell_type": "markdown",
   "id": "still-marshall",
   "metadata": {},
   "source": [
    "### Comments <a id='subsection1'></a>\n",
    "\n",
    "The blue text followed by the hashtag (#) is a a __comment__.\n",
    "* Comments are ignored by the computer, that is, they are not executed with the rest of your code. \n",
    "\n",
    "* Comments are used to document or add notes about what your code cell is doing. You want to be kind to your future self and others by adding notes that will help you down the road. "
   ]
  },
  {
   "cell_type": "markdown",
   "id": "floating-hughes",
   "metadata": {},
   "source": [
    "### Adding and Deleting cells <a id='subsection2'></a>"
   ]
  },
  {
   "cell_type": "markdown",
   "id": "automotive-minneapolis",
   "metadata": {},
   "source": [
    "There are a few ways to add cells:\n",
    "\n",
    "1. Click a **+** sign at the top\n",
    "2. Insert - Cell above/below\n",
    "3. When running a current cell, click \"shift-option\"; that will run a current cell and add a new code cell underneath it\n",
    "4. Select your current cell and click **a** for inserting a cell above, and **b** for inserting one below"
   ]
  },
  {
   "cell_type": "code",
   "execution_count": null,
   "id": "turned-falls",
   "metadata": {},
   "outputs": [],
   "source": [
    "# EXERCISE\n",
    "\n",
    "# add 4 new cells"
   ]
  },
  {
   "cell_type": "markdown",
   "id": "coordinated-florist",
   "metadata": {},
   "source": [
    "There are a few ways to delete cells:\n",
    "\n",
    "1. Click on the scissors at the top\n",
    "2. Edit - Delete Cell\n",
    "3. Click on the rectangle around the cell; once it turns blue, click **d** twice "
   ]
  },
  {
   "cell_type": "code",
   "execution_count": null,
   "id": "surrounded-dispute",
   "metadata": {},
   "outputs": [],
   "source": [
    "# EXERCISE\n",
    "\n",
    "# delete the cells above in a few different ways you just learned"
   ]
  },
  {
   "cell_type": "markdown",
   "id": "negative-component",
   "metadata": {},
   "source": [
    "---\n",
    "## Basics  <a id='section2'></a>\n",
    "\n",
    "* Data Types or Object: You can group data into two main types, __numerical__ and __textual__. In this section you will learn about the two different types of numerical information that it is there, namely, float and integer data.  \n",
    "\n"
   ]
  },
  {
   "cell_type": "markdown",
   "id": "selective-commodity",
   "metadata": {},
   "source": [
    "### 2.1 Python can be use to compute simple __arithmetic__  <a id='subsection3'></a>\n",
    "\n"
   ]
  },
  {
   "cell_type": "code",
   "execution_count": null,
   "id": "retired-brunswick",
   "metadata": {},
   "outputs": [],
   "source": [
    "# EXAMPLE\n",
    "\n",
    "5+2"
   ]
  },
  {
   "cell_type": "code",
   "execution_count": null,
   "id": "excited-confusion",
   "metadata": {},
   "outputs": [],
   "source": [
    "2.0 + 5"
   ]
  },
  {
   "cell_type": "code",
   "execution_count": null,
   "id": "informative-florida",
   "metadata": {},
   "outputs": [],
   "source": [
    "4/2"
   ]
  },
  {
   "cell_type": "code",
   "execution_count": null,
   "id": "compatible-skirt",
   "metadata": {},
   "outputs": [],
   "source": [
    "4/3"
   ]
  },
  {
   "cell_type": "markdown",
   "id": "occasional-trail",
   "metadata": {},
   "source": [
    "Two slashes (**//**) are used for floor division. This type of division will return an integer (aka there won't be a floating, or Decimal, point)"
   ]
  },
  {
   "cell_type": "code",
   "execution_count": null,
   "id": "passive-mauritius",
   "metadata": {},
   "outputs": [],
   "source": [
    "4//3"
   ]
  },
  {
   "cell_type": "code",
   "execution_count": null,
   "id": "subjective-spectrum",
   "metadata": {},
   "outputs": [],
   "source": [
    "5*3"
   ]
  },
  {
   "cell_type": "markdown",
   "id": "loaded-westminster",
   "metadata": {},
   "source": [
    "When using two stars, we exponentiate the numbers. Meaning, we take the number on the left to the power of the number to the right. "
   ]
  },
  {
   "cell_type": "code",
   "execution_count": null,
   "id": "blank-discipline",
   "metadata": {},
   "outputs": [],
   "source": [
    "5**3"
   ]
  },
  {
   "cell_type": "code",
   "execution_count": null,
   "id": "elegant-infection",
   "metadata": {},
   "outputs": [],
   "source": [
    "(1+2) * 2"
   ]
  },
  {
   "cell_type": "markdown",
   "id": "other-canyon",
   "metadata": {},
   "source": [
    "### Challenge"
   ]
  },
  {
   "cell_type": "markdown",
   "id": "later-spending",
   "metadata": {},
   "source": [
    "Use Python to find the volume of a few different spheres. Find the volume if the radius is: 5, 48, 2.73, and 3."
   ]
  },
  {
   "cell_type": "code",
   "execution_count": null,
   "id": "attempted-phoenix",
   "metadata": {},
   "outputs": [],
   "source": [
    "# EXERCISE\n",
    "\n",
    "..."
   ]
  },
  {
   "cell_type": "markdown",
   "id": "accurate-tension",
   "metadata": {},
   "source": [
    "### 2.2 Python can be use on textual data <a id='subsection4'></a>\n",
    "\n",
    "* Textual data are called strings \n",
    "* Strings are defined by the quotation marks (either \"double\"  or 'single').\n",
    "\n",
    "\n"
   ]
  },
  {
   "cell_type": "code",
   "execution_count": null,
   "id": "facial-childhood",
   "metadata": {},
   "outputs": [],
   "source": [
    "# EXAMPLE\n",
    "\n",
    "\"Berkeley Lab\""
   ]
  },
  {
   "cell_type": "code",
   "execution_count": null,
   "id": "excited-point",
   "metadata": {},
   "outputs": [],
   "source": [
    "'Berkeley Lab'"
   ]
  },
  {
   "cell_type": "markdown",
   "id": "dirty-interpretation",
   "metadata": {},
   "source": [
    "Be careful, because some of the textual information might already contain the single (more common) or double (less common) quotation marks inside. Like so:"
   ]
  },
  {
   "cell_type": "code",
   "execution_count": null,
   "id": "rolled-recipient",
   "metadata": {},
   "outputs": [],
   "source": [
    "# EXAMPLE\n",
    "\n",
    "'Zachary's'"
   ]
  },
  {
   "cell_type": "markdown",
   "id": "according-sacrifice",
   "metadata": {},
   "source": [
    "If we were to use single quotation marks on the outside, it would give us an error like the one above. To fix this, we want to use double quotations outside, or simply put a backslash before the quotation mark, so the computer will read it as part of the string instead of a part of the code itself."
   ]
  },
  {
   "cell_type": "code",
   "execution_count": null,
   "id": "better-powder",
   "metadata": {},
   "outputs": [],
   "source": [
    "# EXAMPLE\n",
    "\n",
    "\"Zachary's\""
   ]
  },
  {
   "cell_type": "code",
   "execution_count": null,
   "id": "typical-measure",
   "metadata": {},
   "outputs": [],
   "source": [
    "# EXAMPLE\n",
    "\n",
    "'Zachary\\'s'"
   ]
  },
  {
   "cell_type": "markdown",
   "id": "jewish-senior",
   "metadata": {},
   "source": [
    "Everything inside that quotation marks will be read as a textual information. Compare the outputs in the cell below."
   ]
  },
  {
   "cell_type": "code",
   "execution_count": null,
   "id": "tracked-klein",
   "metadata": {},
   "outputs": [],
   "source": [
    "# EXAMPLE\n",
    "\n",
    "print(\"2+3\")\n",
    "print(2+3)"
   ]
  },
  {
   "cell_type": "markdown",
   "id": "south-particle",
   "metadata": {},
   "source": [
    "Add 2 strings together (with a **+**) to see what happens!"
   ]
  },
  {
   "cell_type": "code",
   "execution_count": null,
   "id": "nearby-frost",
   "metadata": {},
   "outputs": [],
   "source": [
    "# EXERCISE\n",
    "\n"
   ]
  },
  {
   "cell_type": "markdown",
   "id": "working-bloom",
   "metadata": {},
   "source": [
    "Multiply a string by a number to see what happens!"
   ]
  },
  {
   "cell_type": "code",
   "execution_count": null,
   "id": "fancy-green",
   "metadata": {},
   "outputs": [],
   "source": [
    "# EXERCISE\n",
    "\n"
   ]
  },
  {
   "cell_type": "markdown",
   "id": "graduate-selection",
   "metadata": {},
   "source": [
    "### Challenge"
   ]
  },
  {
   "cell_type": "markdown",
   "id": "handled-quebec",
   "metadata": {},
   "source": [
    "In Python, there is something called \"casting.\" Casting is when convert one variable type to another. For example, converting a integer to a string. \n",
    "\n",
    "To convert to a string, write \"str()\", and inside the parenthesis, write the variable you want to cast as a string. To convert to an integer, do the same thing but write \"int()\""
   ]
  },
  {
   "cell_type": "code",
   "execution_count": null,
   "id": "distant-luxembourg",
   "metadata": {},
   "outputs": [],
   "source": [
    "# EXAMPLE\n",
    "\n",
    "str(5)"
   ]
  },
  {
   "cell_type": "markdown",
   "id": "deluxe-appreciation",
   "metadata": {},
   "source": [
    "What do you think will happen if you try to cast an string as an integer? Try it in the cell below!"
   ]
  },
  {
   "cell_type": "code",
   "execution_count": null,
   "id": "encouraging-vacation",
   "metadata": {},
   "outputs": [],
   "source": [
    "# EXERCISE\n",
    "\n"
   ]
  },
  {
   "cell_type": "markdown",
   "id": "beautiful-progressive",
   "metadata": {},
   "source": [
    "### 2.3 Variables <a id='subsection5'></a>\n",
    "\n",
    "\n",
    "We should think of a variable as a container or a storage box that allows us to save various types of information/objects we plan to use later. Defining a variable consists of two components: a name it will be called by and information/object you store under that name. One variable can hold one type of information. \n",
    "\n",
    "* We assign an object using **=** "
   ]
  },
  {
   "cell_type": "code",
   "execution_count": null,
   "id": "harmful-observer",
   "metadata": {},
   "outputs": [],
   "source": [
    "# EXAMPLE\n",
    "\n",
    "var = \"Variable\"\n",
    "var"
   ]
  },
  {
   "cell_type": "markdown",
   "id": "binding-station",
   "metadata": {},
   "source": [
    "In the cell below create a variable \"name\" that will save your full name in it."
   ]
  },
  {
   "cell_type": "code",
   "execution_count": null,
   "id": "casual-complex",
   "metadata": {},
   "outputs": [],
   "source": [
    "# EXERCISE\n",
    "\n",
    "name  = \"...\"\n",
    "name"
   ]
  },
  {
   "cell_type": "markdown",
   "id": "listed-combining",
   "metadata": {},
   "source": [
    "Variables can be used for any Data Type or Data Structure (which we will learn about tomorrow). Numbers that you plan to reuse can be saved under a variable as well."
   ]
  },
  {
   "cell_type": "code",
   "execution_count": null,
   "id": "martial-magic",
   "metadata": {},
   "outputs": [],
   "source": [
    "# EXAMPLE\n",
    "\n",
    "g = 9.8\n",
    "g"
   ]
  },
  {
   "cell_type": "markdown",
   "id": "unknown-questionnaire",
   "metadata": {},
   "source": [
    "Variables that have numbers (either integers or floats) can be used in calculations just like regular numbers."
   ]
  },
  {
   "cell_type": "code",
   "execution_count": null,
   "id": "behind-adult",
   "metadata": {},
   "outputs": [],
   "source": [
    "# EXAMPLE\n",
    "\n",
    "g*5"
   ]
  },
  {
   "cell_type": "markdown",
   "id": "endless-continent",
   "metadata": {},
   "source": [
    "In the cell below, create two variables - x and y. Assign x to be equal to 4 and y to be equal to 3. Take x to the power of y."
   ]
  },
  {
   "cell_type": "code",
   "execution_count": null,
   "id": "sophisticated-bracket",
   "metadata": {},
   "outputs": [],
   "source": [
    "# EXERCISE\n",
    "\n",
    "x = ...\n",
    "y = ...\n",
    "\n",
    "..."
   ]
  },
  {
   "cell_type": "markdown",
   "id": "tough-adolescent",
   "metadata": {},
   "source": [
    "Notebook developed by: Kseniya Usovich & Rachel McCarty"
   ]
  }
 ],
 "metadata": {
  "kernelspec": {
   "display_name": "Python 3",
   "language": "python",
   "name": "python3"
  },
  "language_info": {
   "codemirror_mode": {
    "name": "ipython",
    "version": 3
   },
   "file_extension": ".py",
   "mimetype": "text/x-python",
   "name": "python",
   "nbconvert_exporter": "python",
   "pygments_lexer": "ipython3",
   "version": "3.9.1"
  }
 },
 "nbformat": 4,
 "nbformat_minor": 5
}
