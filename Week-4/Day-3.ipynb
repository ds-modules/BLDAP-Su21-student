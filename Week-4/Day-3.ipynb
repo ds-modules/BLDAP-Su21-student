{
 "cells": [
  {
   "cell_type": "markdown",
   "id": "quick-cleaners",
   "metadata": {},
   "source": [
    "<img src=\"lbnl_logo.jpg\">\n",
    "\n",
    "----\n",
    "\n",
    "\n",
    "\n",
    "\n",
    "# Challenge Lab, Day 3\n",
    "\n",
    "\n",
    "\n",
    "---"
   ]
  },
  {
   "cell_type": "code",
   "execution_count": null,
   "id": "likely-rapid",
   "metadata": {},
   "outputs": [],
   "source": [
    "import pandas as pd\n",
    "import numpy as np\n",
    "import seaborn as sns\n",
    "import matplotlib.pyplot as plt"
   ]
  },
  {
   "cell_type": "code",
   "execution_count": null,
   "id": "structural-acceptance",
   "metadata": {},
   "outputs": [],
   "source": [
    "weather_and_power = pd.read_csv(\"weather_and_power.csv\").drop([\"Unnamed: 0\"], axis=1)\n",
    "weather_and_power.head()"
   ]
  },
  {
   "cell_type": "markdown",
   "id": "mysterious-remains",
   "metadata": {},
   "source": [
    "In the cell below, make a scatter plot that compares the total energy consumption to the buildinh total power consumption.\n",
    "\n",
    "**Hint:** the syntax to do that is sns.lmplot(data = dataframe, x= column you want on the x-axis, y= column you want on the y-axis)"
   ]
  },
  {
   "cell_type": "code",
   "execution_count": null,
   "id": "indonesian-mercy",
   "metadata": {},
   "outputs": [],
   "source": [
    "# EXERCISE\n",
    "\n",
    "#sns.lmplot(data = weather_and_power, x = \"total energy consumption\", y = \"building total power consumption (Watts)\");\n",
    "plt.scatter(x= weather_and_power[\"total energy consumption\"], \n",
    "            y=weather_and_power[\"building total power consumption (Watts)\"]) #SOLUTION"
   ]
  },
  {
   "cell_type": "markdown",
   "id": "unusual-catch",
   "metadata": {},
   "source": [
    "Notice how when we do that, we see almost a perfect correlation between total energy consumption and building total consumption. But, a few points with total energy = 0 and building consumption = 0 are making it harder to see the rela relationship."
   ]
  },
  {
   "cell_type": "markdown",
   "id": "integrated-patrick",
   "metadata": {},
   "source": [
    "Use boolean indexing to find the rows where total energy consumption OR building total power consumption are zero"
   ]
  },
  {
   "cell_type": "code",
   "execution_count": null,
   "id": "worthy-massage",
   "metadata": {},
   "outputs": [],
   "source": [
    "# EXERCISE\n",
    "\n",
    "weather_and_power[(weather_and_power[\"total energy consumption\"]==0) | # SOLUTION\n",
    "                 (weather_and_power[\"building total power consumption (Watts)\"]==0)] #SOLUTION"
   ]
  },
  {
   "cell_type": "markdown",
   "id": "close-attribute",
   "metadata": {},
   "source": [
    "We do not want to include those rows in our datatable so we have to remove them. "
   ]
  },
  {
   "cell_type": "code",
   "execution_count": null,
   "id": "adapted-smell",
   "metadata": {},
   "outputs": [],
   "source": [
    "# EXAMPLE\n",
    "\n",
    "# Run this cell to remove those rows!\n",
    "weather_and_power.drop(weather_and_power[(weather_and_power[\"total energy consumption\"]==0) |\n",
    "    (weather_and_power[\"building total power consumption (Watts)\"]==0)].index, inplace = True)\n",
    "weather_and_power.head()"
   ]
  },
  {
   "cell_type": "markdown",
   "id": "sixth-selling",
   "metadata": {},
   "source": [
    "Okay, now lets create that same scatter plot again, this time with our 0 values removed!"
   ]
  },
  {
   "cell_type": "code",
   "execution_count": null,
   "id": "quantitative-nursery",
   "metadata": {},
   "outputs": [],
   "source": [
    "# EXERCISE\n",
    "\n",
    "#sns.lmplot(data = weather_and_power, x = \"total energy consumption\", y = \"building total power consumption (Watts)\");\n",
    "plt.scatter(x= weather_and_power[\"total energy consumption\"], #SOLUTION\n",
    "            y=weather_and_power[\"building total power consumption (Watts)\"]) #SOLUTION"
   ]
  },
  {
   "cell_type": "markdown",
   "id": "daily-campus",
   "metadata": {},
   "source": [
    "To find a line of best fit (the line going through the points) we need the formula\n",
    "$$\\hat{y_i} = \\bar{y} + r \\frac{SD(y)}{SD(x)} (x_i - \\bar{x})$$"
   ]
  },
  {
   "cell_type": "markdown",
   "id": "rural-cathedral",
   "metadata": {},
   "source": [
    "$\\bar{y}$ is the average value of y\n",
    "\n",
    "$\\bar{x}$ is the average value of y\n",
    "\n",
    "$r$ is the correlation coefficient\n",
    "\n",
    "$SD(y)$ is the standard deviation of the y values\n",
    "\n",
    "$SD(x)$ is the standard deviation of the x values"
   ]
  },
  {
   "cell_type": "markdown",
   "id": "prepared-example",
   "metadata": {},
   "source": [
    "In the cell below, find the average x value, average y value, standard deviation of x, standard deviation of y, and finally the correlation coefficient.\n",
    "\n",
    "For the purposes of this activity, we are not going to use the formula to find the value of r. \n",
    "Use this code to find r: np.corrcoef(x values, y values)[0][1]"
   ]
  },
  {
   "cell_type": "code",
   "execution_count": null,
   "id": "organic-hearts",
   "metadata": {},
   "outputs": [],
   "source": [
    "# EXAMPLE\n",
    "\n",
    "x_bar = np.mean(weather_and_power['total energy consumption'])\n",
    "y_bar = np.mean(weather_and_power['building total power consumption (Watts)'])\n",
    "std_x = np.std(weather_and_power['total energy consumption'])\n",
    "std_y = np.std(weather_and_power['building total power consumption (Watts)'])\n",
    "r = weather_and_power.corr().loc[\"building total power consumption (Watts)\", \"total energy consumption\"]"
   ]
  },
  {
   "cell_type": "markdown",
   "id": "prepared-guide",
   "metadata": {},
   "source": [
    "$\\hat{y_i} = \\hat{a} + \\hat{b}x_i$ is the formula we all know (y= mx+b). Using the values we found above, find the value of $\\hat{a}$ (the y-intercept) and the value of $\\hat{b}$ (the slope)\n",
    "\n",
    "$slope = r * \\frac{SD(y)}{SD(x)}$\n",
    "\n",
    "$intercept = \\bar{y} - (slope*\\bar{x})$"
   ]
  },
  {
   "cell_type": "code",
   "execution_count": null,
   "id": "educational-brief",
   "metadata": {},
   "outputs": [],
   "source": [
    "# EXAMPLE\n",
    "\n",
    "b_hat = r* (std_y/std_x)\n",
    "a_hat = y_bar - (b_hat * x_bar)"
   ]
  },
  {
   "cell_type": "markdown",
   "id": "angry-ecuador",
   "metadata": {},
   "source": [
    "Let's now look at our scatter plot and line of best fit together! In the cell below, copy and paste your code for creating the scatter plot. On the line below, create the line of best fit.\n",
    "\n",
    "The syntax for that is plt.plot(x vales, the line we created (so x values* slope + intercept, color that you want your line to be). "
   ]
  },
  {
   "cell_type": "code",
   "execution_count": null,
   "id": "incorporated-month",
   "metadata": {},
   "outputs": [],
   "source": [
    "# EXERCISE\n",
    "\n",
    "plt.scatter(x= weather_and_power[\"total energy consumption\"], \n",
    "            y=weather_and_power[\"building total power consumption (Watts)\"]) #SOLUTION\n",
    "plt.plot(weather_and_power[\"total energy consumption\"], \n",
    "         weather_and_power[\"total energy consumption\"]*b_hat + a_hat, 'red') #SOLUTION"
   ]
  },
  {
   "cell_type": "markdown",
   "id": "terminal-conditions",
   "metadata": {},
   "source": [
    "Look how perfectly our data is correlated. There is a clear, positive relationship between total energy consumption and building power consumption. Can you think why this relationship has such a clear relationship?"
   ]
  },
  {
   "cell_type": "markdown",
   "id": "continent-setting",
   "metadata": {},
   "source": [
    "Now we are going to analyze a different relationship. We are going to look at total energy consumption compared to the outdoor temperature. When do you think the most energy is consumed? Keep in mind the only months we are looking at are January, February, March, and April!"
   ]
  },
  {
   "cell_type": "markdown",
   "id": "joined-concentration",
   "metadata": {},
   "source": [
    "**In this cell, write your hypothesis**\n",
    "\n",
    "..."
   ]
  },
  {
   "cell_type": "markdown",
   "id": "virtual-microphone",
   "metadata": {},
   "source": [
    "Let's test your hypothesis, create a scatter plot comparing outdoor temperature to total energy consumption. (put the temperature on the x-axis and total energy consumption on the y-axis)."
   ]
  },
  {
   "cell_type": "code",
   "execution_count": null,
   "id": "continental-hudson",
   "metadata": {},
   "outputs": [],
   "source": [
    "# EXERCISE\n",
    "\n",
    "\n",
    "plt.scatter(x=weather_and_power[\"outdoor air temperature (F)\"], #SOLUTION\n",
    "            y=weather_and_power[\"total energy consumption\"]) #SOLUTION"
   ]
  },
  {
   "cell_type": "code",
   "execution_count": null,
   "id": "printable-wheat",
   "metadata": {},
   "outputs": [],
   "source": [
    "# EXAMPLE\n",
    "\n",
    "x_bar = np.mean(weather_and_power['outdoor air temperature (F)'])\n",
    "y_bar = np.mean(weather_and_power[\"total energy consumption\"])\n",
    "std_x = np.std(weather_and_power['outdoor air temperature (F)'])\n",
    "std_y = np.std(weather_and_power[\"total energy consumption\"])\n",
    "r = weather_and_power.corr().loc[\"outdoor air temperature (F)\", \"total energy consumption\"]\n",
    "b_hat = r* (std_y/std_x)\n",
    "a_hat = y_bar - (b_hat * x_bar)\n",
    "\n",
    "plt.scatter(x= weather_and_power['outdoor air temperature (F)'], y=weather_and_power[\"total energy consumption\"])\n",
    "plt.plot(weather_and_power['outdoor air temperature (F)'], weather_and_power['outdoor air temperature (F)']*b_hat + a_hat, 'red')"
   ]
  },
  {
   "cell_type": "markdown",
   "id": "premier-ghana",
   "metadata": {},
   "source": [
    "Even though there is not as strong of a relationship, there is a slightly positive relationship. As the temperature increases, the total energy consumed also increases. Did this follow your hypthesis? What other questions do you want to find out?"
   ]
  },
  {
   "cell_type": "markdown",
   "id": "french-apple",
   "metadata": {},
   "source": [
    "## Challenge"
   ]
  },
  {
   "cell_type": "markdown",
   "id": "destroyed-arkansas",
   "metadata": {},
   "source": [
    "Using what we learned this week, create a hypothesis and use your data science skills to investigate if it is true or not!"
   ]
  },
  {
   "cell_type": "code",
   "execution_count": null,
   "id": "occupied-grammar",
   "metadata": {},
   "outputs": [],
   "source": [
    "# EXERCISE\n",
    "# Your code goes here!\n",
    "\n",
    "..."
   ]
  },
  {
   "cell_type": "markdown",
   "id": "sought-match",
   "metadata": {},
   "source": [
    "## Extra Challenge (Machine Learning)"
   ]
  },
  {
   "cell_type": "code",
   "execution_count": null,
   "id": "owned-access",
   "metadata": {},
   "outputs": [],
   "source": [
    "# EXERCISE\n",
    "\n",
    "..."
   ]
  },
  {
   "cell_type": "markdown",
   "id": "former-butter",
   "metadata": {},
   "source": [
    "Notebook developed by: Rachel McCarty <br/>\n",
    "Edited by: Kseniya Usovich"
   ]
  }
 ],
 "metadata": {
  "kernelspec": {
   "display_name": "Python 3",
   "language": "python",
   "name": "python3"
  },
  "language_info": {
   "codemirror_mode": {
    "name": "ipython",
    "version": 3
   },
   "file_extension": ".py",
   "mimetype": "text/x-python",
   "name": "python",
   "nbconvert_exporter": "python",
   "pygments_lexer": "ipython3",
   "version": "3.9.1"
  }
 },
 "nbformat": 4,
 "nbformat_minor": 5
}
