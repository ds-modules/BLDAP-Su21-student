{
 "cells": [
  {
   "cell_type": "markdown",
   "id": "boxed-oklahoma",
   "metadata": {},
   "source": [
    "<img src=\"lbnl_logo.jpg\">\n",
    "\n",
    "----\n",
    "\n",
    "\n",
    "\n",
    "\n",
    "# Challenge Lab, Day 1\n",
    "\n",
    "\n",
    "\n",
    "---"
   ]
  },
  {
   "cell_type": "code",
   "execution_count": null,
   "id": "circular-favorite",
   "metadata": {},
   "outputs": [],
   "source": [
    "import pandas as pd\n",
    "import numpy as np"
   ]
  },
  {
   "cell_type": "markdown",
   "id": "surprised-netherlands",
   "metadata": {},
   "source": [
    "## Weather Data"
   ]
  },
  {
   "cell_type": "markdown",
   "id": "quality-fashion",
   "metadata": {},
   "source": [
    "Import \"weather_data_2021.csv\" and save it to a variable name so that we can use it throughout the notebook! "
   ]
  },
  {
   "cell_type": "code",
   "execution_count": null,
   "id": "wicked-forge",
   "metadata": {},
   "outputs": [],
   "source": [
    "# EXERCISE\n",
    "\n",
    "weather = ...\n",
    "weather.tail()"
   ]
  },
  {
   "cell_type": "markdown",
   "id": "differential-baltimore",
   "metadata": {},
   "source": [
    "Do some EDA! What do you think that the column \"Unnamed: 0\" represents? Do you think you know what any of the columns mean? How many rows and columns are there? Come up with some questions that we can discuss!"
   ]
  },
  {
   "cell_type": "code",
   "execution_count": null,
   "id": "processed-politics",
   "metadata": {},
   "outputs": [],
   "source": [
    "#Do your Exploratory Data Analysis in this cell! :)\n",
    "\n",
    "..."
   ]
  },
  {
   "cell_type": "markdown",
   "id": "imported-triple",
   "metadata": {},
   "source": [
    "Looking at the table, some of the tables are hard to understand. Lets rename some of the columns in the table. \n",
    "The syntax for renaming columns is: dataframe.rename(columns = {\"current column name\": \"new column name\", ....})\n",
    "\n",
    "In the cell below, we will rename \"Unnamed: 0\" into a \"Timestamp\".\n",
    "\n",
    "Follow the same pattern to rename \"oat\" to \"outdoor air temperature\" and \"solar\" as \"solar irradiance (watts/m^2)\"."
   ]
  },
  {
   "cell_type": "code",
   "execution_count": null,
   "id": "higher-device",
   "metadata": {},
   "outputs": [],
   "source": [
    "# EXERCISE\n",
    "\n",
    "#rename your columns!\n",
    "weather = weather.rename(columns = {\"Unnamed: 0\": \"Timestamp\", \n",
    "                         ..., \n",
    "                         ...}) \n",
    "weather.head()"
   ]
  },
  {
   "cell_type": "markdown",
   "id": "isolated-petersburg",
   "metadata": {},
   "source": [
    "The last thing we need to do is get rid of unnecessary information! If you look at the table, \"solar irradiance on PV panels (Watt per m^2)\" and \"sr\" have the same information. \n",
    "\n",
    "Being a data scientist required you to look up coding syntax! Look up how to delete columns in Pandas and delete the \"sr\" column! There are multiple ways to do this! Get ready to share how you did it.\n"
   ]
  },
  {
   "cell_type": "code",
   "execution_count": null,
   "id": "unlike-moldova",
   "metadata": {},
   "outputs": [],
   "source": [
    "# EXERCISE\n",
    "\n",
    "#delete the column below!\n",
    "weather = weather.drop([\"sr\"], axis = 1) #SOLUTION\n",
    "weather.head()"
   ]
  },
  {
   "cell_type": "markdown",
   "id": "narrow-attribute",
   "metadata": {},
   "source": [
    "Use the skills we learned in our class to find the count of null values in each of the columns in the weather dataframe. Do you think this will be an issue? Why or why not?"
   ]
  },
  {
   "cell_type": "code",
   "execution_count": null,
   "id": "charitable-christianity",
   "metadata": {},
   "outputs": [],
   "source": [
    "# EXERCISE\n",
    "\n",
    "#Find the count of null values\n",
    "\n",
    "weather..."
   ]
  },
  {
   "cell_type": "markdown",
   "id": "israeli-radical",
   "metadata": {},
   "source": [
    "## Power data"
   ]
  },
  {
   "cell_type": "markdown",
   "id": "stunning-camping",
   "metadata": {},
   "source": [
    "Import \"power_2021.csv\" and save it to a variable name so that we can use it throughout the notebook! "
   ]
  },
  {
   "cell_type": "code",
   "execution_count": null,
   "id": "confirmed-combat",
   "metadata": {},
   "outputs": [],
   "source": [
    "# EXERCISE\n",
    "\n",
    "power_data = ...\n",
    "power_data.head()"
   ]
  },
  {
   "cell_type": "markdown",
   "id": "intellectual-block",
   "metadata": {},
   "source": [
    "Do some EDA! What do you think that the column \"Unnamed: 0\" represents? Do you think you know what any of the columns mean? How many rows and columns are there?"
   ]
  },
  {
   "cell_type": "code",
   "execution_count": null,
   "id": "departmental-premises",
   "metadata": {},
   "outputs": [],
   "source": [
    "# EXERCISE\n",
    "#Do your Exploratory Data Analysis in this cell! :)\n",
    "\n",
    "..."
   ]
  },
  {
   "cell_type": "markdown",
   "id": "celtic-reason",
   "metadata": {},
   "source": [
    "Looking at the table, some of the tables are hard to understand. Lets rename some of the columns in the table. Do the same thing you did for the weather dataframe. \n",
    "\n",
    "In the cell below, rename Unnamed: 0 to what you think it represents.\n",
    "\n",
    "Rename \"building\" to \"building total power consumption (watts)\"\n",
    "\n",
    "Rename \"freezer\" to \"freezer power consumption (watts)\"\n",
    "\n",
    "Rename \"ref_comp\" to \"refrigerator power consumption (watts)\"\n",
    "\n",
    "Rename \"ref_fan\" to \"refrigerator fan power consumption (watts)\"\n",
    "\n",
    "Rename \"hvac_west\" to \"west air conditioning power consumption (watts)\"\n",
    "\n",
    "Rename \"hvac_east\" to \"east air conditioning power consumption (watts)\""
   ]
  },
  {
   "cell_type": "code",
   "execution_count": null,
   "id": "underlying-objective",
   "metadata": {},
   "outputs": [],
   "source": [
    "# EXERCISE\n",
    "\n",
    "#rename your columns here\n",
    "\n",
    "power_data= power_data.rename(columns = {\"Unnamed: 0\": \"Timestamp\", \n",
    "                             ..., \n",
    "                             ..., \n",
    "                             ..., \n",
    "                             ..., \n",
    "                             ..., \n",
    "                             ... \n",
    "                            })\n",
    "power_data.head()"
   ]
  },
  {
   "cell_type": "markdown",
   "id": "foreign-modern",
   "metadata": {},
   "source": [
    "Use the skills we learned in our class to find the count of null values in each of the columns in the power dataframe. Do you think this will be an issue? Why or why not?"
   ]
  },
  {
   "cell_type": "code",
   "execution_count": null,
   "id": "italic-buffalo",
   "metadata": {},
   "outputs": [],
   "source": [
    "# EXERCISE\n",
    "\n",
    "#look at the null values here\n",
    "\n",
    "..."
   ]
  },
  {
   "cell_type": "markdown",
   "id": "quarterly-extreme",
   "metadata": {},
   "source": [
    "## Merging Data"
   ]
  },
  {
   "cell_type": "markdown",
   "id": "persistent-poultry",
   "metadata": {},
   "source": [
    "In data science, we do not usually just use one dataframe. We often have multiple datasets that we want to use to analyze data! So in order to do this, we need to merge the datasets together. To merge data, we need to find a column to merge on.\n",
    "\n",
    "The syntax for merging data tables is: dataframe1.merge(dataframe2, on= \"column name that the two dataframes have in common\")\n",
    "\n",
    "What column name do both the dataframes have in common? Keep that in mind for how you merge the table?"
   ]
  },
  {
   "cell_type": "code",
   "execution_count": null,
   "id": "revised-heart",
   "metadata": {},
   "outputs": [],
   "source": [
    "# EXAMPLE\n",
    "\n",
    "#Merged the two dataframes together\n",
    "weather_and_power = weather.merge(power_data, on=\"Timestamp\")"
   ]
  },
  {
   "cell_type": "code",
   "execution_count": null,
   "id": "graduate-burst",
   "metadata": {},
   "outputs": [],
   "source": [
    "weather_and_power.head()"
   ]
  },
  {
   "cell_type": "markdown",
   "id": "subtle-douglas",
   "metadata": {},
   "source": [
    "Add a column in the weather_and_power dataframe called \"total energy\" that is the sum of power consumption columns.  \n",
    "\n",
    "**Note:** Make sure you use the full name of the column, otherwise you will get an error. You can also use column numbers instead."
   ]
  },
  {
   "cell_type": "code",
   "execution_count": null,
   "id": "following-mouse",
   "metadata": {},
   "outputs": [],
   "source": [
    "# EXERCISE\n",
    "# add your column\n",
    "\n",
    "weather_and_power[\"total energy consumption\"] = (weather_and_power[\"building total power consumption (Watts)\"]+\n",
    "                                                 weather_and_power[\"freezer power consumption (Watts)\"]+ \n",
    "                                                 ...+ \n",
    "                                                 ...+ \n",
    "                                                 ...+ \n",
    "                                                 ...) "
   ]
  },
  {
   "cell_type": "markdown",
   "id": "creative-navigator",
   "metadata": {},
   "source": [
    "## Using Python with Datetime Data"
   ]
  },
  {
   "cell_type": "markdown",
   "id": "brown-twelve",
   "metadata": {},
   "source": [
    "In this section, we are going to want to look at how we can use datetime methods to clean up our datatable and make it a bit easier to understand!"
   ]
  },
  {
   "cell_type": "code",
   "execution_count": null,
   "id": "humanitarian-charlotte",
   "metadata": {},
   "outputs": [],
   "source": [
    "# EXAMPLE\n",
    "\n",
    "# import the datetime module!\n",
    "from datetime import datetime"
   ]
  },
  {
   "cell_type": "code",
   "execution_count": null,
   "id": "controlling-drive",
   "metadata": {},
   "outputs": [],
   "source": [
    "# EXAMPLE\n",
    "\n",
    "# Run this cell multiple times! Isn't it cool!\n",
    "now = datetime.now()\n",
    "\n",
    "current_time = now.strftime(\"%H:%M:%S\") ##Formatting the time as \"Hour:Minutes:Seconds\"\n",
    "print(\"Current Time =\", current_time)\n",
    "current_date = now.strftime(\"%d/%m/%y\")\n",
    "print(\"Current Date =\", current_date)\n",
    "print(\"Current Month =\", now.day)"
   ]
  },
  {
   "cell_type": "code",
   "execution_count": null,
   "id": "labeled-beads",
   "metadata": {},
   "outputs": [],
   "source": [
    "# EXERCISE\n",
    "\n",
    "# Type your birthday below in this format\n",
    "\n",
    "birthday = \"yyyy-mm-dd\" \n",
    "\n",
    "# Convert your birthday to datetime using its *strptime* function\n",
    "\n",
    "birthday_dt = datetime.strptime(birthday, '%Y-%m-%d')\n",
    "birthday_dt"
   ]
  },
  {
   "cell_type": "code",
   "execution_count": null,
   "id": "extensive-tunisia",
   "metadata": {},
   "outputs": [],
   "source": [
    "# EXERCISE\n",
    "\n",
    "# In this cell, print your birthday month then birthday day\n",
    "\n",
    "print(\"Birthday month is\", birthday_dt.month) \n",
    "print(\"Birthday day is\", ...) "
   ]
  },
  {
   "cell_type": "markdown",
   "id": "critical-liechtenstein",
   "metadata": {},
   "source": [
    "The values of the Timestamp column represent dates and times of when the data for each section of the building was collected. However, since the data type of the column is a `str()`, it will be harder to access information like the date and time to answer what day of the week most energy was used, what hour had the least energy consumption, etc. So first, we will need to convert it to a correct data type.\n"
   ]
  },
  {
   "cell_type": "code",
   "execution_count": null,
   "id": "painted-creek",
   "metadata": {},
   "outputs": [],
   "source": [
    "# EXAMPLE\n",
    "\n",
    "weather_and_power[\"Better Timestamp\"] = pd.to_datetime(weather_and_power[\"Timestamp\"])"
   ]
  },
  {
   "cell_type": "code",
   "execution_count": null,
   "id": "bound-anatomy",
   "metadata": {},
   "outputs": [],
   "source": [
    "# EXAMPLE\n",
    "\n",
    "# Run this cell to get the date and time in two seperate columns!\n",
    "weather_and_power[\"date\"] = [d.date() for d in weather_and_power['Better Timestamp']]\n",
    "weather_and_power[\"time\"] = weather_and_power['Better Timestamp'].apply(lambda x: x.time())\n",
    "weather_and_power[\"month\"] = pd.DatetimeIndex(weather_and_power['date']).month\n",
    "\n",
    "#converting 24-hour clock time to 12-hour time\n",
    "def changeformat(time):\n",
    "    if time.hour > 12:\n",
    "        newtime = str(time.hour - 12) + (str(time))[2:5] + \"pm\"\n",
    "        return newtime\n",
    "    if time.hour == 12:\n",
    "        newtime = (str(time))[:5] + \"pm\"\n",
    "        return newtime\n",
    "    if time.hour == 0:\n",
    "        newtime = \"12\" + (str(time))[2:5] + \"am\"\n",
    "        return newtime\n",
    "    if type(time) != str:\n",
    "        newtime = (str(time))[:5] + \"am\"\n",
    "        return newtime\n",
    "weather_and_power[\"12-hr-time\"] = weather_and_power[\"time\"].apply(changeformat)"
   ]
  },
  {
   "cell_type": "markdown",
   "id": "optical-private",
   "metadata": {},
   "source": [
    "Let's see what our column looks like now."
   ]
  },
  {
   "cell_type": "code",
   "execution_count": null,
   "id": "clean-windows",
   "metadata": {},
   "outputs": [],
   "source": [
    "# EXAMPLE\n",
    "\n",
    "weather_and_power[[\"12-hr-time\"]].head()"
   ]
  },
  {
   "cell_type": "markdown",
   "id": "arctic-alexander",
   "metadata": {},
   "source": [
    "Lets save our data table. Save it as \"weather_and_power.csv\"\n",
    "The syntax for saving a table is datatable.to_csv(\"name you want\"). Now we can use the data we cleaned in tomorrow's analysis."
   ]
  },
  {
   "cell_type": "code",
   "execution_count": null,
   "id": "banned-fraud",
   "metadata": {},
   "outputs": [],
   "source": [
    "# EXERCISE\n",
    "\n",
    "#save it here \n",
    "\n",
    "..."
   ]
  },
  {
   "cell_type": "markdown",
   "id": "rapid-going",
   "metadata": {},
   "source": [
    "Notebook developed by: Rachel McCarty <br/>\n",
    "Edited by: Kseniya Usovich"
   ]
  }
 ],
 "metadata": {
  "kernelspec": {
   "display_name": "Python 3",
   "language": "python",
   "name": "python3"
  },
  "language_info": {
   "codemirror_mode": {
    "name": "ipython",
    "version": 3
   },
   "file_extension": ".py",
   "mimetype": "text/x-python",
   "name": "python",
   "nbconvert_exporter": "python",
   "pygments_lexer": "ipython3",
   "version": "3.9.1"
  }
 },
 "nbformat": 4,
 "nbformat_minor": 5
}
