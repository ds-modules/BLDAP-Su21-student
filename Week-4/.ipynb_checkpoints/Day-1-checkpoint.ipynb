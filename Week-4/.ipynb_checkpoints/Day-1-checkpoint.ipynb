{
 "cells": [
  {
   "cell_type": "markdown",
   "id": "boxed-oklahoma",
   "metadata": {},
   "source": [
    "<img src=\"lbnl_logo.jpg\">\n",
    "\n",
    "----\n",
    "\n",
    "\n",
    "\n",
    "\n",
    "# Challenge Lab, Day 1\n",
    "\n",
    "\n",
    "\n",
    "---"
   ]
  },
  {
   "cell_type": "code",
   "execution_count": 2,
   "id": "circular-favorite",
   "metadata": {},
   "outputs": [],
   "source": [
    "import pandas as pd\n",
    "import numpy as np"
   ]
  },
  {
   "cell_type": "markdown",
   "id": "surprised-netherlands",
   "metadata": {},
   "source": [
    "## Weather Data"
   ]
  },
  {
   "cell_type": "markdown",
   "id": "quality-fashion",
   "metadata": {},
   "source": [
    "Import \"weather_data_2021.csv\" and save it to a variable name so that we can use it throughout the notebook! "
   ]
  },
  {
   "cell_type": "code",
   "execution_count": 3,
   "id": "wicked-forge",
   "metadata": {},
   "outputs": [
    {
     "data": {
      "text/html": [
       "<div>\n",
       "<style scoped>\n",
       "    .dataframe tbody tr th:only-of-type {\n",
       "        vertical-align: middle;\n",
       "    }\n",
       "\n",
       "    .dataframe tbody tr th {\n",
       "        vertical-align: top;\n",
       "    }\n",
       "\n",
       "    .dataframe thead th {\n",
       "        text-align: right;\n",
       "    }\n",
       "</style>\n",
       "<table border=\"1\" class=\"dataframe\">\n",
       "  <thead>\n",
       "    <tr style=\"text-align: right;\">\n",
       "      <th></th>\n",
       "      <th>Unnamed: 0</th>\n",
       "      <th>oat</th>\n",
       "      <th>humidity</th>\n",
       "      <th>windspeed</th>\n",
       "      <th>cloudcover</th>\n",
       "      <th>solar</th>\n",
       "      <th>sr</th>\n",
       "    </tr>\n",
       "  </thead>\n",
       "  <tbody>\n",
       "    <tr>\n",
       "      <th>11278</th>\n",
       "      <td>2021-04-28 11:30:00</td>\n",
       "      <td>64.36</td>\n",
       "      <td>62.0</td>\n",
       "      <td>4.45</td>\n",
       "      <td>0.11</td>\n",
       "      <td>507.167139</td>\n",
       "      <td>507.167139</td>\n",
       "    </tr>\n",
       "    <tr>\n",
       "      <th>11279</th>\n",
       "      <td>2021-04-28 11:45:00</td>\n",
       "      <td>64.96</td>\n",
       "      <td>60.0</td>\n",
       "      <td>4.68</td>\n",
       "      <td>0.11</td>\n",
       "      <td>517.400710</td>\n",
       "      <td>517.400710</td>\n",
       "    </tr>\n",
       "    <tr>\n",
       "      <th>11280</th>\n",
       "      <td>2021-04-28 12:00:00</td>\n",
       "      <td>65.16</td>\n",
       "      <td>60.0</td>\n",
       "      <td>4.83</td>\n",
       "      <td>0.12</td>\n",
       "      <td>522.632481</td>\n",
       "      <td>522.632481</td>\n",
       "    </tr>\n",
       "    <tr>\n",
       "      <th>11281</th>\n",
       "      <td>2021-04-28 12:15:00</td>\n",
       "      <td>65.23</td>\n",
       "      <td>60.0</td>\n",
       "      <td>4.98</td>\n",
       "      <td>0.13</td>\n",
       "      <td>525.687960</td>\n",
       "      <td>525.687960</td>\n",
       "    </tr>\n",
       "    <tr>\n",
       "      <th>11282</th>\n",
       "      <td>2021-04-28 12:30:00</td>\n",
       "      <td>65.39</td>\n",
       "      <td>60.0</td>\n",
       "      <td>5.01</td>\n",
       "      <td>0.14</td>\n",
       "      <td>526.211187</td>\n",
       "      <td>526.211187</td>\n",
       "    </tr>\n",
       "  </tbody>\n",
       "</table>\n",
       "</div>"
      ],
      "text/plain": [
       "                Unnamed: 0    oat  humidity  windspeed  cloudcover  \\\n",
       "11278  2021-04-28 11:30:00  64.36      62.0       4.45        0.11   \n",
       "11279  2021-04-28 11:45:00  64.96      60.0       4.68        0.11   \n",
       "11280  2021-04-28 12:00:00  65.16      60.0       4.83        0.12   \n",
       "11281  2021-04-28 12:15:00  65.23      60.0       4.98        0.13   \n",
       "11282  2021-04-28 12:30:00  65.39      60.0       5.01        0.14   \n",
       "\n",
       "            solar          sr  \n",
       "11278  507.167139  507.167139  \n",
       "11279  517.400710  517.400710  \n",
       "11280  522.632481  522.632481  \n",
       "11281  525.687960  525.687960  \n",
       "11282  526.211187  526.211187  "
      ]
     },
     "execution_count": 3,
     "metadata": {},
     "output_type": "execute_result"
    }
   ],
   "source": [
    "# EXERCISE\n",
    "\n",
    "weather = ...\n",
    "weather.tail()"
   ]
  },
  {
   "cell_type": "markdown",
   "id": "differential-baltimore",
   "metadata": {},
   "source": [
    "Do some EDA! What do you think that the column \"Unnamed: 0\" represents? Do you think you know what any of the columns mean? How many rows and columns are there? Come up with some questions that we can discuss!"
   ]
  },
  {
   "cell_type": "code",
   "execution_count": 35,
   "id": "processed-politics",
   "metadata": {},
   "outputs": [],
   "source": [
    "#Do your Exploratory Data Analysis in this cell! :)\n",
    "\n",
    "..."
   ]
  },
  {
   "cell_type": "markdown",
   "id": "imported-triple",
   "metadata": {},
   "source": [
    "Looking at the table, some of the tables are hard to understand. Lets rename some of the columns in the table. \n",
    "The syntax for renaming columns is: dataframe.rename(columns = {\"current column name\": \"new column name\", ....})\n",
    "\n",
    "In the cell below, we will rename \"Unnamed: 0\" into a \"Timestamp\".\n",
    "\n",
    "Follow the same pattern to rename \"oat\" to \"outdoor air temperature\" and \"solar\" as \"solar irradiance (watts/m^2)\"."
   ]
  },
  {
   "cell_type": "code",
   "execution_count": 5,
   "id": "higher-device",
   "metadata": {},
   "outputs": [
    {
     "data": {
      "text/html": [
       "<div>\n",
       "<style scoped>\n",
       "    .dataframe tbody tr th:only-of-type {\n",
       "        vertical-align: middle;\n",
       "    }\n",
       "\n",
       "    .dataframe tbody tr th {\n",
       "        vertical-align: top;\n",
       "    }\n",
       "\n",
       "    .dataframe thead th {\n",
       "        text-align: right;\n",
       "    }\n",
       "</style>\n",
       "<table border=\"1\" class=\"dataframe\">\n",
       "  <thead>\n",
       "    <tr style=\"text-align: right;\">\n",
       "      <th></th>\n",
       "      <th>Timestamp</th>\n",
       "      <th>outdoor air temperature (F)</th>\n",
       "      <th>humidity</th>\n",
       "      <th>windspeed</th>\n",
       "      <th>cloudcover</th>\n",
       "      <th>solar irradiance on PV panels (Watt per m^2)</th>\n",
       "      <th>sr</th>\n",
       "    </tr>\n",
       "  </thead>\n",
       "  <tbody>\n",
       "    <tr>\n",
       "      <th>0</th>\n",
       "      <td>2021-01-01 00:00:00</td>\n",
       "      <td>43.56</td>\n",
       "      <td>98.0</td>\n",
       "      <td>2.87</td>\n",
       "      <td>0.37</td>\n",
       "      <td>0.0</td>\n",
       "      <td>0.0</td>\n",
       "    </tr>\n",
       "    <tr>\n",
       "      <th>1</th>\n",
       "      <td>2021-01-01 00:15:00</td>\n",
       "      <td>43.41</td>\n",
       "      <td>98.0</td>\n",
       "      <td>2.93</td>\n",
       "      <td>0.38</td>\n",
       "      <td>0.0</td>\n",
       "      <td>0.0</td>\n",
       "    </tr>\n",
       "    <tr>\n",
       "      <th>2</th>\n",
       "      <td>2021-01-01 00:30:00</td>\n",
       "      <td>43.28</td>\n",
       "      <td>98.0</td>\n",
       "      <td>2.98</td>\n",
       "      <td>0.41</td>\n",
       "      <td>0.0</td>\n",
       "      <td>0.0</td>\n",
       "    </tr>\n",
       "    <tr>\n",
       "      <th>3</th>\n",
       "      <td>2021-01-01 00:45:00</td>\n",
       "      <td>43.35</td>\n",
       "      <td>98.0</td>\n",
       "      <td>3.00</td>\n",
       "      <td>0.44</td>\n",
       "      <td>0.0</td>\n",
       "      <td>0.0</td>\n",
       "    </tr>\n",
       "    <tr>\n",
       "      <th>4</th>\n",
       "      <td>2021-01-01 01:00:00</td>\n",
       "      <td>43.47</td>\n",
       "      <td>98.0</td>\n",
       "      <td>2.97</td>\n",
       "      <td>0.50</td>\n",
       "      <td>0.0</td>\n",
       "      <td>0.0</td>\n",
       "    </tr>\n",
       "  </tbody>\n",
       "</table>\n",
       "</div>"
      ],
      "text/plain": [
       "             Timestamp  outdoor air temperature (F)  humidity  windspeed  \\\n",
       "0  2021-01-01 00:00:00                        43.56      98.0       2.87   \n",
       "1  2021-01-01 00:15:00                        43.41      98.0       2.93   \n",
       "2  2021-01-01 00:30:00                        43.28      98.0       2.98   \n",
       "3  2021-01-01 00:45:00                        43.35      98.0       3.00   \n",
       "4  2021-01-01 01:00:00                        43.47      98.0       2.97   \n",
       "\n",
       "   cloudcover  solar irradiance on PV panels (Watt per m^2)   sr  \n",
       "0        0.37                                           0.0  0.0  \n",
       "1        0.38                                           0.0  0.0  \n",
       "2        0.41                                           0.0  0.0  \n",
       "3        0.44                                           0.0  0.0  \n",
       "4        0.50                                           0.0  0.0  "
      ]
     },
     "execution_count": 5,
     "metadata": {},
     "output_type": "execute_result"
    }
   ],
   "source": [
    "# EXERCISE\n",
    "\n",
    "#rename your columns!\n",
    "weather = weather.rename(columns = {\"Unnamed: 0\": \"Timestamp\", \n",
    "                         ..., \n",
    "                         ...}) \n",
    "weather.head()"
   ]
  },
  {
   "cell_type": "markdown",
   "id": "isolated-petersburg",
   "metadata": {},
   "source": [
    "The last thing we need to do is get rid of unnecessary information! If you look at the table, \"solar irradiance on PV panels (Watt per m^2)\" and \"sr\" have the same information. \n",
    "\n",
    "Being a data scientist required you to look up coding syntax! Look up how to delete columns in Pandas and delete the \"sr\" column! There are multiple ways to do this! Get ready to share how you did it.\n"
   ]
  },
  {
   "cell_type": "code",
   "execution_count": 6,
   "id": "unlike-moldova",
   "metadata": {},
   "outputs": [
    {
     "data": {
      "text/html": [
       "<div>\n",
       "<style scoped>\n",
       "    .dataframe tbody tr th:only-of-type {\n",
       "        vertical-align: middle;\n",
       "    }\n",
       "\n",
       "    .dataframe tbody tr th {\n",
       "        vertical-align: top;\n",
       "    }\n",
       "\n",
       "    .dataframe thead th {\n",
       "        text-align: right;\n",
       "    }\n",
       "</style>\n",
       "<table border=\"1\" class=\"dataframe\">\n",
       "  <thead>\n",
       "    <tr style=\"text-align: right;\">\n",
       "      <th></th>\n",
       "      <th>Timestamp</th>\n",
       "      <th>outdoor air temperature (F)</th>\n",
       "      <th>humidity</th>\n",
       "      <th>windspeed</th>\n",
       "      <th>cloudcover</th>\n",
       "      <th>solar irradiance on PV panels (Watt per m^2)</th>\n",
       "    </tr>\n",
       "  </thead>\n",
       "  <tbody>\n",
       "    <tr>\n",
       "      <th>0</th>\n",
       "      <td>2021-01-01 00:00:00</td>\n",
       "      <td>43.56</td>\n",
       "      <td>98.0</td>\n",
       "      <td>2.87</td>\n",
       "      <td>0.37</td>\n",
       "      <td>0.0</td>\n",
       "    </tr>\n",
       "    <tr>\n",
       "      <th>1</th>\n",
       "      <td>2021-01-01 00:15:00</td>\n",
       "      <td>43.41</td>\n",
       "      <td>98.0</td>\n",
       "      <td>2.93</td>\n",
       "      <td>0.38</td>\n",
       "      <td>0.0</td>\n",
       "    </tr>\n",
       "    <tr>\n",
       "      <th>2</th>\n",
       "      <td>2021-01-01 00:30:00</td>\n",
       "      <td>43.28</td>\n",
       "      <td>98.0</td>\n",
       "      <td>2.98</td>\n",
       "      <td>0.41</td>\n",
       "      <td>0.0</td>\n",
       "    </tr>\n",
       "    <tr>\n",
       "      <th>3</th>\n",
       "      <td>2021-01-01 00:45:00</td>\n",
       "      <td>43.35</td>\n",
       "      <td>98.0</td>\n",
       "      <td>3.00</td>\n",
       "      <td>0.44</td>\n",
       "      <td>0.0</td>\n",
       "    </tr>\n",
       "    <tr>\n",
       "      <th>4</th>\n",
       "      <td>2021-01-01 01:00:00</td>\n",
       "      <td>43.47</td>\n",
       "      <td>98.0</td>\n",
       "      <td>2.97</td>\n",
       "      <td>0.50</td>\n",
       "      <td>0.0</td>\n",
       "    </tr>\n",
       "  </tbody>\n",
       "</table>\n",
       "</div>"
      ],
      "text/plain": [
       "             Timestamp  outdoor air temperature (F)  humidity  windspeed  \\\n",
       "0  2021-01-01 00:00:00                        43.56      98.0       2.87   \n",
       "1  2021-01-01 00:15:00                        43.41      98.0       2.93   \n",
       "2  2021-01-01 00:30:00                        43.28      98.0       2.98   \n",
       "3  2021-01-01 00:45:00                        43.35      98.0       3.00   \n",
       "4  2021-01-01 01:00:00                        43.47      98.0       2.97   \n",
       "\n",
       "   cloudcover  solar irradiance on PV panels (Watt per m^2)  \n",
       "0        0.37                                           0.0  \n",
       "1        0.38                                           0.0  \n",
       "2        0.41                                           0.0  \n",
       "3        0.44                                           0.0  \n",
       "4        0.50                                           0.0  "
      ]
     },
     "execution_count": 6,
     "metadata": {},
     "output_type": "execute_result"
    }
   ],
   "source": [
    "# EXERCISE\n",
    "\n",
    "#delete the column below!\n",
    "weather = weather.drop([\"sr\"], axis = 1) #SOLUTION\n",
    "weather.head()"
   ]
  },
  {
   "cell_type": "markdown",
   "id": "narrow-attribute",
   "metadata": {},
   "source": [
    "Use the skills we learned in our class to find the count of null values in each of the columns in the weather dataframe. Do you think this will be an issue? Why or why not?"
   ]
  },
  {
   "cell_type": "code",
   "execution_count": 7,
   "id": "charitable-christianity",
   "metadata": {},
   "outputs": [
    {
     "data": {
      "text/plain": [
       "Timestamp                                          0\n",
       "outdoor air temperature (F)                     1705\n",
       "humidity                                        1705\n",
       "windspeed                                       1705\n",
       "cloudcover                                      1705\n",
       "solar irradiance on PV panels (Watt per m^2)    1705\n",
       "dtype: int64"
      ]
     },
     "execution_count": 7,
     "metadata": {},
     "output_type": "execute_result"
    }
   ],
   "source": [
    "# EXERCISE\n",
    "\n",
    "#Find the count of null values\n",
    "\n",
    "weather..."
   ]
  },
  {
   "cell_type": "markdown",
   "id": "israeli-radical",
   "metadata": {},
   "source": [
    "## Power data"
   ]
  },
  {
   "cell_type": "markdown",
   "id": "stunning-camping",
   "metadata": {},
   "source": [
    "Import \"power_2021.csv\" and save it to a variable name so that we can use it throughout the notebook! "
   ]
  },
  {
   "cell_type": "code",
   "execution_count": 9,
   "id": "confirmed-combat",
   "metadata": {},
   "outputs": [
    {
     "data": {
      "text/html": [
       "<div>\n",
       "<style scoped>\n",
       "    .dataframe tbody tr th:only-of-type {\n",
       "        vertical-align: middle;\n",
       "    }\n",
       "\n",
       "    .dataframe tbody tr th {\n",
       "        vertical-align: top;\n",
       "    }\n",
       "\n",
       "    .dataframe thead th {\n",
       "        text-align: right;\n",
       "    }\n",
       "</style>\n",
       "<table border=\"1\" class=\"dataframe\">\n",
       "  <thead>\n",
       "    <tr style=\"text-align: right;\">\n",
       "      <th></th>\n",
       "      <th>Unnamed: 0</th>\n",
       "      <th>building</th>\n",
       "      <th>freezer</th>\n",
       "      <th>ref_comp</th>\n",
       "      <th>ref_fan</th>\n",
       "      <th>hvac_west</th>\n",
       "      <th>hvac_east</th>\n",
       "    </tr>\n",
       "  </thead>\n",
       "  <tbody>\n",
       "    <tr>\n",
       "      <th>0</th>\n",
       "      <td>2021-01-01 00:00:00</td>\n",
       "      <td>32533.332031</td>\n",
       "      <td>4083.540039</td>\n",
       "      <td>11.914492</td>\n",
       "      <td>43.354057</td>\n",
       "      <td>304.049896</td>\n",
       "      <td>944.930481</td>\n",
       "    </tr>\n",
       "    <tr>\n",
       "      <th>1</th>\n",
       "      <td>2021-01-01 00:01:00</td>\n",
       "      <td>36656.937500</td>\n",
       "      <td>3770.058350</td>\n",
       "      <td>4248.507324</td>\n",
       "      <td>248.749298</td>\n",
       "      <td>304.752869</td>\n",
       "      <td>950.882324</td>\n",
       "    </tr>\n",
       "    <tr>\n",
       "      <th>2</th>\n",
       "      <td>2021-01-01 00:02:00</td>\n",
       "      <td>32910.871094</td>\n",
       "      <td>3835.689209</td>\n",
       "      <td>16.447287</td>\n",
       "      <td>455.978119</td>\n",
       "      <td>304.320740</td>\n",
       "      <td>952.724670</td>\n",
       "    </tr>\n",
       "    <tr>\n",
       "      <th>3</th>\n",
       "      <td>2021-01-01 00:03:00</td>\n",
       "      <td>NaN</td>\n",
       "      <td>NaN</td>\n",
       "      <td>14.377525</td>\n",
       "      <td>253.222122</td>\n",
       "      <td>NaN</td>\n",
       "      <td>NaN</td>\n",
       "    </tr>\n",
       "    <tr>\n",
       "      <th>4</th>\n",
       "      <td>2021-01-01 00:04:00</td>\n",
       "      <td>32478.332031</td>\n",
       "      <td>3964.204102</td>\n",
       "      <td>NaN</td>\n",
       "      <td>NaN</td>\n",
       "      <td>304.013855</td>\n",
       "      <td>954.450806</td>\n",
       "    </tr>\n",
       "  </tbody>\n",
       "</table>\n",
       "</div>"
      ],
      "text/plain": [
       "            Unnamed: 0      building      freezer     ref_comp     ref_fan  \\\n",
       "0  2021-01-01 00:00:00  32533.332031  4083.540039    11.914492   43.354057   \n",
       "1  2021-01-01 00:01:00  36656.937500  3770.058350  4248.507324  248.749298   \n",
       "2  2021-01-01 00:02:00  32910.871094  3835.689209    16.447287  455.978119   \n",
       "3  2021-01-01 00:03:00           NaN          NaN    14.377525  253.222122   \n",
       "4  2021-01-01 00:04:00  32478.332031  3964.204102          NaN         NaN   \n",
       "\n",
       "    hvac_west   hvac_east  \n",
       "0  304.049896  944.930481  \n",
       "1  304.752869  950.882324  \n",
       "2  304.320740  952.724670  \n",
       "3         NaN         NaN  \n",
       "4  304.013855  954.450806  "
      ]
     },
     "execution_count": 9,
     "metadata": {},
     "output_type": "execute_result"
    }
   ],
   "source": [
    "# EXERCISE\n",
    "\n",
    "power_data = ...\n",
    "power_data.head()"
   ]
  },
  {
   "cell_type": "markdown",
   "id": "intellectual-block",
   "metadata": {},
   "source": [
    "Do some EDA! What do you think that the column \"Unnamed: 0\" represents? Do you think you know what any of the columns mean? How many rows and columns are there?"
   ]
  },
  {
   "cell_type": "code",
   "execution_count": 10,
   "id": "departmental-premises",
   "metadata": {},
   "outputs": [
    {
     "data": {
      "text/plain": [
       "Ellipsis"
      ]
     },
     "execution_count": 10,
     "metadata": {},
     "output_type": "execute_result"
    }
   ],
   "source": [
    "# EXERCISE\n",
    "#Do your Exploratory Data Analysis in this cell! :)\n",
    "\n",
    "..."
   ]
  },
  {
   "cell_type": "markdown",
   "id": "celtic-reason",
   "metadata": {},
   "source": [
    "Looking at the table, some of the tables are hard to understand. Lets rename some of the columns in the table. Do the same thing you did for the weather dataframe. \n",
    "\n",
    "In the cell below, rename Unnamed: 0 to what you think it represents.\n",
    "\n",
    "Rename \"building\" to \"building total power consumption (watts)\"\n",
    "\n",
    "Rename \"freezer\" to \"freezer power consumption (watts)\"\n",
    "\n",
    "Rename \"ref_comp\" to \"refrigerator power consumption (watts)\"\n",
    "\n",
    "Rename \"ref_fan\" to \"refrigerator fan power consumption (watts)\"\n",
    "\n",
    "Rename \"hvac_west\" to \"west air conditioning power consumption (watts)\"\n",
    "\n",
    "Rename \"hvac_east\" to \"east air conditioning power consumption (watts)\""
   ]
  },
  {
   "cell_type": "code",
   "execution_count": 11,
   "id": "underlying-objective",
   "metadata": {},
   "outputs": [
    {
     "data": {
      "text/html": [
       "<div>\n",
       "<style scoped>\n",
       "    .dataframe tbody tr th:only-of-type {\n",
       "        vertical-align: middle;\n",
       "    }\n",
       "\n",
       "    .dataframe tbody tr th {\n",
       "        vertical-align: top;\n",
       "    }\n",
       "\n",
       "    .dataframe thead th {\n",
       "        text-align: right;\n",
       "    }\n",
       "</style>\n",
       "<table border=\"1\" class=\"dataframe\">\n",
       "  <thead>\n",
       "    <tr style=\"text-align: right;\">\n",
       "      <th></th>\n",
       "      <th>Timestamp</th>\n",
       "      <th>building total power consumption (Watts)</th>\n",
       "      <th>freezer power consumption (Watts)</th>\n",
       "      <th>refrigerator power consumption (Watts)</th>\n",
       "      <th>refrigerator fan power consumption (Watts)</th>\n",
       "      <th>west air conditioning power consumption (Watts)</th>\n",
       "      <th>east air conditioning power consumption (Watts)</th>\n",
       "    </tr>\n",
       "  </thead>\n",
       "  <tbody>\n",
       "    <tr>\n",
       "      <th>0</th>\n",
       "      <td>2021-01-01 00:00:00</td>\n",
       "      <td>32533.332031</td>\n",
       "      <td>4083.540039</td>\n",
       "      <td>11.914492</td>\n",
       "      <td>43.354057</td>\n",
       "      <td>304.049896</td>\n",
       "      <td>944.930481</td>\n",
       "    </tr>\n",
       "    <tr>\n",
       "      <th>1</th>\n",
       "      <td>2021-01-01 00:01:00</td>\n",
       "      <td>36656.937500</td>\n",
       "      <td>3770.058350</td>\n",
       "      <td>4248.507324</td>\n",
       "      <td>248.749298</td>\n",
       "      <td>304.752869</td>\n",
       "      <td>950.882324</td>\n",
       "    </tr>\n",
       "    <tr>\n",
       "      <th>2</th>\n",
       "      <td>2021-01-01 00:02:00</td>\n",
       "      <td>32910.871094</td>\n",
       "      <td>3835.689209</td>\n",
       "      <td>16.447287</td>\n",
       "      <td>455.978119</td>\n",
       "      <td>304.320740</td>\n",
       "      <td>952.724670</td>\n",
       "    </tr>\n",
       "    <tr>\n",
       "      <th>3</th>\n",
       "      <td>2021-01-01 00:03:00</td>\n",
       "      <td>NaN</td>\n",
       "      <td>NaN</td>\n",
       "      <td>14.377525</td>\n",
       "      <td>253.222122</td>\n",
       "      <td>NaN</td>\n",
       "      <td>NaN</td>\n",
       "    </tr>\n",
       "    <tr>\n",
       "      <th>4</th>\n",
       "      <td>2021-01-01 00:04:00</td>\n",
       "      <td>32478.332031</td>\n",
       "      <td>3964.204102</td>\n",
       "      <td>NaN</td>\n",
       "      <td>NaN</td>\n",
       "      <td>304.013855</td>\n",
       "      <td>954.450806</td>\n",
       "    </tr>\n",
       "  </tbody>\n",
       "</table>\n",
       "</div>"
      ],
      "text/plain": [
       "             Timestamp  building total power consumption (Watts)  \\\n",
       "0  2021-01-01 00:00:00                              32533.332031   \n",
       "1  2021-01-01 00:01:00                              36656.937500   \n",
       "2  2021-01-01 00:02:00                              32910.871094   \n",
       "3  2021-01-01 00:03:00                                       NaN   \n",
       "4  2021-01-01 00:04:00                              32478.332031   \n",
       "\n",
       "   freezer power consumption (Watts)  refrigerator power consumption (Watts)  \\\n",
       "0                        4083.540039                               11.914492   \n",
       "1                        3770.058350                             4248.507324   \n",
       "2                        3835.689209                               16.447287   \n",
       "3                                NaN                               14.377525   \n",
       "4                        3964.204102                                     NaN   \n",
       "\n",
       "   refrigerator fan power consumption (Watts)  \\\n",
       "0                                   43.354057   \n",
       "1                                  248.749298   \n",
       "2                                  455.978119   \n",
       "3                                  253.222122   \n",
       "4                                         NaN   \n",
       "\n",
       "   west air conditioning power consumption (Watts)  \\\n",
       "0                                       304.049896   \n",
       "1                                       304.752869   \n",
       "2                                       304.320740   \n",
       "3                                              NaN   \n",
       "4                                       304.013855   \n",
       "\n",
       "   east air conditioning power consumption (Watts)  \n",
       "0                                       944.930481  \n",
       "1                                       950.882324  \n",
       "2                                       952.724670  \n",
       "3                                              NaN  \n",
       "4                                       954.450806  "
      ]
     },
     "execution_count": 11,
     "metadata": {},
     "output_type": "execute_result"
    }
   ],
   "source": [
    "# EXERCISE\n",
    "\n",
    "#rename your columns here\n",
    "\n",
    "power_data= power_data.rename(columns = {\"Unnamed: 0\": \"Timestamp\", \n",
    "                             ..., \n",
    "                             ..., \n",
    "                             ..., \n",
    "                             ..., \n",
    "                             ..., \n",
    "                             ... \n",
    "                            })\n",
    "power_data.head()"
   ]
  },
  {
   "cell_type": "markdown",
   "id": "foreign-modern",
   "metadata": {},
   "source": [
    "Use the skills we learned in our class to find the count of null values in each of the columns in the power dataframe. Do you think this will be an issue? Why or why not?"
   ]
  },
  {
   "cell_type": "code",
   "execution_count": 12,
   "id": "italic-buffalo",
   "metadata": {},
   "outputs": [
    {
     "data": {
      "text/plain": [
       "Timestamp                                              0\n",
       "building total power consumption (Watts)           47915\n",
       "freezer power consumption (Watts)                  47916\n",
       "refrigerator power consumption (Watts)             47916\n",
       "refrigerator fan power consumption (Watts)         47917\n",
       "west air conditioning power consumption (Watts)    47917\n",
       "east air conditioning power consumption (Watts)    47915\n",
       "dtype: int64"
      ]
     },
     "execution_count": 12,
     "metadata": {},
     "output_type": "execute_result"
    }
   ],
   "source": [
    "# EXERCISE\n",
    "\n",
    "#look at the null values here\n",
    "\n",
    "..."
   ]
  },
  {
   "cell_type": "markdown",
   "id": "quarterly-extreme",
   "metadata": {},
   "source": [
    "## Merging Data"
   ]
  },
  {
   "cell_type": "markdown",
   "id": "persistent-poultry",
   "metadata": {},
   "source": [
    "In data science, we do not usually just use one dataframe. We often have multiple datasets that we want to use to analyze data! So in order to do this, we need to merge the datasets together. To merge data, we need to find a column to merge on.\n",
    "\n",
    "The syntax for merging data tables is: dataframe1.merge(dataframe2, on= \"column name that the two dataframes have in common\")\n",
    "\n",
    "What column name do both the dataframes have in common? Keep that in mind for how you merge the table?"
   ]
  },
  {
   "cell_type": "code",
   "execution_count": 16,
   "id": "revised-heart",
   "metadata": {},
   "outputs": [],
   "source": [
    "# EXAMPLE\n",
    "\n",
    "#Merged the two dataframes together\n",
    "weather_and_power = weather.merge(power_data, on=\"Timestamp\")"
   ]
  },
  {
   "cell_type": "code",
   "execution_count": 30,
   "id": "graduate-burst",
   "metadata": {},
   "outputs": [
    {
     "data": {
      "text/html": [
       "<div>\n",
       "<style scoped>\n",
       "    .dataframe tbody tr th:only-of-type {\n",
       "        vertical-align: middle;\n",
       "    }\n",
       "\n",
       "    .dataframe tbody tr th {\n",
       "        vertical-align: top;\n",
       "    }\n",
       "\n",
       "    .dataframe thead th {\n",
       "        text-align: right;\n",
       "    }\n",
       "</style>\n",
       "<table border=\"1\" class=\"dataframe\">\n",
       "  <thead>\n",
       "    <tr style=\"text-align: right;\">\n",
       "      <th></th>\n",
       "      <th>Timestamp</th>\n",
       "      <th>outdoor air temperature (F)</th>\n",
       "      <th>humidity</th>\n",
       "      <th>windspeed</th>\n",
       "      <th>cloudcover</th>\n",
       "      <th>solar irradiance on PV panels (Watt per m^2)</th>\n",
       "      <th>building total power consumption (Watts)</th>\n",
       "      <th>freezer power consumption (Watts)</th>\n",
       "      <th>refrigerator power consumption (Watts)</th>\n",
       "      <th>refrigerator fan power consumption (Watts)</th>\n",
       "      <th>west air conditioning power consumption (Watts)</th>\n",
       "      <th>east air conditioning power consumption (Watts)</th>\n",
       "      <th>total energy consumption</th>\n",
       "      <th>Better Timestamp</th>\n",
       "      <th>date</th>\n",
       "      <th>time</th>\n",
       "      <th>month</th>\n",
       "      <th>12-hr-time</th>\n",
       "    </tr>\n",
       "  </thead>\n",
       "  <tbody>\n",
       "    <tr>\n",
       "      <th>0</th>\n",
       "      <td>2021-01-01 00:00:00</td>\n",
       "      <td>43.56</td>\n",
       "      <td>98.0</td>\n",
       "      <td>2.87</td>\n",
       "      <td>0.37</td>\n",
       "      <td>0.0</td>\n",
       "      <td>32533.332031</td>\n",
       "      <td>4083.540039</td>\n",
       "      <td>11.914492</td>\n",
       "      <td>43.354057</td>\n",
       "      <td>304.049896</td>\n",
       "      <td>944.930481</td>\n",
       "      <td>37921.120996</td>\n",
       "      <td>2021-01-01 00:00:00</td>\n",
       "      <td>2021-01-01</td>\n",
       "      <td>00:00:00</td>\n",
       "      <td>1</td>\n",
       "      <td>12:00am</td>\n",
       "    </tr>\n",
       "    <tr>\n",
       "      <th>1</th>\n",
       "      <td>2021-01-01 00:15:00</td>\n",
       "      <td>43.41</td>\n",
       "      <td>98.0</td>\n",
       "      <td>2.93</td>\n",
       "      <td>0.38</td>\n",
       "      <td>0.0</td>\n",
       "      <td>30975.056641</td>\n",
       "      <td>3969.495605</td>\n",
       "      <td>14.195988</td>\n",
       "      <td>43.110699</td>\n",
       "      <td>304.558319</td>\n",
       "      <td>958.440125</td>\n",
       "      <td>36264.857376</td>\n",
       "      <td>2021-01-01 00:15:00</td>\n",
       "      <td>2021-01-01</td>\n",
       "      <td>00:15:00</td>\n",
       "      <td>1</td>\n",
       "      <td>12:15am</td>\n",
       "    </tr>\n",
       "    <tr>\n",
       "      <th>2</th>\n",
       "      <td>2021-01-01 00:30:00</td>\n",
       "      <td>43.28</td>\n",
       "      <td>98.0</td>\n",
       "      <td>2.98</td>\n",
       "      <td>0.41</td>\n",
       "      <td>0.0</td>\n",
       "      <td>31915.005859</td>\n",
       "      <td>3835.891602</td>\n",
       "      <td>12.848112</td>\n",
       "      <td>253.175949</td>\n",
       "      <td>304.966461</td>\n",
       "      <td>1015.086365</td>\n",
       "      <td>37336.974348</td>\n",
       "      <td>2021-01-01 00:30:00</td>\n",
       "      <td>2021-01-01</td>\n",
       "      <td>00:30:00</td>\n",
       "      <td>1</td>\n",
       "      <td>12:30am</td>\n",
       "    </tr>\n",
       "    <tr>\n",
       "      <th>3</th>\n",
       "      <td>2021-01-01 00:45:00</td>\n",
       "      <td>43.35</td>\n",
       "      <td>98.0</td>\n",
       "      <td>3.00</td>\n",
       "      <td>0.44</td>\n",
       "      <td>0.0</td>\n",
       "      <td>30087.257812</td>\n",
       "      <td>357.424866</td>\n",
       "      <td>10.164385</td>\n",
       "      <td>43.093910</td>\n",
       "      <td>302.546539</td>\n",
       "      <td>957.893921</td>\n",
       "      <td>31758.381433</td>\n",
       "      <td>2021-01-01 00:45:00</td>\n",
       "      <td>2021-01-01</td>\n",
       "      <td>00:45:00</td>\n",
       "      <td>1</td>\n",
       "      <td>12:45am</td>\n",
       "    </tr>\n",
       "    <tr>\n",
       "      <th>4</th>\n",
       "      <td>2021-01-01 01:00:00</td>\n",
       "      <td>43.47</td>\n",
       "      <td>98.0</td>\n",
       "      <td>2.97</td>\n",
       "      <td>0.50</td>\n",
       "      <td>0.0</td>\n",
       "      <td>29074.365234</td>\n",
       "      <td>3796.636475</td>\n",
       "      <td>9.275864</td>\n",
       "      <td>42.858944</td>\n",
       "      <td>NaN</td>\n",
       "      <td>NaN</td>\n",
       "      <td>NaN</td>\n",
       "      <td>2021-01-01 01:00:00</td>\n",
       "      <td>2021-01-01</td>\n",
       "      <td>01:00:00</td>\n",
       "      <td>1</td>\n",
       "      <td>01:00am</td>\n",
       "    </tr>\n",
       "  </tbody>\n",
       "</table>\n",
       "</div>"
      ],
      "text/plain": [
       "             Timestamp  outdoor air temperature (F)  humidity  windspeed  \\\n",
       "0  2021-01-01 00:00:00                        43.56      98.0       2.87   \n",
       "1  2021-01-01 00:15:00                        43.41      98.0       2.93   \n",
       "2  2021-01-01 00:30:00                        43.28      98.0       2.98   \n",
       "3  2021-01-01 00:45:00                        43.35      98.0       3.00   \n",
       "4  2021-01-01 01:00:00                        43.47      98.0       2.97   \n",
       "\n",
       "   cloudcover  solar irradiance on PV panels (Watt per m^2)  \\\n",
       "0        0.37                                           0.0   \n",
       "1        0.38                                           0.0   \n",
       "2        0.41                                           0.0   \n",
       "3        0.44                                           0.0   \n",
       "4        0.50                                           0.0   \n",
       "\n",
       "   building total power consumption (Watts)  \\\n",
       "0                              32533.332031   \n",
       "1                              30975.056641   \n",
       "2                              31915.005859   \n",
       "3                              30087.257812   \n",
       "4                              29074.365234   \n",
       "\n",
       "   freezer power consumption (Watts)  refrigerator power consumption (Watts)  \\\n",
       "0                        4083.540039                               11.914492   \n",
       "1                        3969.495605                               14.195988   \n",
       "2                        3835.891602                               12.848112   \n",
       "3                         357.424866                               10.164385   \n",
       "4                        3796.636475                                9.275864   \n",
       "\n",
       "   refrigerator fan power consumption (Watts)  \\\n",
       "0                                   43.354057   \n",
       "1                                   43.110699   \n",
       "2                                  253.175949   \n",
       "3                                   43.093910   \n",
       "4                                   42.858944   \n",
       "\n",
       "   west air conditioning power consumption (Watts)  \\\n",
       "0                                       304.049896   \n",
       "1                                       304.558319   \n",
       "2                                       304.966461   \n",
       "3                                       302.546539   \n",
       "4                                              NaN   \n",
       "\n",
       "   east air conditioning power consumption (Watts)  total energy consumption  \\\n",
       "0                                       944.930481              37921.120996   \n",
       "1                                       958.440125              36264.857376   \n",
       "2                                      1015.086365              37336.974348   \n",
       "3                                       957.893921              31758.381433   \n",
       "4                                              NaN                       NaN   \n",
       "\n",
       "     Better Timestamp        date      time  month 12-hr-time  \n",
       "0 2021-01-01 00:00:00  2021-01-01  00:00:00      1    12:00am  \n",
       "1 2021-01-01 00:15:00  2021-01-01  00:15:00      1    12:15am  \n",
       "2 2021-01-01 00:30:00  2021-01-01  00:30:00      1    12:30am  \n",
       "3 2021-01-01 00:45:00  2021-01-01  00:45:00      1    12:45am  \n",
       "4 2021-01-01 01:00:00  2021-01-01  01:00:00      1    01:00am  "
      ]
     },
     "execution_count": 30,
     "metadata": {},
     "output_type": "execute_result"
    }
   ],
   "source": [
    "weather_and_power.head()"
   ]
  },
  {
   "cell_type": "markdown",
   "id": "subtle-douglas",
   "metadata": {},
   "source": [
    "Add a column in the weather_and_power dataframe called \"total energy\" that is the sum of power consumption columns.  \n",
    "\n",
    "**Note:** Make sure you use the full name of the column, otherwise you will get an error. You can also use column numbers instead."
   ]
  },
  {
   "cell_type": "code",
   "execution_count": 20,
   "id": "following-mouse",
   "metadata": {},
   "outputs": [],
   "source": [
    "# EXERCISE\n",
    "# add your column\n",
    "\n",
    "weather_and_power[\"total energy consumption\"] = (weather_and_power[\"building total power consumption (Watts)\"]+\n",
    "                                                 weather_and_power[\"freezer power consumption (Watts)\"]+ \n",
    "                                                 ...+ \n",
    "                                                 ...+ \n",
    "                                                 ...+ \n",
    "                                                 ...) "
   ]
  },
  {
   "cell_type": "markdown",
   "id": "creative-navigator",
   "metadata": {},
   "source": [
    "## Using Python with Datetime Data"
   ]
  },
  {
   "cell_type": "markdown",
   "id": "brown-twelve",
   "metadata": {},
   "source": [
    "In this section, we are going to want to look at how we can use datetime methods to clean up our datatable and make it a bit easier to understand!"
   ]
  },
  {
   "cell_type": "code",
   "execution_count": 21,
   "id": "humanitarian-charlotte",
   "metadata": {},
   "outputs": [],
   "source": [
    "# EXAMPLE\n",
    "\n",
    "# import the datetime module!\n",
    "from datetime import datetime"
   ]
  },
  {
   "cell_type": "code",
   "execution_count": 23,
   "id": "controlling-drive",
   "metadata": {},
   "outputs": [
    {
     "name": "stdout",
     "output_type": "stream",
     "text": [
      "Current Time = 12:05:53\n",
      "Current Date = 18/07/21\n",
      "Current Month = 18\n"
     ]
    }
   ],
   "source": [
    "# EXAMPLE\n",
    "\n",
    "# Run this cell multiple times! Isn't it cool!\n",
    "now = datetime.now()\n",
    "\n",
    "current_time = now.strftime(\"%H:%M:%S\") ##Formatting the time as \"Hour:Minutes:Seconds\"\n",
    "print(\"Current Time =\", current_time)\n",
    "current_date = now.strftime(\"%d/%m/%y\")\n",
    "print(\"Current Date =\", current_date)\n",
    "print(\"Current Month =\", now.day)"
   ]
  },
  {
   "cell_type": "code",
   "execution_count": 62,
   "id": "labeled-beads",
   "metadata": {},
   "outputs": [
    {
     "data": {
      "text/plain": [
       "datetime.datetime(2000, 8, 22, 0, 0)"
      ]
     },
     "execution_count": 62,
     "metadata": {},
     "output_type": "execute_result"
    }
   ],
   "source": [
    "# EXERCISE\n",
    "\n",
    "# Type your birthday below in this format\n",
    "\n",
    "birthday = \"yyyy-mm-dd\" \n",
    "\n",
    "# Convert your birthday to datetime using its *strptime* function\n",
    "\n",
    "birthday_dt = datetime.strptime(birthday, '%Y-%m-%d')\n",
    "birthday_dt"
   ]
  },
  {
   "cell_type": "code",
   "execution_count": 63,
   "id": "extensive-tunisia",
   "metadata": {},
   "outputs": [
    {
     "name": "stdout",
     "output_type": "stream",
     "text": [
      "Birthday month is 8\n",
      "Birthday day is 22\n"
     ]
    }
   ],
   "source": [
    "# EXERCISE\n",
    "\n",
    "# In this cell, print your birthday month then birthday day\n",
    "\n",
    "print(\"Birthday month is\", birthday_dt.month) \n",
    "print(\"Birthday day is\", ...) "
   ]
  },
  {
   "cell_type": "markdown",
   "id": "critical-liechtenstein",
   "metadata": {},
   "source": [
    "The values of the Timestamp column represent dates and times of when the data for each section of the building was collected. However, since the data type of the column is a `str()`, it will be harder to access information like the date and time to answer what day of the week most energy was used, what hour had the least energy consumption, etc. So first, we will need to convert it to a correct data type.\n"
   ]
  },
  {
   "cell_type": "code",
   "execution_count": 24,
   "id": "painted-creek",
   "metadata": {},
   "outputs": [],
   "source": [
    "# EXAMPLE\n",
    "\n",
    "weather_and_power[\"Better Timestamp\"] = pd.to_datetime(weather_and_power[\"Timestamp\"])"
   ]
  },
  {
   "cell_type": "code",
   "execution_count": 27,
   "id": "bound-anatomy",
   "metadata": {},
   "outputs": [],
   "source": [
    "# EXAMPLE\n",
    "\n",
    "# Run this cell to get the date and time in two seperate columns!\n",
    "weather_and_power[\"date\"] = [d.date() for d in weather_and_power['Better Timestamp']]\n",
    "weather_and_power[\"time\"] = weather_and_power['Better Timestamp'].apply(lambda x: x.time())\n",
    "weather_and_power[\"month\"] = pd.DatetimeIndex(weather_and_power['date']).month\n",
    "\n",
    "#converting 24-hour clock time to 12-hour time\n",
    "def changeformat(time):\n",
    "    if time.hour > 12:\n",
    "        newtime = str(time.hour - 12) + (str(time))[2:5] + \"pm\"\n",
    "        return newtime\n",
    "    if time.hour == 12:\n",
    "        newtime = (str(time))[:5] + \"pm\"\n",
    "        return newtime\n",
    "    if time.hour == 0:\n",
    "        newtime = \"12\" + (str(time))[2:5] + \"am\"\n",
    "        return newtime\n",
    "    if type(time) != str:\n",
    "        newtime = (str(time))[:5] + \"am\"\n",
    "        return newtime\n",
    "weather_and_power[\"12-hr-time\"] = weather_and_power[\"time\"].apply(changeformat)"
   ]
  },
  {
   "cell_type": "markdown",
   "id": "optical-private",
   "metadata": {},
   "source": [
    "Let's see what our column looks like now."
   ]
  },
  {
   "cell_type": "code",
   "execution_count": 29,
   "id": "clean-windows",
   "metadata": {},
   "outputs": [
    {
     "data": {
      "text/html": [
       "<div>\n",
       "<style scoped>\n",
       "    .dataframe tbody tr th:only-of-type {\n",
       "        vertical-align: middle;\n",
       "    }\n",
       "\n",
       "    .dataframe tbody tr th {\n",
       "        vertical-align: top;\n",
       "    }\n",
       "\n",
       "    .dataframe thead th {\n",
       "        text-align: right;\n",
       "    }\n",
       "</style>\n",
       "<table border=\"1\" class=\"dataframe\">\n",
       "  <thead>\n",
       "    <tr style=\"text-align: right;\">\n",
       "      <th></th>\n",
       "      <th>12-hr-time</th>\n",
       "    </tr>\n",
       "  </thead>\n",
       "  <tbody>\n",
       "    <tr>\n",
       "      <th>0</th>\n",
       "      <td>12:00am</td>\n",
       "    </tr>\n",
       "    <tr>\n",
       "      <th>1</th>\n",
       "      <td>12:15am</td>\n",
       "    </tr>\n",
       "    <tr>\n",
       "      <th>2</th>\n",
       "      <td>12:30am</td>\n",
       "    </tr>\n",
       "    <tr>\n",
       "      <th>3</th>\n",
       "      <td>12:45am</td>\n",
       "    </tr>\n",
       "    <tr>\n",
       "      <th>4</th>\n",
       "      <td>01:00am</td>\n",
       "    </tr>\n",
       "  </tbody>\n",
       "</table>\n",
       "</div>"
      ],
      "text/plain": [
       "  12-hr-time\n",
       "0    12:00am\n",
       "1    12:15am\n",
       "2    12:30am\n",
       "3    12:45am\n",
       "4    01:00am"
      ]
     },
     "execution_count": 29,
     "metadata": {},
     "output_type": "execute_result"
    }
   ],
   "source": [
    "# EXAMPLE\n",
    "\n",
    "weather_and_power[[\"12-hr-time\"]].head()"
   ]
  },
  {
   "cell_type": "markdown",
   "id": "arctic-alexander",
   "metadata": {},
   "source": [
    "Lets save our data table. Save it as \"weather_and_power.csv\"\n",
    "The syntax for saving a table is datatable.to_csv(\"name you want\"). Now we can use the data we cleaned in tomorrow's analysis."
   ]
  },
  {
   "cell_type": "code",
   "execution_count": 26,
   "id": "banned-fraud",
   "metadata": {},
   "outputs": [],
   "source": [
    "# EXERCISE\n",
    "\n",
    "#save it here \n",
    "\n",
    "..."
   ]
  },
  {
   "cell_type": "markdown",
   "id": "rapid-going",
   "metadata": {},
   "source": [
    "Notebook developed by: Rachel McCarty <br/>\n",
    "Edited by: Kseniya Usovich"
   ]
  }
 ],
 "metadata": {
  "kernelspec": {
   "display_name": "Python 3",
   "language": "python",
   "name": "python3"
  },
  "language_info": {
   "codemirror_mode": {
    "name": "ipython",
    "version": 3
   },
   "file_extension": ".py",
   "mimetype": "text/x-python",
   "name": "python",
   "nbconvert_exporter": "python",
   "pygments_lexer": "ipython3",
   "version": "3.9.1"
  }
 },
 "nbformat": 4,
 "nbformat_minor": 5
}
