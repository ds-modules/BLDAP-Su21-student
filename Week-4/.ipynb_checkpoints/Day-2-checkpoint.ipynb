{
 "cells": [
  {
   "cell_type": "markdown",
   "id": "activated-puppy",
   "metadata": {},
   "source": [
    "<img src=\"lbnl_logo.jpg\">\n",
    "\n",
    "----\n",
    "\n",
    "\n",
    "\n",
    "\n",
    "# Challenge Lab, Day 2\n",
    "\n",
    "\n",
    "\n",
    "---"
   ]
  },
  {
   "cell_type": "code",
   "execution_count": null,
   "id": "color-suggestion",
   "metadata": {},
   "outputs": [],
   "source": [
    "import pandas as pd\n",
    "import matplotlib.pyplot as plt\n",
    "import numpy as np"
   ]
  },
  {
   "cell_type": "markdown",
   "id": "representative-factor",
   "metadata": {},
   "source": [
    "## Getting Our Data and Understanding It"
   ]
  },
  {
   "cell_type": "markdown",
   "id": "national-friendship",
   "metadata": {},
   "source": [
    "First import the table we worked on yesterday! \n",
    "\n",
    "Hint: it was called \"weather_and_power.csv\""
   ]
  },
  {
   "cell_type": "code",
   "execution_count": null,
   "id": "speaking-spring",
   "metadata": {},
   "outputs": [],
   "source": [
    "# EXERCISE\n",
    "\n",
    "#Import it below!\n",
    "weather_and_power = ...\n",
    "weather_and_power.head()"
   ]
  },
  {
   "cell_type": "markdown",
   "id": "formed-malta",
   "metadata": {},
   "source": [
    "When we imported the table, we get a weird column called \"Unnamed: 0\". It does not have any important information, so we do not need it. Using the skills we worked on yesterday, drop that column!\n"
   ]
  },
  {
   "cell_type": "code",
   "execution_count": null,
   "id": "outer-major",
   "metadata": {},
   "outputs": [],
   "source": [
    "# EXERCISE\n",
    "\n",
    "# drop the column!\n",
    "\n",
    "weather_and_power = ...\n",
    "weather_and_power.head()"
   ]
  },
  {
   "cell_type": "markdown",
   "id": "blank-facility",
   "metadata": {},
   "source": [
    "In the cell below, find the average for each of the columns."
   ]
  },
  {
   "cell_type": "code",
   "execution_count": null,
   "id": "immediate-still",
   "metadata": {},
   "outputs": [],
   "source": [
    "# EXERCISE\n",
    "\n",
    "#Find the average\n",
    "\n",
    "..."
   ]
  },
  {
   "cell_type": "markdown",
   "id": "sharp-buffer",
   "metadata": {},
   "source": [
    "And now let's find the median for each of the columns."
   ]
  },
  {
   "cell_type": "code",
   "execution_count": null,
   "id": "dental-medicare",
   "metadata": {},
   "outputs": [],
   "source": [
    "# EXERCISE\n",
    "\n",
    "#Find the median\n",
    "..."
   ]
  },
  {
   "cell_type": "markdown",
   "id": "accessible-corrections",
   "metadata": {},
   "source": [
    "## Understanding the Data"
   ]
  },
  {
   "cell_type": "markdown",
   "id": "trained-latino",
   "metadata": {},
   "source": [
    "We are going to do some coding to try to get a better understanding of our data. \n",
    "\n",
    "For `Pandas`, there is a function groupby that takes in a dataframe, a column you are grouping by, and a function and applies that function to those categories."
   ]
  },
  {
   "cell_type": "code",
   "execution_count": null,
   "id": "increasing-fleet",
   "metadata": {},
   "outputs": [],
   "source": [
    "# EXAMPLE\n",
    "\n",
    "nba_data = pd.read_csv(\"nba_data.csv\")[[\"player_name\", \"team_abbreviation\", \"age\", \"country\", \"draft_round\", \"pts\", \"ast\"]]\n",
    "nba_data = nba_data[nba_data[\"draft_round\"] != \"Undrafted\"]\n",
    "nba_data[\"draft_round\"] = nba_data[\"draft_round\"].astype(int)\n",
    "nba_data.head()"
   ]
  },
  {
   "cell_type": "markdown",
   "id": "disturbed-replica",
   "metadata": {},
   "source": [
    "Say I wanted to find the average age, draft round, points, and assists of players from different teams."
   ]
  },
  {
   "cell_type": "code",
   "execution_count": null,
   "id": "persistent-australian",
   "metadata": {},
   "outputs": [],
   "source": [
    "# EXAMPLE\n",
    "\n",
    "nba_data.groupby(\"team_abbreviation\").agg(np.mean).sort_values(\"pts\", ascending = False)"
   ]
  },
  {
   "cell_type": "markdown",
   "id": "moderate-outline",
   "metadata": {},
   "source": [
    "Say I wanted to find the max points, max draft round, and sum of assists of players from different ages."
   ]
  },
  {
   "cell_type": "code",
   "execution_count": null,
   "id": "connected-segment",
   "metadata": {},
   "outputs": [],
   "source": [
    "# EXAMPLE\n",
    "\n",
    "nba_data.groupby(\"age\").agg({\"pts\": max,\n",
    "                            \"draft_round\": np.mean,\n",
    "                            \"ast\": sum})"
   ]
  },
  {
   "cell_type": "markdown",
   "id": "executed-collar",
   "metadata": {},
   "source": [
    "In the cell below, find the least age and median number of points of NBA players based on their draft_round.\n",
    "\n",
    "**Hint:** you will have to use numpy to get the median."
   ]
  },
  {
   "cell_type": "code",
   "execution_count": null,
   "id": "material-organization",
   "metadata": {},
   "outputs": [],
   "source": [
    "# EXERCISE\n",
    "\n",
    "nba_data.groupby(\"draft_round\")..."
   ]
  },
  {
   "cell_type": "markdown",
   "id": "atomic-gossip",
   "metadata": {},
   "source": [
    "Try some grouping the NBA data on your own! See if you can find anything interesting!"
   ]
  },
  {
   "cell_type": "code",
   "execution_count": null,
   "id": "running-piece",
   "metadata": {},
   "outputs": [],
   "source": [
    "# EXERCISE\n",
    "# Groupby practice here!\n",
    "\n"
   ]
  },
  {
   "cell_type": "markdown",
   "id": "bearing-bearing",
   "metadata": {},
   "source": [
    "Now lets try that on our weather and power datatable! In the cell below, groupby the \"12-hr-time\" column, and find the mean of just the \"building total power consumption (Watts)\" and the \"outdoor air temperature (F)\"."
   ]
  },
  {
   "cell_type": "code",
   "execution_count": null,
   "id": "proof-workshop",
   "metadata": {},
   "outputs": [],
   "source": [
    "# EXERCISE\n",
    "\n",
    "# find the average building power consumption and average outdoor air temperature for every time in 12-hr-time column\n",
    "grouped = ...\n",
    "                                                     \n",
    "grouped"
   ]
  },
  {
   "cell_type": "markdown",
   "id": "automatic-mitchell",
   "metadata": {},
   "source": [
    "Which time has the greatest average of building total power consumption? Which time has the least average of outfoor air temperature?"
   ]
  },
  {
   "cell_type": "code",
   "execution_count": null,
   "id": "romance-headquarters",
   "metadata": {},
   "outputs": [],
   "source": [
    "# EXERCISE\n",
    "\n",
    "# Investigate this in this cell\n",
    "grouped.sort_values(...)\n",
    "grouped.sort_values(...)"
   ]
  },
  {
   "cell_type": "markdown",
   "id": "labeled-assurance",
   "metadata": {},
   "source": [
    "In the cell below, groupby \"month\" and find the average building power consumption."
   ]
  },
  {
   "cell_type": "code",
   "execution_count": null,
   "id": "capital-financing",
   "metadata": {},
   "outputs": [],
   "source": [
    "# EXERCISE\n",
    "\n",
    "month_data_building = weather_and_power.groupby(...)...\n",
    "\n",
    "month_data_building"
   ]
  },
  {
   "cell_type": "markdown",
   "id": "composite-dispatch",
   "metadata": {},
   "source": [
    "Make a barchart of the table that you just created. The syntax is datafram.plot.bar(x=\"categorical data\", y = \"numeric data.\"\n",
    "\n",
    "**Hint:** in order for your chart to work, you need to reset the index (no longer have the months be the index). To do that, you need to use the function .rest_index() before you create your bar chart."
   ]
  },
  {
   "cell_type": "code",
   "execution_count": null,
   "id": "israeli-linux",
   "metadata": {},
   "outputs": [],
   "source": [
    "# EXERCISE\n",
    "\n",
    "..."
   ]
  },
  {
   "cell_type": "markdown",
   "id": "chinese-neutral",
   "metadata": {},
   "source": [
    "Which month has the most energy used? Which has the least energy used? What reasons do you think explain that?"
   ]
  },
  {
   "cell_type": "markdown",
   "id": "aging-value",
   "metadata": {},
   "source": [
    "*** Post your ideas here ***"
   ]
  },
  {
   "cell_type": "markdown",
   "id": "brilliant-private",
   "metadata": {},
   "source": [
    "In the cell below, groupby \"month\" again and this time find the average outdoor temperature and make a bar chart that plots this. "
   ]
  },
  {
   "cell_type": "code",
   "execution_count": null,
   "id": "worldwide-strip",
   "metadata": {},
   "outputs": [],
   "source": [
    "# EXERCISE\n",
    "\n",
    "month_data_temp = weather_and_power.groupby(...) ...\n",
    "..."
   ]
  },
  {
   "cell_type": "markdown",
   "id": "cardiovascular-budapest",
   "metadata": {},
   "source": [
    "Seeing this chart, does it make sense that February and March use the most energy? Why or why not?"
   ]
  },
  {
   "cell_type": "markdown",
   "id": "dirty-perry",
   "metadata": {},
   "source": [
    "Notebook developed by: Rachel McCarty <br/> \n",
    "Edited by: Kseniya Usovich"
   ]
  }
 ],
 "metadata": {
  "kernelspec": {
   "display_name": "Python 3",
   "language": "python",
   "name": "python3"
  },
  "language_info": {
   "codemirror_mode": {
    "name": "ipython",
    "version": 3
   },
   "file_extension": ".py",
   "mimetype": "text/x-python",
   "name": "python",
   "nbconvert_exporter": "python",
   "pygments_lexer": "ipython3",
   "version": "3.9.1"
  }
 },
 "nbformat": 4,
 "nbformat_minor": 5
}
