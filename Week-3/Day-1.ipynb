{
 "cells": [
  {
   "cell_type": "markdown",
   "id": "47cb5f39",
   "metadata": {},
   "source": [
    "<img src=\"lbnl_logo.jpg\">\n",
    "\n",
    "----\n",
    "\n",
    "\n",
    "\n",
    "\n",
    "# Basic Stats and Inference in Pandas\n",
    "\n",
    "\n",
    "\n",
    "---\n",
    "\n",
    "    \n",
    "### Table of Contents\n",
    "\n",
    "1 - [Mean/Median/Mode](#section1)<br>\n",
    "\n",
    "2 - [Histograms](#section2)<br>\n",
    "\n",
    "3 - [Variance and Standard Deviation](#section3)<br>\n",
    "\n",
    "4 - [Basic Trend Analysis and Linear Regression](#section4)<br>\n"
   ]
  },
  {
   "cell_type": "markdown",
   "id": "09733fb6",
   "metadata": {},
   "source": [
    "## 1. Mean/Median/Mode <a id='section1'></a>"
   ]
  },
  {
   "cell_type": "markdown",
   "id": "b5e7f2c8",
   "metadata": {},
   "source": [
    "Let's say that you need to compile some basic statistics about your family for a class assignment. The assignment asks you to find out the weight and height of every member of your family and then do some basic analysis. You get the data from whomever you can get ahold of and store it in a bunch of lists."
   ]
  },
  {
   "cell_type": "code",
   "execution_count": 2,
   "id": "037ce6d5",
   "metadata": {},
   "outputs": [],
   "source": [
    "# EXAMPLE\n",
    "\n",
    "names = ['me', 'Younger Sister', 'Older Brother', 'Uncle Joe', 'Cousin Andrea']\n",
    "weights = [170, 45, 170, 200, 70]\n",
    "heights = [65, 50, 72, 72, 66]"
   ]
  },
  {
   "cell_type": "markdown",
   "id": "306535cd",
   "metadata": {},
   "source": [
    "You can't convert lists to Pandas dataframes easily so you need some kind of a temporary data structure which you can feed into Pandas. The Python dictionary data structure is the most similar to a Pandas dataframe so put your lists into a dictionary and then get Pandas to make a dataframe out of that. Python dictionaries operate the same way as regular (language) disctionaries: for each key (think: word) it has one or more values (think: translations). "
   ]
  },
  {
   "cell_type": "markdown",
   "id": "ahead-school",
   "metadata": {},
   "source": [
    "In the cell below, we are creating a `temporary_dictionary` in which we save all our lists under specific keys they correspond to."
   ]
  },
  {
   "cell_type": "code",
   "execution_count": 21,
   "id": "d8cf837a",
   "metadata": {},
   "outputs": [
    {
     "data": {
      "text/plain": [
       "{'family member': ['me',\n",
       "  'Younger Sister',\n",
       "  'Older Brother',\n",
       "  'Uncle Joe',\n",
       "  'Cousin Andrea'],\n",
       " 'weight': [170, 45, 170, 200, 70],\n",
       " 'height': [65, 50, 72, 72, 66]}"
      ]
     },
     "execution_count": 21,
     "metadata": {},
     "output_type": "execute_result"
    }
   ],
   "source": [
    "# EXAMPLE\n",
    "\n",
    "temporary_dictionary = {'family member': names, 'weight': weights, 'height': heights}\n",
    "temporary_dictionary"
   ]
  },
  {
   "cell_type": "markdown",
   "id": "adjustable-carrier",
   "metadata": {},
   "source": [
    "In the cell below, we convert our `dictionary` into a `DataFrame`. Each key will become a name of a column, and all the values under it will become values in that column. For example, our key **family members** will become a column with the same title that will have rows corresponding to each value we saved there initially, Since we used the list **names** for values, items of that list will become values in our column **family members**."
   ]
  },
  {
   "cell_type": "code",
   "execution_count": 23,
   "id": "3a1f0c36",
   "metadata": {},
   "outputs": [
    {
     "data": {
      "text/html": [
       "<div>\n",
       "<style scoped>\n",
       "    .dataframe tbody tr th:only-of-type {\n",
       "        vertical-align: middle;\n",
       "    }\n",
       "\n",
       "    .dataframe tbody tr th {\n",
       "        vertical-align: top;\n",
       "    }\n",
       "\n",
       "    .dataframe thead th {\n",
       "        text-align: right;\n",
       "    }\n",
       "</style>\n",
       "<table border=\"1\" class=\"dataframe\">\n",
       "  <thead>\n",
       "    <tr style=\"text-align: right;\">\n",
       "      <th></th>\n",
       "      <th>family member</th>\n",
       "      <th>weight</th>\n",
       "      <th>height</th>\n",
       "    </tr>\n",
       "  </thead>\n",
       "  <tbody>\n",
       "    <tr>\n",
       "      <th>0</th>\n",
       "      <td>me</td>\n",
       "      <td>170</td>\n",
       "      <td>65</td>\n",
       "    </tr>\n",
       "    <tr>\n",
       "      <th>1</th>\n",
       "      <td>Younger Sister</td>\n",
       "      <td>45</td>\n",
       "      <td>50</td>\n",
       "    </tr>\n",
       "    <tr>\n",
       "      <th>2</th>\n",
       "      <td>Older Brother</td>\n",
       "      <td>170</td>\n",
       "      <td>72</td>\n",
       "    </tr>\n",
       "    <tr>\n",
       "      <th>3</th>\n",
       "      <td>Uncle Joe</td>\n",
       "      <td>200</td>\n",
       "      <td>72</td>\n",
       "    </tr>\n",
       "    <tr>\n",
       "      <th>4</th>\n",
       "      <td>Cousin Andrea</td>\n",
       "      <td>70</td>\n",
       "      <td>66</td>\n",
       "    </tr>\n",
       "  </tbody>\n",
       "</table>\n",
       "</div>"
      ],
      "text/plain": [
       "    family member  weight  height\n",
       "0              me     170      65\n",
       "1  Younger Sister      45      50\n",
       "2   Older Brother     170      72\n",
       "3       Uncle Joe     200      72\n",
       "4   Cousin Andrea      70      66"
      ]
     },
     "execution_count": 23,
     "metadata": {},
     "output_type": "execute_result"
    }
   ],
   "source": [
    "# EXAMPLE\n",
    "\n",
    "import pandas as pd\n",
    "my_data = pd.DataFrame(temporary_dictionary)\n",
    "my_data"
   ]
  },
  {
   "cell_type": "markdown",
   "id": "f99f8b39",
   "metadata": {},
   "source": [
    "It worked! Pandas figured out that the lists in your dictionary were actually columns. "
   ]
  },
  {
   "cell_type": "markdown",
   "id": "9a6827bd",
   "metadata": {},
   "source": [
    "Now you have to find the average/mean, median, and mode of the weight and height of your family members. Thankfully, Pandas has you covered. If you run the `mean()` command on the entire dataframe it will automatically figure out which columns are numerical and compute the means.\n",
    "\n",
    "The mean is just the arithmetic average of your data. To get the average value, Pandas adds up all of your data points and divides by the number of values."
   ]
  },
  {
   "cell_type": "code",
   "execution_count": 24,
   "id": "f0fba01c",
   "metadata": {},
   "outputs": [
    {
     "data": {
      "text/plain": [
       "weight    131.0\n",
       "height     65.0\n",
       "dtype: float64"
      ]
     },
     "execution_count": 24,
     "metadata": {},
     "output_type": "execute_result"
    }
   ],
   "source": [
    "# EXAMPLE\n",
    "\n",
    "my_data.mean()"
   ]
  },
  {
   "cell_type": "markdown",
   "id": "058773a6",
   "metadata": {},
   "source": [
    "The Median of your data is the value which ends up in the middle (half way from the edges) if you were to arrange the data in ascending (aka increasing) order. To calculate median, we can call `median()` on our data."
   ]
  },
  {
   "cell_type": "code",
   "execution_count": 27,
   "id": "3bcf011b",
   "metadata": {},
   "outputs": [
    {
     "data": {
      "text/plain": [
       "weight    170.0\n",
       "height     66.0\n",
       "dtype: float64"
      ]
     },
     "execution_count": 27,
     "metadata": {},
     "output_type": "execute_result"
    }
   ],
   "source": [
    "# EXAMPLE\n",
    "\n",
    "my_data.median()"
   ]
  },
  {
   "cell_type": "markdown",
   "id": "e5676fee",
   "metadata": {},
   "source": [
    "The Mode is just the most common value. Of course, the names of your family members are all unique so Pandas can't figure out a Mode for the name column and returns you a weird dataframe with all the names still present. To find the most common numerical value, we can use `mode()` on our data."
   ]
  },
  {
   "cell_type": "code",
   "execution_count": 28,
   "id": "65e676a9",
   "metadata": {},
   "outputs": [
    {
     "data": {
      "text/html": [
       "<div>\n",
       "<style scoped>\n",
       "    .dataframe tbody tr th:only-of-type {\n",
       "        vertical-align: middle;\n",
       "    }\n",
       "\n",
       "    .dataframe tbody tr th {\n",
       "        vertical-align: top;\n",
       "    }\n",
       "\n",
       "    .dataframe thead th {\n",
       "        text-align: right;\n",
       "    }\n",
       "</style>\n",
       "<table border=\"1\" class=\"dataframe\">\n",
       "  <thead>\n",
       "    <tr style=\"text-align: right;\">\n",
       "      <th></th>\n",
       "      <th>family member</th>\n",
       "      <th>weight</th>\n",
       "      <th>height</th>\n",
       "    </tr>\n",
       "  </thead>\n",
       "  <tbody>\n",
       "    <tr>\n",
       "      <th>0</th>\n",
       "      <td>Cousin Andrea</td>\n",
       "      <td>170.0</td>\n",
       "      <td>72.0</td>\n",
       "    </tr>\n",
       "    <tr>\n",
       "      <th>1</th>\n",
       "      <td>Older Brother</td>\n",
       "      <td>NaN</td>\n",
       "      <td>NaN</td>\n",
       "    </tr>\n",
       "    <tr>\n",
       "      <th>2</th>\n",
       "      <td>Uncle Joe</td>\n",
       "      <td>NaN</td>\n",
       "      <td>NaN</td>\n",
       "    </tr>\n",
       "    <tr>\n",
       "      <th>3</th>\n",
       "      <td>Younger Sister</td>\n",
       "      <td>NaN</td>\n",
       "      <td>NaN</td>\n",
       "    </tr>\n",
       "    <tr>\n",
       "      <th>4</th>\n",
       "      <td>me</td>\n",
       "      <td>NaN</td>\n",
       "      <td>NaN</td>\n",
       "    </tr>\n",
       "  </tbody>\n",
       "</table>\n",
       "</div>"
      ],
      "text/plain": [
       "    family member  weight  height\n",
       "0   Cousin Andrea   170.0    72.0\n",
       "1   Older Brother     NaN     NaN\n",
       "2       Uncle Joe     NaN     NaN\n",
       "3  Younger Sister     NaN     NaN\n",
       "4              me     NaN     NaN"
      ]
     },
     "execution_count": 28,
     "metadata": {},
     "output_type": "execute_result"
    }
   ],
   "source": [
    "# EXAMPLE\n",
    "\n",
    "my_data.mode()"
   ]
  },
  {
   "cell_type": "markdown",
   "id": "0626b130",
   "metadata": {},
   "source": [
    "In order to avoid this you can select your columns one by one with <b>.loc[:, column]</b> and run the `mode()` command on each column individually."
   ]
  },
  {
   "cell_type": "code",
   "execution_count": 29,
   "id": "d7e4d3d7",
   "metadata": {},
   "outputs": [
    {
     "data": {
      "text/plain": [
       "0    170\n",
       "dtype: int64"
      ]
     },
     "execution_count": 29,
     "metadata": {},
     "output_type": "execute_result"
    }
   ],
   "source": [
    "# EXAMPLE\n",
    "\n",
    "# The mode of the weight column\n",
    "my_data.loc[:, 'weight'].mode()"
   ]
  },
  {
   "cell_type": "code",
   "execution_count": 30,
   "id": "153c2582",
   "metadata": {},
   "outputs": [
    {
     "data": {
      "text/plain": [
       "0    72\n",
       "dtype: int64"
      ]
     },
     "execution_count": 30,
     "metadata": {},
     "output_type": "execute_result"
    }
   ],
   "source": [
    "# EXAMPLE\n",
    "\n",
    "# The mode of the height column\n",
    "my_data.loc[:, 'height'].mode()"
   ]
  },
  {
   "cell_type": "markdown",
   "id": "2717cc8f",
   "metadata": {},
   "source": [
    "The mean, median, and mode are all essentially different types of \"average\" value. But as you have seen, they can give very different results with certain types of data. If you have a large and random dataset, like the ones we simulated with np.random.rand, these three types of averages will be the same or almost the same. Most data we encounter in nature will be random, but when we collect data, it is easy to unintentionally skew it to one side or another if we aren't careful in how we obtain that data. \n",
    "\n",
    "<br> <br>\n",
    "Our dataset wasn't \"random enough\". It was too small and this made it easily influenced by the particular data points we captured with our survey. To illustrate that, let's see what happens if your younger sister gets wind of why you are asking everyone their weights and starts to insist that her chihuahua \"is absolutely part of the family and needs to be counted!\""
   ]
  },
  {
   "cell_type": "code",
   "execution_count": 31,
   "id": "191417da",
   "metadata": {},
   "outputs": [
    {
     "data": {
      "text/html": [
       "<div>\n",
       "<style scoped>\n",
       "    .dataframe tbody tr th:only-of-type {\n",
       "        vertical-align: middle;\n",
       "    }\n",
       "\n",
       "    .dataframe tbody tr th {\n",
       "        vertical-align: top;\n",
       "    }\n",
       "\n",
       "    .dataframe thead th {\n",
       "        text-align: right;\n",
       "    }\n",
       "</style>\n",
       "<table border=\"1\" class=\"dataframe\">\n",
       "  <thead>\n",
       "    <tr style=\"text-align: right;\">\n",
       "      <th></th>\n",
       "      <th>family member</th>\n",
       "      <th>weight</th>\n",
       "      <th>height</th>\n",
       "    </tr>\n",
       "  </thead>\n",
       "  <tbody>\n",
       "    <tr>\n",
       "      <th>0</th>\n",
       "      <td>me</td>\n",
       "      <td>170</td>\n",
       "      <td>65</td>\n",
       "    </tr>\n",
       "    <tr>\n",
       "      <th>1</th>\n",
       "      <td>Younger Sister</td>\n",
       "      <td>45</td>\n",
       "      <td>50</td>\n",
       "    </tr>\n",
       "    <tr>\n",
       "      <th>2</th>\n",
       "      <td>Older Brother</td>\n",
       "      <td>170</td>\n",
       "      <td>72</td>\n",
       "    </tr>\n",
       "    <tr>\n",
       "      <th>3</th>\n",
       "      <td>Uncle Joe</td>\n",
       "      <td>200</td>\n",
       "      <td>72</td>\n",
       "    </tr>\n",
       "    <tr>\n",
       "      <th>4</th>\n",
       "      <td>Cousin Andrea</td>\n",
       "      <td>70</td>\n",
       "      <td>66</td>\n",
       "    </tr>\n",
       "    <tr>\n",
       "      <th>5</th>\n",
       "      <td>chihuahua</td>\n",
       "      <td>5</td>\n",
       "      <td>7</td>\n",
       "    </tr>\n",
       "  </tbody>\n",
       "</table>\n",
       "</div>"
      ],
      "text/plain": [
       "    family member  weight  height\n",
       "0              me     170      65\n",
       "1  Younger Sister      45      50\n",
       "2   Older Brother     170      72\n",
       "3       Uncle Joe     200      72\n",
       "4   Cousin Andrea      70      66\n",
       "5       chihuahua       5       7"
      ]
     },
     "execution_count": 31,
     "metadata": {},
     "output_type": "execute_result"
    }
   ],
   "source": [
    "# EXAMPLE\n",
    "\n",
    "my_data = my_data.append({'family member': 'chihuahua', 'weight': 5, 'height': 7}, ignore_index = True)\n",
    "my_data"
   ]
  },
  {
   "cell_type": "markdown",
   "id": "8533c87d",
   "metadata": {},
   "source": [
    "What happens to our averages then? "
   ]
  },
  {
   "cell_type": "code",
   "execution_count": 34,
   "id": "1ec90cea",
   "metadata": {},
   "outputs": [
    {
     "name": "stdout",
     "output_type": "stream",
     "text": [
      "The average is  110.0\n",
      "The median is  120.0\n",
      "The mode is  0    170\n",
      "dtype: int64\n"
     ]
    }
   ],
   "source": [
    "# EXERCISE\n",
    "\n",
    "#calculate mean/median/mode only for the column \"weight\"\n",
    "\n",
    "print(\"The average is \", my_data...) #mean\n",
    "print(\"The median is \", ...) #median\n",
    "print(\"The mode is \", ...) #mode"
   ]
  },
  {
   "cell_type": "markdown",
   "id": "c5e4a7f8",
   "metadata": {},
   "source": [
    "The median and the mode stayed the same, but look at that mean dropping from 131 to 110. One extra row in our data and we see a dramatic change in the average. What if we add some other, even lighter pets to our dataset? We would essentially drag our average down by choosing what data we consider in our analysis. By analyzing these different types of averages we can check if a  dataset is truly random of if it was skewed or biased in some way.<br><br>\n",
    "Do you think the same thing would happen if we added an extra data point to a dataset of millions of families? "
   ]
  },
  {
   "cell_type": "code",
   "execution_count": 39,
   "id": "e744868b",
   "metadata": {},
   "outputs": [
    {
     "data": {
      "text/html": [
       "<div>\n",
       "<style scoped>\n",
       "    .dataframe tbody tr th:only-of-type {\n",
       "        vertical-align: middle;\n",
       "    }\n",
       "\n",
       "    .dataframe tbody tr th {\n",
       "        vertical-align: top;\n",
       "    }\n",
       "\n",
       "    .dataframe thead th {\n",
       "        text-align: right;\n",
       "    }\n",
       "</style>\n",
       "<table border=\"1\" class=\"dataframe\">\n",
       "  <thead>\n",
       "    <tr style=\"text-align: right;\">\n",
       "      <th></th>\n",
       "      <th>weight</th>\n",
       "    </tr>\n",
       "  </thead>\n",
       "  <tbody>\n",
       "    <tr>\n",
       "      <th>0</th>\n",
       "      <td>46</td>\n",
       "    </tr>\n",
       "    <tr>\n",
       "      <th>1</th>\n",
       "      <td>220</td>\n",
       "    </tr>\n",
       "    <tr>\n",
       "      <th>2</th>\n",
       "      <td>206</td>\n",
       "    </tr>\n",
       "    <tr>\n",
       "      <th>3</th>\n",
       "      <td>161</td>\n",
       "    </tr>\n",
       "    <tr>\n",
       "      <th>4</th>\n",
       "      <td>89</td>\n",
       "    </tr>\n",
       "    <tr>\n",
       "      <th>...</th>\n",
       "      <td>...</td>\n",
       "    </tr>\n",
       "    <tr>\n",
       "      <th>99995</th>\n",
       "      <td>170</td>\n",
       "    </tr>\n",
       "    <tr>\n",
       "      <th>99996</th>\n",
       "      <td>130</td>\n",
       "    </tr>\n",
       "    <tr>\n",
       "      <th>99997</th>\n",
       "      <td>113</td>\n",
       "    </tr>\n",
       "    <tr>\n",
       "      <th>99998</th>\n",
       "      <td>178</td>\n",
       "    </tr>\n",
       "    <tr>\n",
       "      <th>99999</th>\n",
       "      <td>43</td>\n",
       "    </tr>\n",
       "  </tbody>\n",
       "</table>\n",
       "<p>100000 rows × 1 columns</p>\n",
       "</div>"
      ],
      "text/plain": [
       "       weight\n",
       "0          46\n",
       "1         220\n",
       "2         206\n",
       "3         161\n",
       "4          89\n",
       "...       ...\n",
       "99995     170\n",
       "99996     130\n",
       "99997     113\n",
       "99998     178\n",
       "99999      43\n",
       "\n",
       "[100000 rows x 1 columns]"
      ]
     },
     "execution_count": 39,
     "metadata": {},
     "output_type": "execute_result"
    }
   ],
   "source": [
    "# EXAMPLE\n",
    "\n",
    "import numpy as np\n",
    "random_weights_array = np.random.normal(130, 62, 100000).astype(int)\n",
    "random_weights = pd.DataFrame(random_weights_array).rename({0:'weight'}, axis = 1)\n",
    "random_weights"
   ]
  },
  {
   "cell_type": "markdown",
   "id": "revised-humor",
   "metadata": {},
   "source": [
    "We have created a DataFrame with 100,000 values. Let's see what our averages are now.\n",
    "\n",
    "**Note:** your values can be slightly different everytime you rerun your code cells. Because our data is random, it will recreate values everytime."
   ]
  },
  {
   "cell_type": "code",
   "execution_count": 41,
   "id": "3d3e2a03",
   "metadata": {},
   "outputs": [
    {
     "name": "stdout",
     "output_type": "stream",
     "text": [
      "The average is  weight    129.48527\n",
      "dtype: float64\n",
      "The median is  weight    130.0\n",
      "dtype: float64\n",
      "The mode is     weight\n",
      "0     133\n"
     ]
    }
   ],
   "source": [
    "# EXERCISE\n",
    "\n",
    "print(\"The average is \", random_weights...) #mean\n",
    "print(\"The median is \", ...) #median\n",
    "print(\"The mode is \", ...) #mode"
   ]
  },
  {
   "cell_type": "markdown",
   "id": "raised-trash",
   "metadata": {},
   "source": [
    "Do you notice how our mean, median, and mode are very similar now that we have a lot of values and all the values were randomly generated?"
   ]
  },
  {
   "cell_type": "markdown",
   "id": "composed-shelter",
   "metadata": {},
   "source": [
    "In the cell below, we will append a value **5** to our data to see if it skews the averages."
   ]
  },
  {
   "cell_type": "code",
   "execution_count": 44,
   "id": "b8d93d8b",
   "metadata": {},
   "outputs": [
    {
     "data": {
      "text/html": [
       "<div>\n",
       "<style scoped>\n",
       "    .dataframe tbody tr th:only-of-type {\n",
       "        vertical-align: middle;\n",
       "    }\n",
       "\n",
       "    .dataframe tbody tr th {\n",
       "        vertical-align: top;\n",
       "    }\n",
       "\n",
       "    .dataframe thead th {\n",
       "        text-align: right;\n",
       "    }\n",
       "</style>\n",
       "<table border=\"1\" class=\"dataframe\">\n",
       "  <thead>\n",
       "    <tr style=\"text-align: right;\">\n",
       "      <th></th>\n",
       "      <th>weight</th>\n",
       "    </tr>\n",
       "  </thead>\n",
       "  <tbody>\n",
       "    <tr>\n",
       "      <th>0</th>\n",
       "      <td>46</td>\n",
       "    </tr>\n",
       "    <tr>\n",
       "      <th>1</th>\n",
       "      <td>220</td>\n",
       "    </tr>\n",
       "    <tr>\n",
       "      <th>2</th>\n",
       "      <td>206</td>\n",
       "    </tr>\n",
       "    <tr>\n",
       "      <th>3</th>\n",
       "      <td>161</td>\n",
       "    </tr>\n",
       "    <tr>\n",
       "      <th>4</th>\n",
       "      <td>89</td>\n",
       "    </tr>\n",
       "    <tr>\n",
       "      <th>...</th>\n",
       "      <td>...</td>\n",
       "    </tr>\n",
       "    <tr>\n",
       "      <th>99996</th>\n",
       "      <td>130</td>\n",
       "    </tr>\n",
       "    <tr>\n",
       "      <th>99997</th>\n",
       "      <td>113</td>\n",
       "    </tr>\n",
       "    <tr>\n",
       "      <th>99998</th>\n",
       "      <td>178</td>\n",
       "    </tr>\n",
       "    <tr>\n",
       "      <th>99999</th>\n",
       "      <td>43</td>\n",
       "    </tr>\n",
       "    <tr>\n",
       "      <th>100000</th>\n",
       "      <td>5</td>\n",
       "    </tr>\n",
       "  </tbody>\n",
       "</table>\n",
       "<p>100001 rows × 1 columns</p>\n",
       "</div>"
      ],
      "text/plain": [
       "        weight\n",
       "0           46\n",
       "1          220\n",
       "2          206\n",
       "3          161\n",
       "4           89\n",
       "...        ...\n",
       "99996      130\n",
       "99997      113\n",
       "99998      178\n",
       "99999       43\n",
       "100000       5\n",
       "\n",
       "[100001 rows x 1 columns]"
      ]
     },
     "execution_count": 44,
     "metadata": {},
     "output_type": "execute_result"
    }
   ],
   "source": [
    "# EXAMPLE\n",
    "\n",
    "random_weights.append({'weight': 5}, ignore_index = True)"
   ]
  },
  {
   "cell_type": "code",
   "execution_count": 45,
   "id": "407ef31b",
   "metadata": {},
   "outputs": [
    {
     "data": {
      "text/plain": [
       "weight    129.48527\n",
       "dtype: float64"
      ]
     },
     "execution_count": 45,
     "metadata": {},
     "output_type": "execute_result"
    }
   ],
   "source": [
    "# EXAMPLE\n",
    "\n",
    "random_weights.mean()"
   ]
  },
  {
   "cell_type": "markdown",
   "id": "9929b9c4",
   "metadata": {},
   "source": [
    "Nope, the mean basically stays the same. Of course, we could still move our average up or down. We would just have to add a lot more than just one point, and that is a mistake which is much harder to make. And that is one of the reasons why researchers prefer bigger datasets: it's harder to have a significantly different result with just one outlier. Of course, first and foremost, your data needs to be good to begin with, but we won't go into details of it. If you want to learn more, here's a good [lecture about samples](https://ds100.org/fa20/lecture/lec02/). <br><br>\n",
    "\n",
    "This is why data scientists and statisticians are so focused on these different types of averages, not only do they provide us with an easy way to summarise our findings, they can also tell us a lot about the quality of our datasets."
   ]
  },
  {
   "cell_type": "markdown",
   "id": "bc628699",
   "metadata": {},
   "source": [
    "## 2. Histograms <a id='section2'></a>"
   ]
  },
  {
   "cell_type": "markdown",
   "id": "1adbe5f0",
   "metadata": {},
   "source": [
    "Aside from looking at averages and other such summary values for our dataset, a histogram is the best way to quickly inspect your data and get a feel for what you are dealing with. You can create a histogram by calling `dataframe.hist()`. Pandas will automatically decide how many boxes to create in your histogram."
   ]
  },
  {
   "cell_type": "code",
   "execution_count": 46,
   "id": "52dee4e9",
   "metadata": {},
   "outputs": [
    {
     "data": {
      "text/plain": [
       "array([[<AxesSubplot:title={'center':'weight'}>]], dtype=object)"
      ]
     },
     "execution_count": 46,
     "metadata": {},
     "output_type": "execute_result"
    },
    {
     "data": {
      "image/png": "[encoded data removed]",
      "text/plain": [
       "<Figure size 432x288 with 1 Axes>"
      ]
     },
     "metadata": {
      "needs_background": "light"
     },
     "output_type": "display_data"
    }
   ],
   "source": [
    "# EXAMPLE\n",
    "\n",
    "random_weights.hist()"
   ]
  },
  {
   "cell_type": "markdown",
   "id": "e61357f4",
   "metadata": {},
   "source": [
    "You can think of a histogram as a series of boxes. Each box contains data points of a certain magnitude. The more values you have at a certain value of your variable, the taller the box at that value. For example, in the histogram above you can see that most of the values are concentrated in the boxes between roughly 100 and 130 lbs, because that is the tallest box. The next tallest box is between about 130 and 160 lbs. It contains almost as many values as the tallest box but not quite.\n",
    "<br><br>\n",
    "The number on the vertical axis is just the number of values in that particular box. So we know that in the tallest box we have about 350 thousand values out of our total 1 million data points. \n",
    "<br><br>\n",
    "You can create a histogram by adding `.hist()` to the name of your dataframe. If the dataframe has multiple numerical columns, Pandas will create a histogram for each column. This is one of the simplest and most useful types of graphs you can create with Pandas and you will get a lot of use out of it. So let's try to \"read\" one. "
   ]
  },
  {
   "cell_type": "code",
   "execution_count": 47,
   "id": "aebc932a",
   "metadata": {},
   "outputs": [
    {
     "data": {
      "text/plain": [
       "array([[<AxesSubplot:title={'center':'weight'}>]], dtype=object)"
      ]
     },
     "execution_count": 47,
     "metadata": {},
     "output_type": "execute_result"
    },
    {
     "data": {
      "image/png": "[encoded data removed]",
      "text/plain": [
       "<Figure size 432x288 with 1 Axes>"
      ]
     },
     "metadata": {
      "needs_background": "light"
     },
     "output_type": "display_data"
    }
   ],
   "source": [
    "# EXAMPLE\n",
    "\n",
    "random_weights.hist(bins=20)"
   ]
  },
  {
   "cell_type": "markdown",
   "id": "5b0f3be7",
   "metadata": {},
   "source": [
    "If you want to see more boxes than the standard number of boxes `.hist()` creates, you can also specify the number of boxes you want it to create."
   ]
  },
  {
   "cell_type": "code",
   "execution_count": 48,
   "id": "c10bfb5a",
   "metadata": {},
   "outputs": [
    {
     "data": {
      "text/plain": [
       "array([[<AxesSubplot:title={'center':'weight'}>]], dtype=object)"
      ]
     },
     "execution_count": 48,
     "metadata": {},
     "output_type": "execute_result"
    },
    {
     "data": {
      "image/png": "[encoded data removed]",
      "text/plain": [
       "<Figure size 432x288 with 1 Axes>"
      ]
     },
     "metadata": {
      "needs_background": "light"
     },
     "output_type": "display_data"
    }
   ],
   "source": [
    "# EXAMPLE\n",
    "\n",
    "random_weights.hist(bins=50)"
   ]
  },
  {
   "cell_type": "markdown",
   "id": "d4f05dc7",
   "metadata": {},
   "source": [
    "The more bins you specify the smaller the number of points will fit in that box and the smaller the numbers on the vertical axis will become. "
   ]
  },
  {
   "cell_type": "code",
   "execution_count": 49,
   "id": "f14f57ad",
   "metadata": {},
   "outputs": [
    {
     "data": {
      "text/plain": [
       "array([[<AxesSubplot:title={'center':'weight'}>]], dtype=object)"
      ]
     },
     "execution_count": 49,
     "metadata": {},
     "output_type": "execute_result"
    },
    {
     "data": {
      "image/png": "[encoded data removed]",
      "text/plain": [
       "<Figure size 432x288 with 1 Axes>"
      ]
     },
     "metadata": {
      "needs_background": "light"
     },
     "output_type": "display_data"
    }
   ],
   "source": [
    "# EXAMPLE\n",
    "\n",
    "random_weights.hist(bins=300)"
   ]
  },
  {
   "cell_type": "markdown",
   "id": "ebdfaab2",
   "metadata": {},
   "source": [
    "If you create enough boxes (and you have enough data) you will see the true \"shape\" of your dataset. The data we have in random_weights is roughly \"bell-shaped.\" As in, it looks like a bell. It starts off with very few data points at certain weights. Then the number increases to a peak around 130 lbs. And then it starts to decline toward 250 lbs. \n",
    "<br><br>\n",
    "Incidentally, that is what a \"mode\" is, that tall peak at the center of our data distribution.\n",
    "<br><br>\n",
    "\n",
    "The data we use in these examples is totally random. But with your actual data the number of \"boxes\" should help you read it. So if you are a restaurant manager, and want to know how many people you need per shift; you will need to see when your restaurant is the busiest, so breaking it down by hour would make the most sense, and so on."
   ]
  },
  {
   "cell_type": "markdown",
   "id": "sitting-rubber",
   "metadata": {},
   "source": [
    "In the cells below we will recreate an example just like the one above, but this time we will work with store customers per hour. First, we will create an array of 10,000 random values from 0 to 23 (hours in a day)."
   ]
  },
  {
   "cell_type": "code",
   "execution_count": 119,
   "id": "recreational-friend",
   "metadata": {},
   "outputs": [
    {
     "data": {
      "text/html": [
       "<div>\n",
       "<style scoped>\n",
       "    .dataframe tbody tr th:only-of-type {\n",
       "        vertical-align: middle;\n",
       "    }\n",
       "\n",
       "    .dataframe tbody tr th {\n",
       "        vertical-align: top;\n",
       "    }\n",
       "\n",
       "    .dataframe thead th {\n",
       "        text-align: right;\n",
       "    }\n",
       "</style>\n",
       "<table border=\"1\" class=\"dataframe\">\n",
       "  <thead>\n",
       "    <tr style=\"text-align: right;\">\n",
       "      <th></th>\n",
       "      <th>hours</th>\n",
       "    </tr>\n",
       "  </thead>\n",
       "  <tbody>\n",
       "    <tr>\n",
       "      <th>0</th>\n",
       "      <td>14</td>\n",
       "    </tr>\n",
       "    <tr>\n",
       "      <th>1</th>\n",
       "      <td>16</td>\n",
       "    </tr>\n",
       "    <tr>\n",
       "      <th>2</th>\n",
       "      <td>8</td>\n",
       "    </tr>\n",
       "    <tr>\n",
       "      <th>3</th>\n",
       "      <td>16</td>\n",
       "    </tr>\n",
       "    <tr>\n",
       "      <th>4</th>\n",
       "      <td>11</td>\n",
       "    </tr>\n",
       "    <tr>\n",
       "      <th>...</th>\n",
       "      <td>...</td>\n",
       "    </tr>\n",
       "    <tr>\n",
       "      <th>9995</th>\n",
       "      <td>12</td>\n",
       "    </tr>\n",
       "    <tr>\n",
       "      <th>9996</th>\n",
       "      <td>7</td>\n",
       "    </tr>\n",
       "    <tr>\n",
       "      <th>9997</th>\n",
       "      <td>11</td>\n",
       "    </tr>\n",
       "    <tr>\n",
       "      <th>9998</th>\n",
       "      <td>17</td>\n",
       "    </tr>\n",
       "    <tr>\n",
       "      <th>9999</th>\n",
       "      <td>17</td>\n",
       "    </tr>\n",
       "  </tbody>\n",
       "</table>\n",
       "<p>10000 rows × 1 columns</p>\n",
       "</div>"
      ],
      "text/plain": [
       "      hours\n",
       "0        14\n",
       "1        16\n",
       "2         8\n",
       "3        16\n",
       "4        11\n",
       "...     ...\n",
       "9995     12\n",
       "9996      7\n",
       "9997     11\n",
       "9998     17\n",
       "9999     17\n",
       "\n",
       "[10000 rows x 1 columns]"
      ]
     },
     "execution_count": 119,
     "metadata": {},
     "output_type": "execute_result"
    }
   ],
   "source": [
    "# EXAMPLE\n",
    "\n",
    "store_customers_array = np.random.normal(12, 3, 10000).astype(int)\n",
    "store_customers = pd.DataFrame(store_customers_array).rename({0:'hours'}, axis = 1)\n",
    "store_customers"
   ]
  },
  {
   "cell_type": "markdown",
   "id": "macro-monitor",
   "metadata": {},
   "source": [
    "Now, let's make a histogram of our **store_customers** column. "
   ]
  },
  {
   "cell_type": "code",
   "execution_count": 120,
   "id": "executed-worker",
   "metadata": {},
   "outputs": [
    {
     "data": {
      "text/plain": [
       "array([[<AxesSubplot:title={'center':'hours'}>]], dtype=object)"
      ]
     },
     "execution_count": 120,
     "metadata": {},
     "output_type": "execute_result"
    },
    {
     "data": {
      "image/png": "[encoded data removed]",
      "text/plain": [
       "<Figure size 432x288 with 1 Axes>"
      ]
     },
     "metadata": {
      "needs_background": "light"
     },
     "output_type": "display_data"
    }
   ],
   "source": [
    "# EXERCISE\n",
    "\n",
    "... "
   ]
  },
  {
   "cell_type": "markdown",
   "id": "executive-india",
   "metadata": {},
   "source": [
    "Do you notice that your values are all around 12 pm? (We made it to be that way, your actual data of customer visits per hour would be very different). But if you were to decide at what hour to have bins (\"boxes\") for each hour, would it give you a better idea at what hours the store would need the most help?"
   ]
  },
  {
   "cell_type": "code",
   "execution_count": 121,
   "id": "concrete-amplifier",
   "metadata": {},
   "outputs": [
    {
     "data": {
      "text/plain": [
       "array([[<AxesSubplot:title={'center':'hours'}>]], dtype=object)"
      ]
     },
     "execution_count": 121,
     "metadata": {},
     "output_type": "execute_result"
    },
    {
     "data": {
      "image/png": "[encoded data removed]",
      "text/plain": [
       "<Figure size 432x288 with 1 Axes>"
      ]
     },
     "metadata": {
      "needs_background": "light"
     },
     "output_type": "display_data"
    }
   ],
   "source": [
    "# EXERCISE\n",
    "\n",
    "..."
   ]
  },
  {
   "cell_type": "markdown",
   "id": "european-shelter",
   "metadata": {},
   "source": [
    "At what hour in a day would you recommend a manager to have the most staff members at work?\n",
    "\n",
    "**Note:** Your histogram might look different everytime you run the cells above."
   ]
  },
  {
   "cell_type": "markdown",
   "id": "c59b2b71",
   "metadata": {},
   "source": [
    "## 3. Variance and Standard Deviation <a id='section3'></a>"
   ]
  },
  {
   "cell_type": "markdown",
   "id": "99dc7dae",
   "metadata": {},
   "source": [
    "Real world data is often but not always conveniently shaped like the neat bell curve above. But when we know that it is bell-shaped, or when we can somehow force it to be bell-shaped by sampling correctly, we gain all kinds of insights into what to expect from that dataset. And knowing what to expect from seemingly random numbers can be extremely useful. This is why data science has been treated like somewhat of a superpower by those who don't know how to use it. This is also why it has been gaining such widespread acceptance and popularity in technology, finance, and almost any other field you can imagine. And it all boils down to being able to understand your data.\n",
    "\n",
    "\n",
    "**Variance** and **standard deviation** are a key way to understand the shape of the so-called \"normal distribution,\" the famous bell curve."
   ]
  },
  {
   "cell_type": "code",
   "execution_count": 108,
   "id": "93a4a259",
   "metadata": {},
   "outputs": [
    {
     "data": {
      "text/plain": [
       "array([[<AxesSubplot:title={'center':'weight'}>]], dtype=object)"
      ]
     },
     "execution_count": 108,
     "metadata": {},
     "output_type": "execute_result"
    },
    {
     "data": {
      "image/png": "[encoded data removed]",
      "text/plain": [
       "<Figure size 432x288 with 1 Axes>"
      ]
     },
     "metadata": {
      "needs_background": "light"
     },
     "output_type": "display_data"
    }
   ],
   "source": [
    "# EXAMPLE\n",
    "\n",
    "random_weights.hist(bins=1000)"
   ]
  },
  {
   "cell_type": "markdown",
   "id": "25c197af",
   "metadata": {},
   "source": [
    "Our dataset in <b>random_weights</b> has a million points. But let's say that, for whatever reason, we didn't have access to all of this data and could only get some of the data points via a survey. This is what happened above when we only sample some members of our family.\n",
    "\n",
    "Could we predict what the shape of the histogram is and be able to predict where all the points are?\n",
    "    \n",
    "If you look closely at the bell curve above, you can see that it is almost perfectly symmetrical. If we didn't have all of these data points, but we knew where the center of the bell is located on the horizontal axis, maybe we could determine what the true shape of the bell really is.\n",
    "\n",
    "Since we don't have access to all the data, we'll just assume that the mean value of our sample is close to the mean value of the whole dataset. That's going to be the mean value we will use to reconstruct the bell curve for the full dataset.  "
   ]
  },
  {
   "cell_type": "code",
   "execution_count": 109,
   "id": "e6cf7b92",
   "metadata": {},
   "outputs": [
    {
     "data": {
      "text/html": [
       "<div>\n",
       "<style scoped>\n",
       "    .dataframe tbody tr th:only-of-type {\n",
       "        vertical-align: middle;\n",
       "    }\n",
       "\n",
       "    .dataframe tbody tr th {\n",
       "        vertical-align: top;\n",
       "    }\n",
       "\n",
       "    .dataframe thead th {\n",
       "        text-align: right;\n",
       "    }\n",
       "</style>\n",
       "<table border=\"1\" class=\"dataframe\">\n",
       "  <thead>\n",
       "    <tr style=\"text-align: right;\">\n",
       "      <th></th>\n",
       "      <th>family member</th>\n",
       "      <th>weight</th>\n",
       "      <th>height</th>\n",
       "    </tr>\n",
       "  </thead>\n",
       "  <tbody>\n",
       "    <tr>\n",
       "      <th>0</th>\n",
       "      <td>me</td>\n",
       "      <td>170</td>\n",
       "      <td>65</td>\n",
       "    </tr>\n",
       "    <tr>\n",
       "      <th>1</th>\n",
       "      <td>Younger Sister</td>\n",
       "      <td>45</td>\n",
       "      <td>50</td>\n",
       "    </tr>\n",
       "    <tr>\n",
       "      <th>2</th>\n",
       "      <td>Older Brother</td>\n",
       "      <td>170</td>\n",
       "      <td>72</td>\n",
       "    </tr>\n",
       "    <tr>\n",
       "      <th>3</th>\n",
       "      <td>Uncle Joe</td>\n",
       "      <td>200</td>\n",
       "      <td>72</td>\n",
       "    </tr>\n",
       "    <tr>\n",
       "      <th>4</th>\n",
       "      <td>Cousin Andrea</td>\n",
       "      <td>70</td>\n",
       "      <td>66</td>\n",
       "    </tr>\n",
       "  </tbody>\n",
       "</table>\n",
       "</div>"
      ],
      "text/plain": [
       "    family member  weight  height\n",
       "0              me     170      65\n",
       "1  Younger Sister      45      50\n",
       "2   Older Brother     170      72\n",
       "3       Uncle Joe     200      72\n",
       "4   Cousin Andrea      70      66"
      ]
     },
     "execution_count": 109,
     "metadata": {},
     "output_type": "execute_result"
    }
   ],
   "source": [
    "# EXAMPLE\n",
    "\n",
    "my_sample = pd.DataFrame(temporary_dictionary)\n",
    "my_sample"
   ]
  },
  {
   "cell_type": "code",
   "execution_count": 110,
   "id": "13868e02",
   "metadata": {},
   "outputs": [
    {
     "data": {
      "text/plain": [
       "110.0"
      ]
     },
     "execution_count": 110,
     "metadata": {},
     "output_type": "execute_result"
    }
   ],
   "source": [
    "# EXAMPLE\n",
    "\n",
    "my_data.loc[:, 'weight'].mean()"
   ]
  },
  {
   "cell_type": "markdown",
   "id": "94430a57",
   "metadata": {},
   "source": [
    "One more thing we need to know is how spread out the dataset is from its peak. Again, we only have a sample but if we take the mean and subtract each data point out of our mean, we can get a measure for our spread, our distance from the mean. \n",
    "\n",
    "We could take out each value from the weight column in our survey data, but that would be tedious. Instead let's make Pandas do some work for us. Since Pandas treats each column like a Numpy array, we can just subtract the mean from the column to get a new column with the correct values. "
   ]
  },
  {
   "cell_type": "code",
   "execution_count": 111,
   "id": "e4254674",
   "metadata": {},
   "outputs": [
    {
     "data": {
      "text/plain": [
       "0     60.0\n",
       "1    -65.0\n",
       "2     60.0\n",
       "3     90.0\n",
       "4    -40.0\n",
       "5   -105.0\n",
       "Name: weight, dtype: float64"
      ]
     },
     "execution_count": 111,
     "metadata": {},
     "output_type": "execute_result"
    }
   ],
   "source": [
    "# EXAMPLE\n",
    "\n",
    "sample_mean = my_data.loc[:, 'weight'].mean()\n",
    "sample_weights = my_data.loc[:, 'weight']\n",
    "\n",
    "distances_from_mean = sample_weights - sample_mean\n",
    "distances_from_mean"
   ]
  },
  {
   "cell_type": "markdown",
   "id": "d93ca8f8",
   "metadata": {},
   "source": [
    "Some of the values were smaller than the mean so they became negative and those which were higher than the mean stayed positive. We want to sum up these distances, but in order to prevent the negatives and positives from canceling each other out, let's square them before summing them up."
   ]
  },
  {
   "cell_type": "code",
   "execution_count": 126,
   "id": "c8e8f5fd",
   "metadata": {},
   "outputs": [
    {
     "data": {
      "text/plain": [
       "6430.0"
      ]
     },
     "execution_count": 126,
     "metadata": {},
     "output_type": "execute_result"
    }
   ],
   "source": [
    "# EXAMPLE\n",
    "\n",
    "#calculates len(distances_from_mean)\n",
    "\n",
    "variance = sum(distances_from_mean ** 2)/5\n",
    "variance"
   ]
  },
  {
   "cell_type": "markdown",
   "id": "09e19093",
   "metadata": {},
   "source": [
    "The variance is a good measure of the spread of our data, but it does have that square in it. We can't just drop it because the negative and positive values will cancel out. Instead we will just take the square root of the variance to get what we call the standard deviation of our data. "
   ]
  },
  {
   "cell_type": "code",
   "execution_count": 114,
   "id": "a74088f4",
   "metadata": {},
   "outputs": [
    {
     "data": {
      "text/plain": [
       "80.18728078691782"
      ]
     },
     "execution_count": 114,
     "metadata": {},
     "output_type": "execute_result"
    }
   ],
   "source": [
    "# EXAMPLE\n",
    "\n",
    "standard_deviation = variance**0.5\n",
    "standard_deviation"
   ]
  },
  {
   "cell_type": "markdown",
   "id": "5a73ed21",
   "metadata": {},
   "source": [
    "Now if we have all the ingredients to recreate our full distribution based on the sample data. We have our center for the bell curve, that's the sample mean. And we also have a measure for how spread out the histogram should be."
   ]
  },
  {
   "cell_type": "code",
   "execution_count": 115,
   "id": "e1bebd14",
   "metadata": {},
   "outputs": [],
   "source": [
    "# EXAMPLE\n",
    "\n",
    "recreated_data_array = np.random.normal(sample_mean, standard_deviation, 1000000).astype(int)\n",
    "recreated_data =  pd.DataFrame(recreated_data_array)"
   ]
  },
  {
   "cell_type": "code",
   "execution_count": 116,
   "id": "75314590",
   "metadata": {},
   "outputs": [
    {
     "data": {
      "text/plain": [
       "array([[<AxesSubplot:title={'center':'0'}>]], dtype=object)"
      ]
     },
     "execution_count": 116,
     "metadata": {},
     "output_type": "execute_result"
    },
    {
     "data": {
      "image/png": "[encoded data removed]",
      "text/plain": [
       "<Figure size 432x288 with 1 Axes>"
      ]
     },
     "metadata": {
      "needs_background": "light"
     },
     "output_type": "display_data"
    }
   ],
   "source": [
    "# EXAMPLE\n",
    "\n",
    "recreated_data.hist(bins=300)"
   ]
  },
  {
   "cell_type": "code",
   "execution_count": 117,
   "id": "21aaef0f",
   "metadata": {},
   "outputs": [
    {
     "data": {
      "image/png": "[encoded data removed]",
      "text/plain": [
       "<Figure size 432x288 with 1 Axes>"
      ]
     },
     "metadata": {
      "needs_background": "light"
     },
     "output_type": "display_data"
    }
   ],
   "source": [
    "# EXAMPLE\n",
    "\n",
    "import matplotlib.pyplot as plt\n",
    "plt.hist(x=recreated_data, bins=300);\n",
    "plt.plot([131, 131], [0, 16000], 'k-', lw=2);"
   ]
  },
  {
   "cell_type": "markdown",
   "id": "f517e128",
   "metadata": {},
   "source": [
    "As intended, our recreated data is centered around the mean value from our sample (131 lbs)."
   ]
  },
  {
   "cell_type": "code",
   "execution_count": 118,
   "id": "fd0a4e44",
   "metadata": {},
   "outputs": [
    {
     "data": {
      "image/png": "[encoded data removed]",
      "text/plain": [
       "<Figure size 432x288 with 1 Axes>"
      ]
     },
     "metadata": {
      "needs_background": "light"
     },
     "output_type": "display_data"
    }
   ],
   "source": [
    "# EXAMPLE\n",
    "\n",
    "plt.hist(x=recreated_data, bins=300);\n",
    "plt.plot([131, 131], [0, 16000], 'k-', lw=2)\n",
    "plt.plot([recreated_data.mean()-recreated_data.std(), recreated_data.mean()-recreated_data.std()], [0, 16000], 'v-', lw=2)\n",
    "plt.plot([recreated_data.mean()+recreated_data.std(), recreated_data.mean()+recreated_data.std()], [0, 16000], 'v-', lw=2);"
   ]
  },
  {
   "cell_type": "markdown",
   "id": "36ee9c3a",
   "metadata": {},
   "source": [
    "And the steepest part of the histogram is contained about one standard deviation below and above the mean. The histogram becomes less steep and starts to level out at the two outer lines.\n",
    "\n",
    "This is a simple technique to generate data and make conclusions about some real world data, even if we only have access to a sampling of points."
   ]
  },
  {
   "cell_type": "markdown",
   "id": "allied-arena",
   "metadata": {},
   "source": [
    "To practice working with variances and standard deviations, let's go back to our customer visits to the store DataFrame. We will calculate the mean for you, you need to find the `store_distance_from_mean`."
   ]
  },
  {
   "cell_type": "code",
   "execution_count": 123,
   "id": "activated-turner",
   "metadata": {},
   "outputs": [
    {
     "data": {
      "text/plain": [
       "0       2.5302\n",
       "1       4.5302\n",
       "2      -3.4698\n",
       "3       4.5302\n",
       "4      -0.4698\n",
       "         ...  \n",
       "9995    0.5302\n",
       "9996   -4.4698\n",
       "9997   -0.4698\n",
       "9998    5.5302\n",
       "9999    5.5302\n",
       "Name: hours, Length: 10000, dtype: float64"
      ]
     },
     "execution_count": 123,
     "metadata": {},
     "output_type": "execute_result"
    }
   ],
   "source": [
    "# EXERCISE\n",
    "\n",
    "store_sample_mean = store_customers.loc[:, 'hours'].mean()\n",
    "store_sample_hours = store_customers.loc[:, 'hours']\n",
    "\n",
    "store_distances_from_mean = store_sample_hours - store_sample_mean #SOLUTION\n",
    "store_distances_from_mean"
   ]
  },
  {
   "cell_type": "markdown",
   "id": "graduate-excerpt",
   "metadata": {},
   "source": [
    "Now we need to find the variance of our hours column. Remember that you first need to square each value, then add them all together, and only then divide them by the total number of values we had in our column.\n",
    "\n",
    "**Hint:** we had 10,000 values."
   ]
  },
  {
   "cell_type": "code",
   "execution_count": 125,
   "id": "median-anniversary",
   "metadata": {},
   "outputs": [
    {
     "data": {
      "text/plain": [
       "9.068087960000119"
      ]
     },
     "execution_count": 125,
     "metadata": {},
     "output_type": "execute_result"
    }
   ],
   "source": [
    "# EXERCISE\n",
    "\n",
    "store_variance = ...\n",
    "store_variance"
   ]
  },
  {
   "cell_type": "markdown",
   "id": "registered-europe",
   "metadata": {},
   "source": [
    "Now, just like we did with variance, let's calculate our `store_standard_deviation`."
   ]
  },
  {
   "cell_type": "code",
   "execution_count": 127,
   "id": "beautiful-remedy",
   "metadata": {},
   "outputs": [
    {
     "data": {
      "text/plain": [
       "3.011326611312715"
      ]
     },
     "execution_count": 127,
     "metadata": {},
     "output_type": "execute_result"
    }
   ],
   "source": [
    "# EXERCISE\n",
    "\n",
    "store_standard_deviation = ...\n",
    "store_standard_deviation"
   ]
  },
  {
   "cell_type": "markdown",
   "id": "better-wings",
   "metadata": {},
   "source": [
    "Is your actual mean at the same hour you predicted to be the busiest? "
   ]
  },
  {
   "cell_type": "code",
   "execution_count": 137,
   "id": "national-northern",
   "metadata": {},
   "outputs": [
    {
     "data": {
      "image/png": "[encoded data removed]",
      "text/plain": [
       "<Figure size 432x288 with 1 Axes>"
      ]
     },
     "metadata": {
      "needs_background": "light"
     },
     "output_type": "display_data"
    }
   ],
   "source": [
    "plt.hist(x=store_customers, bins=24);\n",
    "plt.plot([12, 12], [0, 1500], 'k-', lw=2)\n",
    "plt.plot([store_customers.mean()-store_customers.std(), store_customers.mean()-store_customers.std()], [0, 1500], 'v-', lw=2)\n",
    "plt.plot([store_customers.mean()+store_customers.std(), store_customers.mean()+store_customers.std()], [0, 1500], 'v-', lw=2);"
   ]
  },
  {
   "cell_type": "markdown",
   "id": "champion-smile",
   "metadata": {},
   "source": [
    "---\n",
    "Notebook developed by: Kseniya Usovich"
   ]
  }
 ],
 "metadata": {
  "kernelspec": {
   "display_name": "Python 3",
   "language": "python",
   "name": "python3"
  },
  "language_info": {
   "codemirror_mode": {
    "name": "ipython",
    "version": 3
   },
   "file_extension": ".py",
   "mimetype": "text/x-python",
   "name": "python",
   "nbconvert_exporter": "python",
   "pygments_lexer": "ipython3",
   "version": "3.9.1"
  }
 },
 "nbformat": 4,
 "nbformat_minor": 5
}
